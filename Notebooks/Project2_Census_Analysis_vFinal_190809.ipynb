{
 "cells": [
  {
   "cell_type": "markdown",
   "metadata": {},
   "source": [
    "## Project 2\n",
    "### Census and Hospice Benefiary Analysis\n",
    "###### As at August 8, 2019\n",
    "State Level Census and HC Analysis"
   ]
  },
  {
   "cell_type": "markdown",
   "metadata": {},
   "source": [
    "### Import Standard Libraries"
   ]
  },
  {
   "cell_type": "code",
   "execution_count": 344,
   "metadata": {},
   "outputs": [],
   "source": [
    "import pandas as pd\n",
    "import numpy as np\n",
    "import math\n",
    "import matplotlib.pyplot as plt\n",
    "import seaborn as sns\n",
    "import statsmodels.api as sm\n",
    "import xlrd"
   ]
  },
  {
   "cell_type": "markdown",
   "metadata": {},
   "source": [
    "### Define Import Functions\n",
    "\n",
    "Define import functions"
   ]
  },
  {
   "cell_type": "code",
   "execution_count": 345,
   "metadata": {},
   "outputs": [],
   "source": [
    "def import_csv(input_file_name):\n",
    "    \"\"\"\n",
    "    Define function to import csv file\n",
    "    \"\"\"\n",
    "    # [TBU] Add error handling\n",
    "    return pd.read_csv(input_file_name)\n",
    "\n",
    "def import_xlsx(input_file_name, worksheet_name):\n",
    "    \"\"\"\n",
    "    Define function to import xlsx file\n",
    "    \"\"\"\n",
    "    return pd.read_excel(input_file_name)\n",
    "\n",
    "def df_properties(pd_dataframe):\n",
    "    \"\"\"\n",
    "    List basic properties of pandas dataframe\n",
    "    \"\"\"\n",
    "    shape = pd_dataframe.shape\n",
    "    head = pd_dataframe.head()\n",
    "    de_types = pd_dataframe.dtypes\n",
    "    # Check all variables for NaNs (missing values)\n",
    "    missing_de_vals = pd_dataframe.isnull().sum()\n",
    "    text_out = \"\\nDataframe shape:\\t\"+ str(shape) +\\\n",
    "                \"\\n\\nDataframe head:\\n\" + str(head) +\\\n",
    "                \"\\n\\nData element types:\\n\" + str(de_types) +\\\n",
    "                \"\\n\\nMissing values by data element:\\n\" + str(missing_de_vals)\n",
    "    return text_out\n"
   ]
  },
  {
   "cell_type": "markdown",
   "metadata": {},
   "source": [
    "### Define Utility Functions\n"
   ]
  },
  {
   "cell_type": "code",
   "execution_count": 346,
   "metadata": {},
   "outputs": [],
   "source": [
    "def rem_dups_in_list(list_in):\n",
    "    \"\"\"\n",
    "    Remove any duplicate values in a listb\n",
    "    \"\"\"\n",
    "    return list(dict.fromkeys(list_in))\n"
   ]
  },
  {
   "cell_type": "markdown",
   "metadata": {},
   "source": [
    "### Define Error Check Functions"
   ]
  },
  {
   "cell_type": "code",
   "execution_count": 347,
   "metadata": {},
   "outputs": [],
   "source": [
    "def check_nan_cols(dataframe):\n",
    "    \"\"\"\n",
    "    Identify columns containing NaNs\n",
    "    \"\"\"\n",
    "    cols_w_nan = dataframe.isna().any()\n",
    "    return cols_w_nan\n",
    "    \n",
    "def cols_nan(dataframe):\n",
    "    \"\"\"\n",
    "    List of cols with NaNs\n",
    "    \"\"\"\n",
    "    col_names = dataframe.columns[dataframe.isna().any()].tolist()\n",
    "    return col_names\n",
    "\n",
    "def cols_nan_sub(dataframe):\n",
    "    \"\"\"\n",
    "    Select cols with NaN\n",
    "    \"\"\"\n",
    "    nan_sub = dataframe.loc[:, dataframe.isna().any()]\n",
    "    return nan_sub\n",
    "\n",
    "def rows_nan_sub(dataframe, columns):\n",
    "    \"\"\"\n",
    "    Select only rows where column is NaN\n",
    "    \"\"\"\n",
    "    nan_sub = dataframe[dataframe[columns].isnull()]\n",
    "    return nan_sub"
   ]
  },
  {
   "cell_type": "markdown",
   "metadata": {},
   "source": [
    "### Define Chart Functions\n"
   ]
  },
  {
   "cell_type": "code",
   "execution_count": 348,
   "metadata": {},
   "outputs": [],
   "source": [
    "def plot_chart(title, x_label, y_label):\n",
    "    plt.title(title)\n",
    "    plt.xlabel(x_label)\n",
    "    plt.ylabel(y_label)\n",
    "    plt.show()\n",
    "    return\n",
    "\n",
    "def line_plot(x_val_list, y_val_list, title, x_label, y_label):\n",
    "    plt.plot(x_val_list, y_val_list)\n",
    "    plot_chart(title, x_label, y_label)\n",
    "    return\n",
    "\n",
    "def scatter_plot(x_val_list, y_val_list, title, x_label, y_label):\n",
    "    plt.scatter(x_val_list, y_val_list)\n",
    "    plot_chart(title, x_label, y_label)\n",
    "    return\n",
    "\n",
    "def hist_plot(data_list, bin_count, title, x_label, y_label):\n",
    "    plt.hist(data_list, bins = bin_count)\n",
    "    plot_chart(title, x_label, y_label)\n",
    "    return\n",
    "\n",
    "def box_plot(data_list, title, x_label):\n",
    "    plt.boxplot(data_list)\n",
    "    y_label = \"Value\"\n",
    "    plt.yticks(range(min(data_list), max(data_list)))\n",
    "    plot_chart(title, x_label, y_label)\n",
    "    return\n",
    "\n",
    "def bar_chart(cat_names_list, cat_values_list, title, x_label, y_label):\n",
    "    y_positions = range(len(cat_names_list))\n",
    "    plt.bar(y_positions, cat_values_list)\n",
    "    plt.xticks(y_positions, cat_names_list)\n",
    "    plot_chart(title, x_label, y_label)\n",
    "    return\n"
   ]
  },
  {
   "cell_type": "markdown",
   "metadata": {},
   "source": [
    "### Import Cleansed Datasets\n"
   ]
  },
  {
   "cell_type": "code",
   "execution_count": 349,
   "metadata": {
    "scrolled": false
   },
   "outputs": [],
   "source": [
    "# Import income and population dataset\n",
    "master_census_zip = import_csv(\"master_census_zip_final.csv\")\n",
    "master_census_ssa_fips = import_csv(\"master_census_by_SSA_FIPS.csv\")\n",
    "master_hc = import_csv(\"bene_car_inp_outp_state_county_df.csv\")\n",
    "master_hc_state = import_csv(\"VM-bene_car_inp_outp_state_df.csv\")\n",
    "\n",
    "# Import state abbreviation mapping\n",
    "dat_state_map = import_csv(\"BenStateTable.csv\")\n",
    "dat_state_map = dat_state_map[[\"Code\", \"Label\", \"State_Name\"]]\n",
    "# Rename data elements\n",
    "dat_state_map = dat_state_map.rename(columns = {\"Code\":\"ssa_state_code\",\n",
    "                                                \"Label\":\"state\",\n",
    "                                                \"State_Name\":\"state_name\"\n",
    "                                               })\n",
    "\n",
    "#print(df_properties(master_census_ssa_fips))\n",
    "#print(df_properties(master_hc))\n",
    "#print(df_properties(master_hc_state))\n"
   ]
  },
  {
   "cell_type": "markdown",
   "metadata": {},
   "source": [
    "### Cleanse HC dataset"
   ]
  },
  {
   "cell_type": "markdown",
   "metadata": {},
   "source": [
    "Create state level dataframe for HC dataset"
   ]
  },
  {
   "cell_type": "code",
   "execution_count": 350,
   "metadata": {},
   "outputs": [],
   "source": [
    "# Merge master_hc_state with state level census data\n",
    "master_state = pd.merge(dat_state_map, master_hc_state,\n",
    "                           left_on=\"state_name\", right_on=\"SP_State_full_name\", how=\"inner\")\n",
    "\n",
    "# Rename columns\n",
    "master_state = master_state.rename(columns = {\"DESYNPUF_ID_count\":\"ben_count_total\",\n",
    "                                              \"HOSPICE_FLAG_sum\":\"ben_count_hospice\",\n",
    "                                              \"percent_hospice\":\"pct_hospice\"})\n",
    "master_state = master_state[[\"ssa_state_code\", \"state\", \"state_name\",\n",
    "                             \"ben_count_total\", \"ben_count_hospice\", \"pct_hospice\"]]\n",
    "#master_state"
   ]
  },
  {
   "cell_type": "code",
   "execution_count": 351,
   "metadata": {},
   "outputs": [],
   "source": [
    "# Aggregate census data to state level\n",
    "col_group = [\"state\", \"state_name\"]\n",
    "master_census_state = master_census_zip.groupby(col_group).agg({\"population\":\"sum\",\n",
    "                                                                  \"income\":\"sum\"})\n",
    "master_census_state[\"incpp_state\"] = master_census_state.apply(lambda row: row.income/row.population, \n",
    "                                                               axis=1)\n",
    "# Sort master_state by incpp_state\n",
    "master_census_state.sort_values(by=[\"incpp_state\"], ascending=False, inplace=True)\n",
    "master_census_state.reset_index(inplace=True)\n",
    "\n",
    "#print(master_census_state.population.sum())\n",
    "#print(master_census_state.income.sum())\n",
    "#master_census_state"
   ]
  },
  {
   "cell_type": "code",
   "execution_count": 352,
   "metadata": {},
   "outputs": [],
   "source": [
    "# Merge state level HC and census data\n",
    "master_state = pd.merge(master_census_state, master_state,\n",
    "                        on=\"state_name\", how=\"inner\")\n",
    "master_cols = ['ssa_state_code', 'state_x', 'state_name', \n",
    "               'population', 'income', 'incpp_state',\n",
    "               'ben_count_total', 'ben_count_hospice','pct_hospice']\n",
    "master_state = master_state[master_cols]\n",
    "master_state = master_state.rename(columns = {\"state_x\":\"state\"})\n",
    "#master_state\n"
   ]
  },
  {
   "cell_type": "code",
   "execution_count": 375,
   "metadata": {},
   "outputs": [],
   "source": [
    "# Create additional fields\n",
    "master_state[\"bps_ben_pop\"] = master_state.apply(lambda row: row.ben_count_total/row.population*1e5, axis=1)\n",
    "master_state[\"bps_ben_hosp_pop\"] = master_state.apply(lambda row: row.ben_count_hospice/row.population*1e5, axis=1)\n",
    "\n",
    "# Scale per capita income to thousands, population to millions, and total state income to millions\n",
    "master_state[\"incpp_state_k\"] = master_state.apply(lambda row: row.incpp_state/1e3, axis=1)\n",
    "master_state[\"log_incpp_state_k\"] = master_state.apply(lambda row: math.log(row.incpp_state/1e3, 10), axis=1)\n",
    "master_state[\"log_incpp_state\"] = master_state.apply(lambda row: math.log(row.incpp_state, 10), axis=1)\n",
    "master_state[\"population_M\"] = master_state.apply(lambda row: row.population/1e6, axis=1)\n",
    "master_state[\"income_B\"] = master_state.apply(lambda row: row.income/1e9, axis=1)\n",
    "\n",
    "# Round scaled values\n",
    "master_state.incpp_state_k = master_state.incpp_state_k.round(3)\n",
    "master_state.population_M = master_state.population_M.round(6)\n",
    "master_state.income_B = master_state.income_B.round(6)\n",
    "\n",
    "#master_state\n",
    "#print(df_properties(master_state))\n"
   ]
  },
  {
   "cell_type": "code",
   "execution_count": 354,
   "metadata": {},
   "outputs": [
    {
     "name": "stdout",
     "output_type": "stream",
     "text": [
      "299920247\n",
      "299920247\n",
      "21158697997876.223\n",
      "21158697997876.223\n"
     ]
    }
   ],
   "source": [
    "# Double check aggregate values\n",
    "print(master_census_state.population.sum())\n",
    "print(master_state.population.sum())\n",
    "\n",
    "print(master_census_state.income.sum())\n",
    "print(master_state.income.sum())"
   ]
  },
  {
   "cell_type": "markdown",
   "metadata": {},
   "source": [
    "### Exploratory Data Analysis at State Level"
   ]
  },
  {
   "cell_type": "markdown",
   "metadata": {},
   "source": [
    "#### Plot density and histogram for state population"
   ]
  },
  {
   "cell_type": "code",
   "execution_count": 355,
   "metadata": {},
   "outputs": [
    {
     "data": {
      "image/png": "[encoded data removed]",
      "text/plain": [
       "<Figure size 432x288 with 1 Axes>"
      ]
     },
     "metadata": {
      "needs_background": "light"
     },
     "output_type": "display_data"
    }
   ],
   "source": [
    "# Density plot and histogram\n",
    "bin_count = 15\n",
    "x = [\"population_M\", \"incpp_state_k\"]\n",
    "chart_dat = master_state[x]\n",
    "x_mu = chart_dat.population_M.mean()\n",
    "x_std = chart_dat.population_M.std()\n",
    "chart_title = \"Density and Histogram for State Populations\"\n",
    "chart_xax = \"Population (M)\" \n",
    "chart_yax = \"Frequency/Density\"\n",
    "\n",
    "sns.distplot(chart_dat.population_M, \n",
    "             hist=True, \n",
    "             kde=True, \n",
    "             bins=bin_count, \n",
    "             color = 'darkblue', \n",
    "             hist_kws={'edgecolor':'black'},\n",
    "             kde_kws={'linewidth': 4})\n",
    "\n",
    "plt.title(chart_title, fontsize=14)\n",
    "plt.xlabel(chart_xax, fontsize=12)\n",
    "plt.ylabel(chart_yax, fontsize=12)\n",
    "\n",
    "x_norm = np.random.normal(loc = x_mu, scale = x_std, size = 5000)\n",
    "sns.kdeplot(x_norm, color=\"yellow\", shade = True)\n",
    "\n",
    "plt.show()\n"
   ]
  },
  {
   "cell_type": "markdown",
   "metadata": {},
   "source": [
    "#### Display summary statistics for population"
   ]
  },
  {
   "cell_type": "code",
   "execution_count": 356,
   "metadata": {},
   "outputs": [
    {
     "data": {
      "text/plain": [
       "count    51.000000\n",
       "mean      5.880789\n",
       "std       6.737994\n",
       "min       0.556790\n",
       "25%       1.636703\n",
       "50%       4.295770\n",
       "75%       6.560871\n",
       "max      36.922861\n",
       "Name: population_M, dtype: float64"
      ]
     },
     "execution_count": 356,
     "metadata": {},
     "output_type": "execute_result"
    }
   ],
   "source": [
    "desc_population_M = chart_dat.population_M.describe()\n",
    "desc_population_M"
   ]
  },
  {
   "cell_type": "markdown",
   "metadata": {},
   "source": [
    "#### Plot density and histogram for per capita income by state"
   ]
  },
  {
   "cell_type": "code",
   "execution_count": 357,
   "metadata": {},
   "outputs": [
    {
     "data": {
      "image/png": "[encoded data removed]",
      "text/plain": [
       "<Figure size 432x288 with 1 Axes>"
      ]
     },
     "metadata": {
      "needs_background": "light"
     },
     "output_type": "display_data"
    }
   ],
   "source": [
    "# Density plot and histogram\n",
    "chart_title = \"Density and Histogram for Per Capita Income by State\"\n",
    "chart_xax = \"Per Capita Income ($K)\" \n",
    "chart_yax = \"Frequency/Density\"\n",
    "x_mu = chart_dat.incpp_state_k.mean()\n",
    "x_std = chart_dat.incpp_state_k.std()\n",
    "\n",
    "\n",
    "sns.distplot(chart_dat.incpp_state_k, \n",
    "             hist=True, \n",
    "             kde=True, \n",
    "             bins=bin_count, \n",
    "             color = 'gray', \n",
    "             hist_kws={'edgecolor':'black'},\n",
    "             kde_kws={'linewidth': 4})\n",
    "\n",
    "plt.title(chart_title, fontsize=14)\n",
    "plt.xlabel(chart_xax, fontsize=12)\n",
    "plt.ylabel(chart_yax, fontsize=12)\n",
    "\n",
    "x_norm = np.random.normal(loc = x_mu, scale = x_std, size = 5000)\n",
    "sns.kdeplot(x_norm, color=\"yellow\", shade = True)\n",
    "\n",
    "plt.show()\n"
   ]
  },
  {
   "cell_type": "markdown",
   "metadata": {},
   "source": [
    "#### Display summary statistics for per capita income by state"
   ]
  },
  {
   "cell_type": "code",
   "execution_count": 358,
   "metadata": {
    "scrolled": true
   },
   "outputs": [
    {
     "data": {
      "text/plain": [
       "count    51.000000\n",
       "mean     68.365882\n",
       "std      11.029982\n",
       "min      50.729000\n",
       "25%      60.070000\n",
       "50%      66.159000\n",
       "75%      75.034500\n",
       "max      95.846000\n",
       "Name: incpp_state_k, dtype: float64"
      ]
     },
     "execution_count": 358,
     "metadata": {},
     "output_type": "execute_result"
    }
   ],
   "source": [
    "desc_incpp_state_k = chart_dat.incpp_state_k.describe()\n",
    "desc_incpp_state_k"
   ]
  },
  {
   "cell_type": "markdown",
   "metadata": {},
   "source": [
    "#### Joint Distribution Between State Population and Per Capita Income, Along with Associated Marginal Distributions\n"
   ]
  },
  {
   "cell_type": "code",
   "execution_count": 359,
   "metadata": {
    "scrolled": true
   },
   "outputs": [
    {
     "data": {
      "image/png": "[encoded data removed]",
      "text/plain": [
       "<Figure size 432x432 with 3 Axes>"
      ]
     },
     "metadata": {},
     "output_type": "display_data"
    }
   ],
   "source": [
    "with sns.axes_style(\"white\"):\n",
    "    sns.jointplot(\"population_M\", \"incpp_state_k\", \n",
    "                  data = master_state, \n",
    "                  kind ='reg')\n",
    "\n",
    "chart_xax = \"Population (M)\" \n",
    "chart_yax = \"Per Capita Income ($K)\"\n",
    "\n",
    "plt.xlabel(chart_xax, fontsize=12)\n",
    "plt.ylabel(chart_yax, fontsize=12)\n",
    "\n",
    "plt.show()\n"
   ]
  },
  {
   "cell_type": "markdown",
   "metadata": {},
   "source": [
    "#### Run a simple regression"
   ]
  },
  {
   "cell_type": "code",
   "execution_count": 360,
   "metadata": {},
   "outputs": [
    {
     "data": {
      "text/html": [
       "<table class=\"simpletable\">\n",
       "<caption>OLS Regression Results</caption>\n",
       "<tr>\n",
       "  <th>Dep. Variable:</th>        <td>income_B</td>     <th>  R-squared (uncentered):</th>      <td>   0.987</td>\n",
       "</tr>\n",
       "<tr>\n",
       "  <th>Model:</th>                   <td>OLS</td>       <th>  Adj. R-squared (uncentered):</th> <td>   0.986</td>\n",
       "</tr>\n",
       "<tr>\n",
       "  <th>Method:</th>             <td>Least Squares</td>  <th>  F-statistic:       </th>          <td>   3702.</td>\n",
       "</tr>\n",
       "<tr>\n",
       "  <th>Date:</th>             <td>Fri, 09 Aug 2019</td> <th>  Prob (F-statistic):</th>          <td>1.48e-48</td>\n",
       "</tr>\n",
       "<tr>\n",
       "  <th>Time:</th>                 <td>21:38:23</td>     <th>  Log-Likelihood:    </th>          <td> -293.23</td>\n",
       "</tr>\n",
       "<tr>\n",
       "  <th>No. Observations:</th>      <td>    51</td>      <th>  AIC:               </th>          <td>   588.5</td>\n",
       "</tr>\n",
       "<tr>\n",
       "  <th>Df Residuals:</th>          <td>    50</td>      <th>  BIC:               </th>          <td>   590.4</td>\n",
       "</tr>\n",
       "<tr>\n",
       "  <th>Df Model:</th>              <td>     1</td>      <th>                     </th>              <td> </td>   \n",
       "</tr>\n",
       "<tr>\n",
       "  <th>Covariance Type:</th>      <td>nonrobust</td>    <th>                     </th>              <td> </td>   \n",
       "</tr>\n",
       "</table>\n",
       "<table class=\"simpletable\">\n",
       "<tr>\n",
       "        <td></td>          <th>coef</th>     <th>std err</th>      <th>t</th>      <th>P>|t|</th>  <th>[0.025</th>    <th>0.975]</th>  \n",
       "</tr>\n",
       "<tr>\n",
       "  <th>population_M</th> <td>   73.5272</td> <td>    1.208</td> <td>   60.844</td> <td> 0.000</td> <td>   71.100</td> <td>   75.954</td>\n",
       "</tr>\n",
       "</table>\n",
       "<table class=\"simpletable\">\n",
       "<tr>\n",
       "  <th>Omnibus:</th>       <td>23.266</td> <th>  Durbin-Watson:     </th> <td>   1.037</td>\n",
       "</tr>\n",
       "<tr>\n",
       "  <th>Prob(Omnibus):</th> <td> 0.000</td> <th>  Jarque-Bera (JB):  </th> <td>  43.529</td>\n",
       "</tr>\n",
       "<tr>\n",
       "  <th>Skew:</th>          <td> 1.359</td> <th>  Prob(JB):          </th> <td>3.53e-10</td>\n",
       "</tr>\n",
       "<tr>\n",
       "  <th>Kurtosis:</th>      <td> 6.619</td> <th>  Cond. No.          </th> <td>    1.00</td>\n",
       "</tr>\n",
       "</table><br/><br/>Warnings:<br/>[1] Standard Errors assume that the covariance matrix of the errors is correctly specified."
      ],
      "text/plain": [
       "<class 'statsmodels.iolib.summary.Summary'>\n",
       "\"\"\"\n",
       "                                 OLS Regression Results                                \n",
       "=======================================================================================\n",
       "Dep. Variable:               income_B   R-squared (uncentered):                   0.987\n",
       "Model:                            OLS   Adj. R-squared (uncentered):              0.986\n",
       "Method:                 Least Squares   F-statistic:                              3702.\n",
       "Date:                Fri, 09 Aug 2019   Prob (F-statistic):                    1.48e-48\n",
       "Time:                        21:38:23   Log-Likelihood:                         -293.23\n",
       "No. Observations:                  51   AIC:                                      588.5\n",
       "Df Residuals:                      50   BIC:                                      590.4\n",
       "Df Model:                           1                                                  \n",
       "Covariance Type:            nonrobust                                                  \n",
       "================================================================================\n",
       "                   coef    std err          t      P>|t|      [0.025      0.975]\n",
       "--------------------------------------------------------------------------------\n",
       "population_M    73.5272      1.208     60.844      0.000      71.100      75.954\n",
       "==============================================================================\n",
       "Omnibus:                       23.266   Durbin-Watson:                   1.037\n",
       "Prob(Omnibus):                  0.000   Jarque-Bera (JB):               43.529\n",
       "Skew:                           1.359   Prob(JB):                     3.53e-10\n",
       "Kurtosis:                       6.619   Cond. No.                         1.00\n",
       "==============================================================================\n",
       "\n",
       "Warnings:\n",
       "[1] Standard Errors assume that the covariance matrix of the errors is correctly specified.\n",
       "\"\"\""
      ]
     },
     "execution_count": 360,
     "metadata": {},
     "output_type": "execute_result"
    }
   ],
   "source": [
    "X = master_state[\"population_M\"]\n",
    "#y = master_state[\"incpp_state_k\"]\n",
    "y = master_state[\"income_B\"]\n",
    "\n",
    "# Note the difference in argument order\n",
    "model = sm.OLS(y, X).fit()\n",
    "predictions = model.predict(X) # make the predictions by the model\n",
    "\n",
    "# Print out the statistics\n",
    "model.summary()"
   ]
  },
  {
   "cell_type": "markdown",
   "metadata": {},
   "source": [
    "#### Joint Distribution Between State Population and Per Capita Income, Along with Associated Marginal Distributions\n",
    "\n",
    "There is a lot of clustering for lower state population values. See if a log-transform of the per capita income results in a stronger relationship\n"
   ]
  },
  {
   "cell_type": "code",
   "execution_count": 361,
   "metadata": {
    "scrolled": false
   },
   "outputs": [
    {
     "data": {
      "image/png": "[encoded data removed]",
      "text/plain": [
       "<Figure size 432x432 with 3 Axes>"
      ]
     },
     "metadata": {},
     "output_type": "display_data"
    }
   ],
   "source": [
    "with sns.axes_style(\"white\"):\n",
    "    sns.jointplot(\"population_M\", \"income_B\", \n",
    "                  data = master_state, \n",
    "                  kind ='reg')\n",
    "\n",
    "chart_xax = \"Population (M)\" \n",
    "chart_yax = \"Income ($B)\"\n",
    "\n",
    "plt.xlabel(chart_xax, fontsize=12)\n",
    "plt.ylabel(chart_yax, fontsize=12)\n",
    "\n",
    "plt.show()\n"
   ]
  },
  {
   "cell_type": "markdown",
   "metadata": {},
   "source": [
    "#### Run a simple regression"
   ]
  },
  {
   "cell_type": "code",
   "execution_count": 362,
   "metadata": {},
   "outputs": [
    {
     "data": {
      "text/html": [
       "<table class=\"simpletable\">\n",
       "<caption>OLS Regression Results</caption>\n",
       "<tr>\n",
       "  <th>Dep. Variable:</th>        <td>income_B</td>     <th>  R-squared (uncentered):</th>      <td>   0.987</td>\n",
       "</tr>\n",
       "<tr>\n",
       "  <th>Model:</th>                   <td>OLS</td>       <th>  Adj. R-squared (uncentered):</th> <td>   0.986</td>\n",
       "</tr>\n",
       "<tr>\n",
       "  <th>Method:</th>             <td>Least Squares</td>  <th>  F-statistic:       </th>          <td>   3702.</td>\n",
       "</tr>\n",
       "<tr>\n",
       "  <th>Date:</th>             <td>Fri, 09 Aug 2019</td> <th>  Prob (F-statistic):</th>          <td>1.48e-48</td>\n",
       "</tr>\n",
       "<tr>\n",
       "  <th>Time:</th>                 <td>21:38:24</td>     <th>  Log-Likelihood:    </th>          <td> -293.23</td>\n",
       "</tr>\n",
       "<tr>\n",
       "  <th>No. Observations:</th>      <td>    51</td>      <th>  AIC:               </th>          <td>   588.5</td>\n",
       "</tr>\n",
       "<tr>\n",
       "  <th>Df Residuals:</th>          <td>    50</td>      <th>  BIC:               </th>          <td>   590.4</td>\n",
       "</tr>\n",
       "<tr>\n",
       "  <th>Df Model:</th>              <td>     1</td>      <th>                     </th>              <td> </td>   \n",
       "</tr>\n",
       "<tr>\n",
       "  <th>Covariance Type:</th>      <td>nonrobust</td>    <th>                     </th>              <td> </td>   \n",
       "</tr>\n",
       "</table>\n",
       "<table class=\"simpletable\">\n",
       "<tr>\n",
       "        <td></td>          <th>coef</th>     <th>std err</th>      <th>t</th>      <th>P>|t|</th>  <th>[0.025</th>    <th>0.975]</th>  \n",
       "</tr>\n",
       "<tr>\n",
       "  <th>population_M</th> <td>   73.5272</td> <td>    1.208</td> <td>   60.844</td> <td> 0.000</td> <td>   71.100</td> <td>   75.954</td>\n",
       "</tr>\n",
       "</table>\n",
       "<table class=\"simpletable\">\n",
       "<tr>\n",
       "  <th>Omnibus:</th>       <td>23.266</td> <th>  Durbin-Watson:     </th> <td>   1.037</td>\n",
       "</tr>\n",
       "<tr>\n",
       "  <th>Prob(Omnibus):</th> <td> 0.000</td> <th>  Jarque-Bera (JB):  </th> <td>  43.529</td>\n",
       "</tr>\n",
       "<tr>\n",
       "  <th>Skew:</th>          <td> 1.359</td> <th>  Prob(JB):          </th> <td>3.53e-10</td>\n",
       "</tr>\n",
       "<tr>\n",
       "  <th>Kurtosis:</th>      <td> 6.619</td> <th>  Cond. No.          </th> <td>    1.00</td>\n",
       "</tr>\n",
       "</table><br/><br/>Warnings:<br/>[1] Standard Errors assume that the covariance matrix of the errors is correctly specified."
      ],
      "text/plain": [
       "<class 'statsmodels.iolib.summary.Summary'>\n",
       "\"\"\"\n",
       "                                 OLS Regression Results                                \n",
       "=======================================================================================\n",
       "Dep. Variable:               income_B   R-squared (uncentered):                   0.987\n",
       "Model:                            OLS   Adj. R-squared (uncentered):              0.986\n",
       "Method:                 Least Squares   F-statistic:                              3702.\n",
       "Date:                Fri, 09 Aug 2019   Prob (F-statistic):                    1.48e-48\n",
       "Time:                        21:38:24   Log-Likelihood:                         -293.23\n",
       "No. Observations:                  51   AIC:                                      588.5\n",
       "Df Residuals:                      50   BIC:                                      590.4\n",
       "Df Model:                           1                                                  \n",
       "Covariance Type:            nonrobust                                                  \n",
       "================================================================================\n",
       "                   coef    std err          t      P>|t|      [0.025      0.975]\n",
       "--------------------------------------------------------------------------------\n",
       "population_M    73.5272      1.208     60.844      0.000      71.100      75.954\n",
       "==============================================================================\n",
       "Omnibus:                       23.266   Durbin-Watson:                   1.037\n",
       "Prob(Omnibus):                  0.000   Jarque-Bera (JB):               43.529\n",
       "Skew:                           1.359   Prob(JB):                     3.53e-10\n",
       "Kurtosis:                       6.619   Cond. No.                         1.00\n",
       "==============================================================================\n",
       "\n",
       "Warnings:\n",
       "[1] Standard Errors assume that the covariance matrix of the errors is correctly specified.\n",
       "\"\"\""
      ]
     },
     "execution_count": 362,
     "metadata": {},
     "output_type": "execute_result"
    }
   ],
   "source": [
    "X = master_state[\"population_M\"]\n",
    "y = master_state[\"income_B\"]\n",
    "\n",
    "# Note the difference in argument order\n",
    "model = sm.OLS(y, X).fit()\n",
    "predictions = model.predict(X) # make the predictions by the model\n",
    "\n",
    "# Print out the statistics\n",
    "model.summary()"
   ]
  },
  {
   "cell_type": "markdown",
   "metadata": {},
   "source": [
    "#### Density and Histogram for Medicare Hospice Patients and All Medicare Patients as a Percentage of State Population\n"
   ]
  },
  {
   "cell_type": "code",
   "execution_count": 363,
   "metadata": {},
   "outputs": [
    {
     "data": {
      "image/png": "[encoded data removed]",
      "text/plain": [
       "<Figure size 432x288 with 1 Axes>"
      ]
     },
     "metadata": {
      "needs_background": "light"
     },
     "output_type": "display_data"
    }
   ],
   "source": [
    "# Density plot and histogram\n",
    "bin_count = 15\n",
    "x = [\"bps_ben_pop\", \"bps_ben_hosp_pop\"]\n",
    "chart_dat = master_state[x]\n",
    "chart_mu = chart_dat.bps_ben_pop.mean()\n",
    "\n",
    "chart_title = \"Density and Histogram for Medicare Hospice Patients and \\n All Medicare Patients as a Percentage of State Population\"\n",
    "chart_xax = \"% State Population (in bps)\" \n",
    "chart_yax = \"Frequency/Density\"\n",
    "\n",
    "x_norm1 = np.random.normal(loc = chart_dat.bps_ben_pop.mean(),\n",
    "                           scale = chart_dat.bps_ben_pop.std(),\n",
    "                           size = 5000)\n",
    "sns.kdeplot(x_norm1, color=\"lightgreen\", shade = True)\n",
    "\n",
    "x_norm2 = np.random.normal(loc = chart_dat.bps_ben_hosp_pop.mean(), \n",
    "                          scale = chart_dat.bps_ben_hosp_pop.std(), \n",
    "                          size = 5000)\n",
    "sns.kdeplot(x_norm2, color=\"lightblue\", shade = True)\n",
    "\n",
    "sns.distplot(master_state.bps_ben_pop,\n",
    "             hist=True, \n",
    "             kde=True, \n",
    "             bins=bin_count, \n",
    "             color = 'blue',\n",
    "             hist_kws={'edgecolor':'black'},\n",
    "             kde_kws={'linewidth': 4})\n",
    "\n",
    "sns.distplot(master_state.bps_ben_hosp_pop,\n",
    "             hist=True, \n",
    "             kde=True, \n",
    "             bins=bin_count, \n",
    "             color = 'green',\n",
    "             hist_kws={'edgecolor':'black'},\n",
    "             kde_kws={'linewidth': 4})\n",
    "\n",
    "plt.title(chart_title, fontsize=14)\n",
    "plt.xlabel(chart_xax, fontsize=12)\n",
    "plt.ylabel(chart_yax, fontsize=12)\n",
    "\n",
    "plt.legend([\"Medicare Hospice Beneficiaries (% State Population in bps)\",\"All Medicare Beneficiaries (% State Population in bps)\"])\n",
    "plt.show()\n",
    "\n"
   ]
  },
  {
   "cell_type": "markdown",
   "metadata": {},
   "source": [
    "#### Summary Statistics for Medicare Hospice Patients and All Medicare Patients as a Percentage of State Population\n"
   ]
  },
  {
   "cell_type": "code",
   "execution_count": 364,
   "metadata": {},
   "outputs": [
    {
     "name": "stdout",
     "output_type": "stream",
     "text": [
      "Summary statistics for All Medicare Patients as a Percentage of State Population (bps_ben_pop)\n",
      "count     51.000000\n",
      "mean     292.601379\n",
      "std       52.520728\n",
      "min      174.642183\n",
      "25%      268.129552\n",
      "50%      297.404189\n",
      "75%      331.732253\n",
      "max      415.772607\n",
      "Name: bps_ben_pop, dtype: float64\n",
      "\n",
      "Summary statistics for Medicare Hospice Patients a Percentage of State Population (bps_ben_hosp_pop)\n",
      "count    51.000000\n",
      "mean     12.308822\n",
      "std       2.405491\n",
      "min       6.729032\n",
      "25%      10.924384\n",
      "50%      12.844372\n",
      "75%      13.895773\n",
      "max      17.118175\n",
      "Name: bps_ben_hosp_pop, dtype: float64\n"
     ]
    }
   ],
   "source": [
    "print(\"Summary statistics for All Medicare Patients as a Percentage of State Population (bps_ben_pop)\")\n",
    "print(master_state.bps_ben_pop.describe())\n",
    "\n",
    "print(\"\\nSummary statistics for Medicare Hospice Patients a Percentage of State Population (bps_ben_hosp_pop)\")\n",
    "print(master_state.bps_ben_hosp_pop.describe())"
   ]
  },
  {
   "cell_type": "markdown",
   "metadata": {},
   "source": [
    "#### Joint Distribution Between Medicare Hospice Patients and All Medicare Patients as a Percentage of State Population, Along with Associated Marginal Distributions"
   ]
  },
  {
   "cell_type": "code",
   "execution_count": 365,
   "metadata": {},
   "outputs": [
    {
     "data": {
      "image/png": "[encoded data removed]",
      "text/plain": [
       "<Figure size 432x432 with 3 Axes>"
      ]
     },
     "metadata": {},
     "output_type": "display_data"
    }
   ],
   "source": [
    "with sns.axes_style(\"white\"):\n",
    "    sns.jointplot(\"bps_ben_pop\", \"bps_ben_hosp_pop\", \n",
    "                  data = chart_dat, \n",
    "                  kind ='reg')\n",
    "\n",
    "chart_xax = \"Medicare Hospice Patients (% State Population in bps)\" \n",
    "chart_yax = \"All Medicare Patients (% State Population in bps)\"\n",
    "\n",
    "plt.xlabel(chart_xax, fontsize=12)\n",
    "plt.ylabel(chart_yax, fontsize=12)\n",
    "\n",
    "plt.show()\n"
   ]
  },
  {
   "cell_type": "markdown",
   "metadata": {},
   "source": [
    "#### Joint Distribution Between Medicare Hospice Patients as a Percentage of State Population and Log of Per Capita Income, Along with Associated Marginal Distributions"
   ]
  },
  {
   "cell_type": "code",
   "execution_count": 366,
   "metadata": {},
   "outputs": [
    {
     "data": {
      "image/png": "[encoded data removed]",
      "text/plain": [
       "<Figure size 432x432 with 3 Axes>"
      ]
     },
     "metadata": {},
     "output_type": "display_data"
    }
   ],
   "source": [
    "with sns.axes_style(\"white\"):\n",
    "    sns.jointplot(\"log_incpp_state_k\", \"bps_ben_hosp_pop\", \n",
    "                  data = master_state, \n",
    "                  kind ='reg')\n",
    "\n",
    "chart_xax = \"Log of Per Capita Income ($K)\"\n",
    "chart_yax = \"Medicare Hospice Patients \\n(% State Population in bps)\" \n",
    "\n",
    "plt.xlabel(chart_xax, fontsize=12)\n",
    "plt.ylabel(chart_yax, fontsize=12)\n",
    "\n",
    "plt.show()\n"
   ]
  },
  {
   "cell_type": "markdown",
   "metadata": {},
   "source": [
    "#### Run a simple regression"
   ]
  },
  {
   "cell_type": "code",
   "execution_count": 367,
   "metadata": {},
   "outputs": [
    {
     "data": {
      "text/html": [
       "<table class=\"simpletable\">\n",
       "<caption>OLS Regression Results</caption>\n",
       "<tr>\n",
       "  <th>Dep. Variable:</th>    <td>bps_ben_hosp_pop</td> <th>  R-squared (uncentered):</th>      <td>   0.956</td>\n",
       "</tr>\n",
       "<tr>\n",
       "  <th>Model:</th>                   <td>OLS</td>       <th>  Adj. R-squared (uncentered):</th> <td>   0.955</td>\n",
       "</tr>\n",
       "<tr>\n",
       "  <th>Method:</th>             <td>Least Squares</td>  <th>  F-statistic:       </th>          <td>   1078.</td>\n",
       "</tr>\n",
       "<tr>\n",
       "  <th>Date:</th>             <td>Fri, 09 Aug 2019</td> <th>  Prob (F-statistic):</th>          <td>1.69e-35</td>\n",
       "</tr>\n",
       "<tr>\n",
       "  <th>Time:</th>                 <td>21:38:26</td>     <th>  Log-Likelihood:    </th>          <td> -121.87</td>\n",
       "</tr>\n",
       "<tr>\n",
       "  <th>No. Observations:</th>      <td>    51</td>      <th>  AIC:               </th>          <td>   245.7</td>\n",
       "</tr>\n",
       "<tr>\n",
       "  <th>Df Residuals:</th>          <td>    50</td>      <th>  BIC:               </th>          <td>   247.7</td>\n",
       "</tr>\n",
       "<tr>\n",
       "  <th>Df Model:</th>              <td>     1</td>      <th>                     </th>              <td> </td>   \n",
       "</tr>\n",
       "<tr>\n",
       "  <th>Covariance Type:</th>      <td>nonrobust</td>    <th>                     </th>              <td> </td>   \n",
       "</tr>\n",
       "</table>\n",
       "<table class=\"simpletable\">\n",
       "<tr>\n",
       "          <td></td>             <th>coef</th>     <th>std err</th>      <th>t</th>      <th>P>|t|</th>  <th>[0.025</th>    <th>0.975]</th>  \n",
       "</tr>\n",
       "<tr>\n",
       "  <th>log_incpp_state_k</th> <td>    6.6945</td> <td>    0.204</td> <td>   32.831</td> <td> 0.000</td> <td>    6.285</td> <td>    7.104</td>\n",
       "</tr>\n",
       "</table>\n",
       "<table class=\"simpletable\">\n",
       "<tr>\n",
       "  <th>Omnibus:</th>       <td> 1.594</td> <th>  Durbin-Watson:     </th> <td>   1.142</td>\n",
       "</tr>\n",
       "<tr>\n",
       "  <th>Prob(Omnibus):</th> <td> 0.451</td> <th>  Jarque-Bera (JB):  </th> <td>   1.503</td>\n",
       "</tr>\n",
       "<tr>\n",
       "  <th>Skew:</th>          <td>-0.312</td> <th>  Prob(JB):          </th> <td>   0.472</td>\n",
       "</tr>\n",
       "<tr>\n",
       "  <th>Kurtosis:</th>      <td> 2.436</td> <th>  Cond. No.          </th> <td>    1.00</td>\n",
       "</tr>\n",
       "</table><br/><br/>Warnings:<br/>[1] Standard Errors assume that the covariance matrix of the errors is correctly specified."
      ],
      "text/plain": [
       "<class 'statsmodels.iolib.summary.Summary'>\n",
       "\"\"\"\n",
       "                                 OLS Regression Results                                \n",
       "=======================================================================================\n",
       "Dep. Variable:       bps_ben_hosp_pop   R-squared (uncentered):                   0.956\n",
       "Model:                            OLS   Adj. R-squared (uncentered):              0.955\n",
       "Method:                 Least Squares   F-statistic:                              1078.\n",
       "Date:                Fri, 09 Aug 2019   Prob (F-statistic):                    1.69e-35\n",
       "Time:                        21:38:26   Log-Likelihood:                         -121.87\n",
       "No. Observations:                  51   AIC:                                      245.7\n",
       "Df Residuals:                      50   BIC:                                      247.7\n",
       "Df Model:                           1                                                  \n",
       "Covariance Type:            nonrobust                                                  \n",
       "=====================================================================================\n",
       "                        coef    std err          t      P>|t|      [0.025      0.975]\n",
       "-------------------------------------------------------------------------------------\n",
       "log_incpp_state_k     6.6945      0.204     32.831      0.000       6.285       7.104\n",
       "==============================================================================\n",
       "Omnibus:                        1.594   Durbin-Watson:                   1.142\n",
       "Prob(Omnibus):                  0.451   Jarque-Bera (JB):                1.503\n",
       "Skew:                          -0.312   Prob(JB):                        0.472\n",
       "Kurtosis:                       2.436   Cond. No.                         1.00\n",
       "==============================================================================\n",
       "\n",
       "Warnings:\n",
       "[1] Standard Errors assume that the covariance matrix of the errors is correctly specified.\n",
       "\"\"\""
      ]
     },
     "execution_count": 367,
     "metadata": {},
     "output_type": "execute_result"
    }
   ],
   "source": [
    "X = master_state[\"log_incpp_state_k\"]\n",
    "y = master_state[\"bps_ben_hosp_pop\"]\n",
    "\n",
    "# Note the difference in argument order\n",
    "model = sm.OLS(y, X).fit()\n",
    "predictions = model.predict(X) # make the predictions by the model\n",
    "\n",
    "# Print out the statistics\n",
    "model.summary()"
   ]
  },
  {
   "cell_type": "markdown",
   "metadata": {},
   "source": [
    "### Comparing Hospice Rates of Top and Bottom Quartile States by Log of Per Capita Income"
   ]
  },
  {
   "cell_type": "code",
   "execution_count": 368,
   "metadata": {},
   "outputs": [],
   "source": [
    "# Split master_state dataframe into quantiles based on per capita income\n",
    "\n",
    "# Define quartiles\n",
    "master_state_qtls = master_state.quantile([.25, .5, .75, 1], axis = 0)\n",
    "master_state_qtls.reset_index(inplace=True)\n",
    "\n",
    "# Extract Per Capita Income bottom and top quartile thresholds\n",
    "q25 = master_state_qtls.loc[0, \"log_incpp_state_k\"]\n",
    "q75 = master_state_qtls.loc[2, \"log_incpp_state_k\"]\n",
    "\n",
    "# Create top and bottom quartile data sets based on Per Capita Income\n",
    "master_state_25q = master_state[master_state.log_incpp_state_k < q25]\n",
    "master_state_75q = master_state[master_state.log_incpp_state_k >= q75]\n"
   ]
  },
  {
   "cell_type": "markdown",
   "metadata": {},
   "source": [
    "### Top Quartile States by Log of Per Capita Income\n",
    "#### Joint Distribution Between Medicare Hospice Patients as a Percentage of State Population and Log of Per Capita Income, Along with Associated Marginal Distributions"
   ]
  },
  {
   "cell_type": "code",
   "execution_count": 369,
   "metadata": {},
   "outputs": [
    {
     "data": {
      "image/png": "[encoded data removed]",
      "text/plain": [
       "<Figure size 432x432 with 3 Axes>"
      ]
     },
     "metadata": {},
     "output_type": "display_data"
    }
   ],
   "source": [
    "with sns.axes_style(\"white\"):\n",
    "    sns.jointplot(\"log_incpp_state_k\", \"bps_ben_hosp_pop\", \n",
    "                  data = master_state_75q, \n",
    "                  color = \"darkblue\",\n",
    "                  kind ='reg')\n",
    "\n",
    "chart_xax = \"Log of Per Capita Income ($K)\"\n",
    "chart_yax = \"Medicare Hospice Patients \\n(% State Population in bps)\" \n",
    "\n",
    "plt.xlabel(chart_xax, fontsize=12)\n",
    "plt.ylabel(chart_yax, fontsize=12)\n",
    "\n",
    "plt.show()\n"
   ]
  },
  {
   "cell_type": "markdown",
   "metadata": {},
   "source": [
    "#### Top Quartile Descriptive Statistics"
   ]
  },
  {
   "cell_type": "code",
   "execution_count": 370,
   "metadata": {},
   "outputs": [
    {
     "data": {
      "text/html": [
       "<div>\n",
       "<style scoped>\n",
       "    .dataframe tbody tr th:only-of-type {\n",
       "        vertical-align: middle;\n",
       "    }\n",
       "\n",
       "    .dataframe tbody tr th {\n",
       "        vertical-align: top;\n",
       "    }\n",
       "\n",
       "    .dataframe thead th {\n",
       "        text-align: right;\n",
       "    }\n",
       "</style>\n",
       "<table border=\"1\" class=\"dataframe\">\n",
       "  <thead>\n",
       "    <tr style=\"text-align: right;\">\n",
       "      <th></th>\n",
       "      <th>ssa_state_code</th>\n",
       "      <th>population</th>\n",
       "      <th>income</th>\n",
       "      <th>incpp_state</th>\n",
       "      <th>ben_count_total</th>\n",
       "      <th>ben_count_hospice</th>\n",
       "      <th>pct_hospice</th>\n",
       "      <th>bps_ben_pop</th>\n",
       "      <th>bps_ben_hosp_pop</th>\n",
       "      <th>incpp_state_k</th>\n",
       "      <th>log_incpp_state_k</th>\n",
       "      <th>log_incpp_state</th>\n",
       "      <th>population_M</th>\n",
       "      <th>income_B</th>\n",
       "    </tr>\n",
       "  </thead>\n",
       "  <tbody>\n",
       "    <tr>\n",
       "      <th>count</th>\n",
       "      <td>13.000000</td>\n",
       "      <td>1.300000e+01</td>\n",
       "      <td>1.300000e+01</td>\n",
       "      <td>13.000000</td>\n",
       "      <td>13.000000</td>\n",
       "      <td>13.000000</td>\n",
       "      <td>13.000000</td>\n",
       "      <td>13.000000</td>\n",
       "      <td>13.000000</td>\n",
       "      <td>13.000000</td>\n",
       "      <td>13.000000</td>\n",
       "      <td>13.000000</td>\n",
       "      <td>13.000000</td>\n",
       "      <td>13.000000</td>\n",
       "    </tr>\n",
       "    <tr>\n",
       "      <th>mean</th>\n",
       "      <td>18.538462</td>\n",
       "      <td>8.340617e+06</td>\n",
       "      <td>6.851768e+11</td>\n",
       "      <td>83978.578519</td>\n",
       "      <td>20243.538462</td>\n",
       "      <td>866.615385</td>\n",
       "      <td>4.177538</td>\n",
       "      <td>259.521989</td>\n",
       "      <td>10.824173</td>\n",
       "      <td>83.978538</td>\n",
       "      <td>1.923048</td>\n",
       "      <td>4.923048</td>\n",
       "      <td>8.340617</td>\n",
       "      <td>685.176794</td>\n",
       "    </tr>\n",
       "    <tr>\n",
       "      <th>std</th>\n",
       "      <td>13.973877</td>\n",
       "      <td>1.003591e+07</td>\n",
       "      <td>8.035615e+11</td>\n",
       "      <td>6334.118025</td>\n",
       "      <td>20226.528573</td>\n",
       "      <td>871.916905</td>\n",
       "      <td>0.370693</td>\n",
       "      <td>50.535258</td>\n",
       "      <td>2.232737</td>\n",
       "      <td>6.334151</td>\n",
       "      <td>0.032339</td>\n",
       "      <td>0.032339</td>\n",
       "      <td>10.035915</td>\n",
       "      <td>803.561548</td>\n",
       "    </tr>\n",
       "    <tr>\n",
       "      <th>min</th>\n",
       "      <td>2.000000</td>\n",
       "      <td>5.782150e+05</td>\n",
       "      <td>4.934662e+10</td>\n",
       "      <td>75243.221378</td>\n",
       "      <td>1228.000000</td>\n",
       "      <td>47.000000</td>\n",
       "      <td>3.328612</td>\n",
       "      <td>174.642183</td>\n",
       "      <td>7.810879</td>\n",
       "      <td>75.243000</td>\n",
       "      <td>1.876467</td>\n",
       "      <td>4.876467</td>\n",
       "      <td>0.578215</td>\n",
       "      <td>49.346623</td>\n",
       "    </tr>\n",
       "    <tr>\n",
       "      <th>25%</th>\n",
       "      <td>7.000000</td>\n",
       "      <td>1.339090e+06</td>\n",
       "      <td>1.108377e+11</td>\n",
       "      <td>79906.722961</td>\n",
       "      <td>4341.000000</td>\n",
       "      <td>173.000000</td>\n",
       "      <td>4.122333</td>\n",
       "      <td>227.318552</td>\n",
       "      <td>8.390789</td>\n",
       "      <td>79.907000</td>\n",
       "      <td>1.902583</td>\n",
       "      <td>4.902583</td>\n",
       "      <td>1.339090</td>\n",
       "      <td>110.837746</td>\n",
       "    </tr>\n",
       "    <tr>\n",
       "      <th>50%</th>\n",
       "      <td>14.000000</td>\n",
       "      <td>5.220219e+06</td>\n",
       "      <td>4.732446e+11</td>\n",
       "      <td>82770.945853</td>\n",
       "      <td>14754.000000</td>\n",
       "      <td>623.000000</td>\n",
       "      <td>4.222584</td>\n",
       "      <td>271.327447</td>\n",
       "      <td>11.804658</td>\n",
       "      <td>82.771000</td>\n",
       "      <td>1.917878</td>\n",
       "      <td>4.917878</td>\n",
       "      <td>5.220219</td>\n",
       "      <td>473.244603</td>\n",
       "    </tr>\n",
       "    <tr>\n",
       "      <th>75%</th>\n",
       "      <td>30.000000</td>\n",
       "      <td>8.338282e+06</td>\n",
       "      <td>7.785003e+11</td>\n",
       "      <td>86565.172593</td>\n",
       "      <td>24820.000000</td>\n",
       "      <td>1071.000000</td>\n",
       "      <td>4.350705</td>\n",
       "      <td>296.028417</td>\n",
       "      <td>12.259992</td>\n",
       "      <td>86.565000</td>\n",
       "      <td>1.937343</td>\n",
       "      <td>4.937343</td>\n",
       "      <td>8.338282</td>\n",
       "      <td>778.500274</td>\n",
       "    </tr>\n",
       "    <tr>\n",
       "      <th>max</th>\n",
       "      <td>49.000000</td>\n",
       "      <td>3.692286e+07</td>\n",
       "      <td>2.991316e+12</td>\n",
       "      <td>95846.076791</td>\n",
       "      <td>68621.000000</td>\n",
       "      <td>2884.000000</td>\n",
       "      <td>4.804560</td>\n",
       "      <td>353.552589</td>\n",
       "      <td>14.089979</td>\n",
       "      <td>95.846000</td>\n",
       "      <td>1.981574</td>\n",
       "      <td>4.981574</td>\n",
       "      <td>36.922861</td>\n",
       "      <td>2991.316345</td>\n",
       "    </tr>\n",
       "  </tbody>\n",
       "</table>\n",
       "</div>"
      ],
      "text/plain": [
       "       ssa_state_code    population        income   incpp_state  \\\n",
       "count       13.000000  1.300000e+01  1.300000e+01     13.000000   \n",
       "mean        18.538462  8.340617e+06  6.851768e+11  83978.578519   \n",
       "std         13.973877  1.003591e+07  8.035615e+11   6334.118025   \n",
       "min          2.000000  5.782150e+05  4.934662e+10  75243.221378   \n",
       "25%          7.000000  1.339090e+06  1.108377e+11  79906.722961   \n",
       "50%         14.000000  5.220219e+06  4.732446e+11  82770.945853   \n",
       "75%         30.000000  8.338282e+06  7.785003e+11  86565.172593   \n",
       "max         49.000000  3.692286e+07  2.991316e+12  95846.076791   \n",
       "\n",
       "       ben_count_total  ben_count_hospice  pct_hospice  bps_ben_pop  \\\n",
       "count        13.000000          13.000000    13.000000    13.000000   \n",
       "mean      20243.538462         866.615385     4.177538   259.521989   \n",
       "std       20226.528573         871.916905     0.370693    50.535258   \n",
       "min        1228.000000          47.000000     3.328612   174.642183   \n",
       "25%        4341.000000         173.000000     4.122333   227.318552   \n",
       "50%       14754.000000         623.000000     4.222584   271.327447   \n",
       "75%       24820.000000        1071.000000     4.350705   296.028417   \n",
       "max       68621.000000        2884.000000     4.804560   353.552589   \n",
       "\n",
       "       bps_ben_hosp_pop  incpp_state_k  log_incpp_state_k  log_incpp_state  \\\n",
       "count         13.000000      13.000000          13.000000        13.000000   \n",
       "mean          10.824173      83.978538           1.923048         4.923048   \n",
       "std            2.232737       6.334151           0.032339         0.032339   \n",
       "min            7.810879      75.243000           1.876467         4.876467   \n",
       "25%            8.390789      79.907000           1.902583         4.902583   \n",
       "50%           11.804658      82.771000           1.917878         4.917878   \n",
       "75%           12.259992      86.565000           1.937343         4.937343   \n",
       "max           14.089979      95.846000           1.981574         4.981574   \n",
       "\n",
       "       population_M     income_B  \n",
       "count     13.000000    13.000000  \n",
       "mean       8.340617   685.176794  \n",
       "std       10.035915   803.561548  \n",
       "min        0.578215    49.346623  \n",
       "25%        1.339090   110.837746  \n",
       "50%        5.220219   473.244603  \n",
       "75%        8.338282   778.500274  \n",
       "max       36.922861  2991.316345  "
      ]
     },
     "execution_count": 370,
     "metadata": {},
     "output_type": "execute_result"
    }
   ],
   "source": [
    "master_state_75q.describe()"
   ]
  },
  {
   "cell_type": "markdown",
   "metadata": {},
   "source": [
    "#### Run a simple regression"
   ]
  },
  {
   "cell_type": "code",
   "execution_count": 371,
   "metadata": {},
   "outputs": [
    {
     "name": "stderr",
     "output_type": "stream",
     "text": [
      "c:\\ProgramData\\Anaconda3\\lib\\site-packages\\scipy\\stats\\stats.py:1416: UserWarning: kurtosistest only valid for n>=20 ... continuing anyway, n=13\n",
      "  \"anyway, n=%i\" % int(n))\n"
     ]
    },
    {
     "data": {
      "text/html": [
       "<table class=\"simpletable\">\n",
       "<caption>OLS Regression Results</caption>\n",
       "<tr>\n",
       "  <th>Dep. Variable:</th>    <td>bps_ben_hosp_pop</td> <th>  R-squared (uncentered):</th>      <td>   0.964</td>\n",
       "</tr>\n",
       "<tr>\n",
       "  <th>Model:</th>                   <td>OLS</td>       <th>  Adj. R-squared (uncentered):</th> <td>   0.961</td>\n",
       "</tr>\n",
       "<tr>\n",
       "  <th>Method:</th>             <td>Least Squares</td>  <th>  F-statistic:       </th>          <td>   321.8</td>\n",
       "</tr>\n",
       "<tr>\n",
       "  <th>Date:</th>             <td>Fri, 09 Aug 2019</td> <th>  Prob (F-statistic):</th>          <td>4.94e-10</td>\n",
       "</tr>\n",
       "<tr>\n",
       "  <th>Time:</th>                 <td>21:38:27</td>     <th>  Log-Likelihood:    </th>          <td> -28.042</td>\n",
       "</tr>\n",
       "<tr>\n",
       "  <th>No. Observations:</th>      <td>    13</td>      <th>  AIC:               </th>          <td>   58.08</td>\n",
       "</tr>\n",
       "<tr>\n",
       "  <th>Df Residuals:</th>          <td>    12</td>      <th>  BIC:               </th>          <td>   58.65</td>\n",
       "</tr>\n",
       "<tr>\n",
       "  <th>Df Model:</th>              <td>     1</td>      <th>                     </th>              <td> </td>   \n",
       "</tr>\n",
       "<tr>\n",
       "  <th>Covariance Type:</th>      <td>nonrobust</td>    <th>                     </th>              <td> </td>   \n",
       "</tr>\n",
       "</table>\n",
       "<table class=\"simpletable\">\n",
       "<tr>\n",
       "          <td></td>             <th>coef</th>     <th>std err</th>      <th>t</th>      <th>P>|t|</th>  <th>[0.025</th>    <th>0.975]</th>  \n",
       "</tr>\n",
       "<tr>\n",
       "  <th>log_incpp_state_k</th> <td>    5.6333</td> <td>    0.314</td> <td>   17.940</td> <td> 0.000</td> <td>    4.949</td> <td>    6.317</td>\n",
       "</tr>\n",
       "</table>\n",
       "<table class=\"simpletable\">\n",
       "<tr>\n",
       "  <th>Omnibus:</th>       <td> 3.817</td> <th>  Durbin-Watson:     </th> <td>   1.903</td>\n",
       "</tr>\n",
       "<tr>\n",
       "  <th>Prob(Omnibus):</th> <td> 0.148</td> <th>  Jarque-Bera (JB):  </th> <td>   1.255</td>\n",
       "</tr>\n",
       "<tr>\n",
       "  <th>Skew:</th>          <td>-0.211</td> <th>  Prob(JB):          </th> <td>   0.534</td>\n",
       "</tr>\n",
       "<tr>\n",
       "  <th>Kurtosis:</th>      <td> 1.538</td> <th>  Cond. No.          </th> <td>    1.00</td>\n",
       "</tr>\n",
       "</table><br/><br/>Warnings:<br/>[1] Standard Errors assume that the covariance matrix of the errors is correctly specified."
      ],
      "text/plain": [
       "<class 'statsmodels.iolib.summary.Summary'>\n",
       "\"\"\"\n",
       "                                 OLS Regression Results                                \n",
       "=======================================================================================\n",
       "Dep. Variable:       bps_ben_hosp_pop   R-squared (uncentered):                   0.964\n",
       "Model:                            OLS   Adj. R-squared (uncentered):              0.961\n",
       "Method:                 Least Squares   F-statistic:                              321.8\n",
       "Date:                Fri, 09 Aug 2019   Prob (F-statistic):                    4.94e-10\n",
       "Time:                        21:38:27   Log-Likelihood:                         -28.042\n",
       "No. Observations:                  13   AIC:                                      58.08\n",
       "Df Residuals:                      12   BIC:                                      58.65\n",
       "Df Model:                           1                                                  \n",
       "Covariance Type:            nonrobust                                                  \n",
       "=====================================================================================\n",
       "                        coef    std err          t      P>|t|      [0.025      0.975]\n",
       "-------------------------------------------------------------------------------------\n",
       "log_incpp_state_k     5.6333      0.314     17.940      0.000       4.949       6.317\n",
       "==============================================================================\n",
       "Omnibus:                        3.817   Durbin-Watson:                   1.903\n",
       "Prob(Omnibus):                  0.148   Jarque-Bera (JB):                1.255\n",
       "Skew:                          -0.211   Prob(JB):                        0.534\n",
       "Kurtosis:                       1.538   Cond. No.                         1.00\n",
       "==============================================================================\n",
       "\n",
       "Warnings:\n",
       "[1] Standard Errors assume that the covariance matrix of the errors is correctly specified.\n",
       "\"\"\""
      ]
     },
     "execution_count": 371,
     "metadata": {},
     "output_type": "execute_result"
    }
   ],
   "source": [
    "X = master_state_75q[\"log_incpp_state_k\"]\n",
    "y = master_state_75q[\"bps_ben_hosp_pop\"]\n",
    "\n",
    "# Note the difference in argument order\n",
    "model = sm.OLS(y, X).fit()\n",
    "predictions = model.predict(X) # make the predictions by the model\n",
    "\n",
    "# Print out the statistics\n",
    "model.summary()"
   ]
  },
  {
   "cell_type": "markdown",
   "metadata": {},
   "source": [
    "### Bottom Quartile States by Per Capita Income\n",
    "#### Joint Distribution Between Medicare Hospice Patients as a Percentage of State Population and Log of Per Capita Income, Along with Associated Marginal Distributions"
   ]
  },
  {
   "cell_type": "code",
   "execution_count": 372,
   "metadata": {
    "scrolled": true
   },
   "outputs": [
    {
     "data": {
      "image/png": "[encoded data removed]",
      "text/plain": [
       "<Figure size 432x432 with 3 Axes>"
      ]
     },
     "metadata": {},
     "output_type": "display_data"
    }
   ],
   "source": [
    "with sns.axes_style(\"white\"):\n",
    "    sns.jointplot(\"log_incpp_state_k\", \"bps_ben_hosp_pop\", \n",
    "                  data = master_state_25q, \n",
    "                  color = \"orange\",\n",
    "                  kind ='reg')\n",
    "\n",
    "chart_xax = \"Log of Per Capita Income ($K)\"\n",
    "chart_yax = \"Medicare Hospice Patients \\n(% State Population in bps)\" \n",
    "\n",
    "plt.xlabel(chart_xax, fontsize=12)\n",
    "plt.ylabel(chart_yax, fontsize=12)\n",
    "\n",
    "plt.show()"
   ]
  },
  {
   "cell_type": "markdown",
   "metadata": {},
   "source": [
    "#### Bottom Quartile Descriptive Statistics"
   ]
  },
  {
   "cell_type": "code",
   "execution_count": 373,
   "metadata": {},
   "outputs": [
    {
     "data": {
      "text/html": [
       "<div>\n",
       "<style scoped>\n",
       "    .dataframe tbody tr th:only-of-type {\n",
       "        vertical-align: middle;\n",
       "    }\n",
       "\n",
       "    .dataframe tbody tr th {\n",
       "        vertical-align: top;\n",
       "    }\n",
       "\n",
       "    .dataframe thead th {\n",
       "        text-align: right;\n",
       "    }\n",
       "</style>\n",
       "<table border=\"1\" class=\"dataframe\">\n",
       "  <thead>\n",
       "    <tr style=\"text-align: right;\">\n",
       "      <th></th>\n",
       "      <th>ssa_state_code</th>\n",
       "      <th>population</th>\n",
       "      <th>income</th>\n",
       "      <th>incpp_state</th>\n",
       "      <th>ben_count_total</th>\n",
       "      <th>ben_count_hospice</th>\n",
       "      <th>pct_hospice</th>\n",
       "      <th>bps_ben_pop</th>\n",
       "      <th>bps_ben_hosp_pop</th>\n",
       "      <th>incpp_state_k</th>\n",
       "      <th>log_incpp_state_k</th>\n",
       "      <th>log_incpp_state</th>\n",
       "      <th>population_M</th>\n",
       "      <th>income_B</th>\n",
       "    </tr>\n",
       "  </thead>\n",
       "  <tbody>\n",
       "    <tr>\n",
       "      <th>count</th>\n",
       "      <td>13.000000</td>\n",
       "      <td>1.300000e+01</td>\n",
       "      <td>1.300000e+01</td>\n",
       "      <td>13.000000</td>\n",
       "      <td>13.000000</td>\n",
       "      <td>13.000000</td>\n",
       "      <td>13.000000</td>\n",
       "      <td>13.000000</td>\n",
       "      <td>13.000000</td>\n",
       "      <td>13.000000</td>\n",
       "      <td>13.000000</td>\n",
       "      <td>13.000000</td>\n",
       "      <td>13.000000</td>\n",
       "      <td>13.000000</td>\n",
       "    </tr>\n",
       "    <tr>\n",
       "      <th>mean</th>\n",
       "      <td>27.230769</td>\n",
       "      <td>3.640777e+06</td>\n",
       "      <td>2.093964e+11</td>\n",
       "      <td>56902.839636</td>\n",
       "      <td>12015.000000</td>\n",
       "      <td>527.076923</td>\n",
       "      <td>4.291683</td>\n",
       "      <td>337.985269</td>\n",
       "      <td>14.474926</td>\n",
       "      <td>56.902769</td>\n",
       "      <td>1.754493</td>\n",
       "      <td>4.754493</td>\n",
       "      <td>3.640777</td>\n",
       "      <td>209.396369</td>\n",
       "    </tr>\n",
       "    <tr>\n",
       "      <th>std</th>\n",
       "      <td>14.906116</td>\n",
       "      <td>2.041744e+06</td>\n",
       "      <td>1.239180e+11</td>\n",
       "      <td>3158.079281</td>\n",
       "      <td>6560.829483</td>\n",
       "      <td>300.066787</td>\n",
       "      <td>0.301027</td>\n",
       "      <td>35.204765</td>\n",
       "      <td>1.516692</td>\n",
       "      <td>3.158019</td>\n",
       "      <td>0.024800</td>\n",
       "      <td>0.024800</td>\n",
       "      <td>2.041744</td>\n",
       "      <td>123.917969</td>\n",
       "    </tr>\n",
       "    <tr>\n",
       "      <th>min</th>\n",
       "      <td>1.000000</td>\n",
       "      <td>8.997120e+05</td>\n",
       "      <td>5.180438e+10</td>\n",
       "      <td>50728.869266</td>\n",
       "      <td>3130.000000</td>\n",
       "      <td>115.000000</td>\n",
       "      <td>3.674121</td>\n",
       "      <td>276.275273</td>\n",
       "      <td>11.542308</td>\n",
       "      <td>50.729000</td>\n",
       "      <td>1.705255</td>\n",
       "      <td>4.705255</td>\n",
       "      <td>0.899712</td>\n",
       "      <td>51.804377</td>\n",
       "    </tr>\n",
       "    <tr>\n",
       "      <th>25%</th>\n",
       "      <td>19.000000</td>\n",
       "      <td>1.851957e+06</td>\n",
       "      <td>1.052277e+11</td>\n",
       "      <td>56421.216129</td>\n",
       "      <td>7111.000000</td>\n",
       "      <td>307.000000</td>\n",
       "      <td>4.152518</td>\n",
       "      <td>327.986154</td>\n",
       "      <td>13.747655</td>\n",
       "      <td>56.421000</td>\n",
       "      <td>1.751442</td>\n",
       "      <td>4.751442</td>\n",
       "      <td>1.851957</td>\n",
       "      <td>105.227710</td>\n",
       "    </tr>\n",
       "    <tr>\n",
       "      <th>50%</th>\n",
       "      <td>27.000000</td>\n",
       "      <td>3.436474e+06</td>\n",
       "      <td>1.946751e+11</td>\n",
       "      <td>57989.813024</td>\n",
       "      <td>11384.000000</td>\n",
       "      <td>528.000000</td>\n",
       "      <td>4.365052</td>\n",
       "      <td>334.910854</td>\n",
       "      <td>14.619032</td>\n",
       "      <td>57.990000</td>\n",
       "      <td>1.763352</td>\n",
       "      <td>4.763352</td>\n",
       "      <td>3.436474</td>\n",
       "      <td>194.675129</td>\n",
       "    </tr>\n",
       "    <tr>\n",
       "      <th>75%</th>\n",
       "      <td>37.000000</td>\n",
       "      <td>4.555985e+06</td>\n",
       "      <td>2.668940e+11</td>\n",
       "      <td>59493.371100</td>\n",
       "      <td>14943.000000</td>\n",
       "      <td>666.000000</td>\n",
       "      <td>4.517743</td>\n",
       "      <td>347.889102</td>\n",
       "      <td>15.078845</td>\n",
       "      <td>59.493000</td>\n",
       "      <td>1.774469</td>\n",
       "      <td>4.774469</td>\n",
       "      <td>4.555985</td>\n",
       "      <td>266.893986</td>\n",
       "    </tr>\n",
       "    <tr>\n",
       "      <th>max</th>\n",
       "      <td>51.000000</td>\n",
       "      <td>7.964801e+06</td>\n",
       "      <td>4.745608e+11</td>\n",
       "      <td>60033.378395</td>\n",
       "      <td>27343.000000</td>\n",
       "      <td>1201.000000</td>\n",
       "      <td>4.662288</td>\n",
       "      <td>415.772607</td>\n",
       "      <td>17.118175</td>\n",
       "      <td>60.033000</td>\n",
       "      <td>1.778393</td>\n",
       "      <td>4.778393</td>\n",
       "      <td>7.964801</td>\n",
       "      <td>474.560800</td>\n",
       "    </tr>\n",
       "  </tbody>\n",
       "</table>\n",
       "</div>"
      ],
      "text/plain": [
       "       ssa_state_code    population        income   incpp_state  \\\n",
       "count       13.000000  1.300000e+01  1.300000e+01     13.000000   \n",
       "mean        27.230769  3.640777e+06  2.093964e+11  56902.839636   \n",
       "std         14.906116  2.041744e+06  1.239180e+11   3158.079281   \n",
       "min          1.000000  8.997120e+05  5.180438e+10  50728.869266   \n",
       "25%         19.000000  1.851957e+06  1.052277e+11  56421.216129   \n",
       "50%         27.000000  3.436474e+06  1.946751e+11  57989.813024   \n",
       "75%         37.000000  4.555985e+06  2.668940e+11  59493.371100   \n",
       "max         51.000000  7.964801e+06  4.745608e+11  60033.378395   \n",
       "\n",
       "       ben_count_total  ben_count_hospice  pct_hospice  bps_ben_pop  \\\n",
       "count        13.000000          13.000000    13.000000    13.000000   \n",
       "mean      12015.000000         527.076923     4.291683   337.985269   \n",
       "std        6560.829483         300.066787     0.301027    35.204765   \n",
       "min        3130.000000         115.000000     3.674121   276.275273   \n",
       "25%        7111.000000         307.000000     4.152518   327.986154   \n",
       "50%       11384.000000         528.000000     4.365052   334.910854   \n",
       "75%       14943.000000         666.000000     4.517743   347.889102   \n",
       "max       27343.000000        1201.000000     4.662288   415.772607   \n",
       "\n",
       "       bps_ben_hosp_pop  incpp_state_k  log_incpp_state_k  log_incpp_state  \\\n",
       "count         13.000000      13.000000          13.000000        13.000000   \n",
       "mean          14.474926      56.902769           1.754493         4.754493   \n",
       "std            1.516692       3.158019           0.024800         0.024800   \n",
       "min           11.542308      50.729000           1.705255         4.705255   \n",
       "25%           13.747655      56.421000           1.751442         4.751442   \n",
       "50%           14.619032      57.990000           1.763352         4.763352   \n",
       "75%           15.078845      59.493000           1.774469         4.774469   \n",
       "max           17.118175      60.033000           1.778393         4.778393   \n",
       "\n",
       "       population_M    income_B  \n",
       "count     13.000000   13.000000  \n",
       "mean       3.640777  209.396369  \n",
       "std        2.041744  123.917969  \n",
       "min        0.899712   51.804377  \n",
       "25%        1.851957  105.227710  \n",
       "50%        3.436474  194.675129  \n",
       "75%        4.555985  266.893986  \n",
       "max        7.964801  474.560800  "
      ]
     },
     "execution_count": 373,
     "metadata": {},
     "output_type": "execute_result"
    }
   ],
   "source": [
    "master_state_25q.describe()"
   ]
  },
  {
   "cell_type": "markdown",
   "metadata": {},
   "source": [
    "#### Run a simple regression"
   ]
  },
  {
   "cell_type": "code",
   "execution_count": 374,
   "metadata": {},
   "outputs": [
    {
     "data": {
      "text/html": [
       "<table class=\"simpletable\">\n",
       "<caption>OLS Regression Results</caption>\n",
       "<tr>\n",
       "  <th>Dep. Variable:</th>    <td>bps_ben_hosp_pop</td> <th>  R-squared (uncentered):</th>      <td>   0.989</td>\n",
       "</tr>\n",
       "<tr>\n",
       "  <th>Model:</th>                   <td>OLS</td>       <th>  Adj. R-squared (uncentered):</th> <td>   0.988</td>\n",
       "</tr>\n",
       "<tr>\n",
       "  <th>Method:</th>             <td>Least Squares</td>  <th>  F-statistic:       </th>          <td>   1102.</td>\n",
       "</tr>\n",
       "<tr>\n",
       "  <th>Date:</th>             <td>Fri, 09 Aug 2019</td> <th>  Prob (F-statistic):</th>          <td>3.53e-13</td>\n",
       "</tr>\n",
       "<tr>\n",
       "  <th>Time:</th>                 <td>21:38:29</td>     <th>  Log-Likelihood:    </th>          <td> -23.800</td>\n",
       "</tr>\n",
       "<tr>\n",
       "  <th>No. Observations:</th>      <td>    13</td>      <th>  AIC:               </th>          <td>   49.60</td>\n",
       "</tr>\n",
       "<tr>\n",
       "  <th>Df Residuals:</th>          <td>    12</td>      <th>  BIC:               </th>          <td>   50.17</td>\n",
       "</tr>\n",
       "<tr>\n",
       "  <th>Df Model:</th>              <td>     1</td>      <th>                     </th>              <td> </td>   \n",
       "</tr>\n",
       "<tr>\n",
       "  <th>Covariance Type:</th>      <td>nonrobust</td>    <th>                     </th>              <td> </td>   \n",
       "</tr>\n",
       "</table>\n",
       "<table class=\"simpletable\">\n",
       "<tr>\n",
       "          <td></td>             <th>coef</th>     <th>std err</th>      <th>t</th>      <th>P>|t|</th>  <th>[0.025</th>    <th>0.975]</th>  \n",
       "</tr>\n",
       "<tr>\n",
       "  <th>log_incpp_state_k</th> <td>    8.2464</td> <td>    0.248</td> <td>   33.203</td> <td> 0.000</td> <td>    7.705</td> <td>    8.788</td>\n",
       "</tr>\n",
       "</table>\n",
       "<table class=\"simpletable\">\n",
       "<tr>\n",
       "  <th>Omnibus:</th>       <td> 0.225</td> <th>  Durbin-Watson:     </th> <td>   2.192</td>\n",
       "</tr>\n",
       "<tr>\n",
       "  <th>Prob(Omnibus):</th> <td> 0.893</td> <th>  Jarque-Bera (JB):  </th> <td>   0.158</td>\n",
       "</tr>\n",
       "<tr>\n",
       "  <th>Skew:</th>          <td>-0.194</td> <th>  Prob(JB):          </th> <td>   0.924</td>\n",
       "</tr>\n",
       "<tr>\n",
       "  <th>Kurtosis:</th>      <td> 2.624</td> <th>  Cond. No.          </th> <td>    1.00</td>\n",
       "</tr>\n",
       "</table><br/><br/>Warnings:<br/>[1] Standard Errors assume that the covariance matrix of the errors is correctly specified."
      ],
      "text/plain": [
       "<class 'statsmodels.iolib.summary.Summary'>\n",
       "\"\"\"\n",
       "                                 OLS Regression Results                                \n",
       "=======================================================================================\n",
       "Dep. Variable:       bps_ben_hosp_pop   R-squared (uncentered):                   0.989\n",
       "Model:                            OLS   Adj. R-squared (uncentered):              0.988\n",
       "Method:                 Least Squares   F-statistic:                              1102.\n",
       "Date:                Fri, 09 Aug 2019   Prob (F-statistic):                    3.53e-13\n",
       "Time:                        21:38:29   Log-Likelihood:                         -23.800\n",
       "No. Observations:                  13   AIC:                                      49.60\n",
       "Df Residuals:                      12   BIC:                                      50.17\n",
       "Df Model:                           1                                                  \n",
       "Covariance Type:            nonrobust                                                  \n",
       "=====================================================================================\n",
       "                        coef    std err          t      P>|t|      [0.025      0.975]\n",
       "-------------------------------------------------------------------------------------\n",
       "log_incpp_state_k     8.2464      0.248     33.203      0.000       7.705       8.788\n",
       "==============================================================================\n",
       "Omnibus:                        0.225   Durbin-Watson:                   2.192\n",
       "Prob(Omnibus):                  0.893   Jarque-Bera (JB):                0.158\n",
       "Skew:                          -0.194   Prob(JB):                        0.924\n",
       "Kurtosis:                       2.624   Cond. No.                         1.00\n",
       "==============================================================================\n",
       "\n",
       "Warnings:\n",
       "[1] Standard Errors assume that the covariance matrix of the errors is correctly specified.\n",
       "\"\"\""
      ]
     },
     "execution_count": 374,
     "metadata": {},
     "output_type": "execute_result"
    }
   ],
   "source": [
    "X = master_state_25q[\"log_incpp_state_k\"]\n",
    "y = master_state_25q[\"bps_ben_hosp_pop\"]\n",
    "\n",
    "# Note the difference in argument order\n",
    "model = sm.OLS(y, X).fit()\n",
    "predictions = model.predict(X) # make the predictions by the model\n",
    "\n",
    "# Print out the statistics\n",
    "model.summary()"
   ]
  }
 ],
 "metadata": {
  "kernelspec": {
   "display_name": "Python 3",
   "language": "python",
   "name": "python3"
  },
  "language_info": {
   "codemirror_mode": {
    "name": "ipython",
    "version": 3
   },
   "file_extension": ".py",
   "mimetype": "text/x-python",
   "name": "python",
   "nbconvert_exporter": "python",
   "pygments_lexer": "ipython3",
   "version": "3.7.3"
  }
 },
 "nbformat": 4,
 "nbformat_minor": 2
}
