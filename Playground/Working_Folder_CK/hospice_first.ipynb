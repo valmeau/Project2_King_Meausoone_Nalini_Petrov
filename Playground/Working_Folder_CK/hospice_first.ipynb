{
 "cells": [
  {
   "cell_type": "code",
   "execution_count": 172,
   "metadata": {},
   "outputs": [
    {
     "name": "stdout",
     "output_type": "stream",
     "text": [
      "       State           Score\n",
      "0         TX              27\n",
      "1         TX              80\n",
      "2         TX              15\n",
      "3         TX   Not Available\n",
      "4         TX              90\n",
      "5         TX               9\n",
      "6         TX   Not Available\n",
      "7         TX              13\n",
      "8         TX               5\n",
      "9         TX               8\n",
      "10        TX               8\n",
      "11        TX               5\n",
      "12        TX              14\n",
      "13        TX              13\n",
      "14        TX              11\n",
      "15        TX              16\n",
      "16        TX              90\n",
      "17        TX              11\n",
      "18        TX   Not Available\n",
      "19        TX   Not Available\n",
      "20        TX               7\n",
      "21        TX              90\n",
      "22        TX              81\n",
      "23        TX               7\n",
      "24        TX              10\n",
      "25        TX   Not Available\n",
      "26        TX               2\n",
      "27        TX              12\n",
      "28        TX   Not Available\n",
      "29        TX   Not Available\n",
      "...      ...             ...\n",
      "114018    CA   Not Available\n",
      "114019    CA   Not Available\n",
      "114020    CA   Not Available\n",
      "114021    CA   Not Available\n",
      "114022    CA   Not Available\n",
      "114023    CA   Not Available\n",
      "114024    CA   Not Available\n",
      "114025    CA   Not Available\n",
      "114026    CA   Not Available\n",
      "114027    CA   Not Available\n",
      "114028    CA   Not Available\n",
      "114029    CA   Not Available\n",
      "114030    CA   Not Available\n",
      "114031    CA   Not Available\n",
      "114032    CA   Not Available\n",
      "114033    CA   Not Available\n",
      "114034    CA   Not Available\n",
      "114035    CA   Not Available\n",
      "114036    CA  Not Applicable\n",
      "114037    CA   Not Available\n",
      "114038    CA   Not Available\n",
      "114039    CA   Not Available\n",
      "114040    CA  Not Applicable\n",
      "114041    CA   Not Available\n",
      "114042    CA   Not Available\n",
      "114043    CA   Not Available\n",
      "114044    CA   Not Available\n",
      "114045    CA   Not Available\n",
      "114046    CA   Not Available\n",
      "114047    CA   Not Available\n",
      "\n",
      "[114048 rows x 2 columns]\n"
     ]
    }
   ],
   "source": [
    "import pandas as pd\n",
    "import matplotlib.pyplot as plt\n",
    "# YOUR CODE HERE\n",
    "# set the filepath and load in a shapefile\n",
    "\n",
    "\n",
    "data = pd.read_csv(\"Hospice_Compare_-_Provider_CAHPS_Hospice_Survey_Data.csv\", low_memory=False)\n",
    "df = pd.DataFrame(data)\n",
    "state_score = df.loc [:, ['State','Score']]\n",
    "print(state_score)\n",
    "\n",
    "# values = state_score.Score.value_counts()\n",
    "# print(state_score)\n",
    "# is_TX =  state_score['State']=='TX'\n",
    "# #print(is_TX)\n",
    "\n",
    "\n",
    "# # # filter rows for TX using  the boolean variable\n",
    "filter_TX = state_score[is_TX]\n",
    "#print(filter_TX.shape)\n",
    "# filter_TX.mean()\n",
    "# filter_TX.describe()\n",
    "# filter_TX.Score.value_counts()\n",
    "\n",
    "# columnSeriesObj = []\n",
    "# for column in filter_TX[['State', 'Score']]:\n",
    "#     print(filter_TX[Score])\n",
    "\n",
    "\n",
    "#    # Select column contents by column name using [] operator\n",
    "#    columnSeriesObj = filter_TX['Score']\n",
    "# print(columnSeriesObj)\n",
    "# We have successfully filtered pandas dataframe based on values of a column. Here, all the rows with State equal TX.\n",
    "\n",
    "\n",
    "\n",
    "# state_score1 = state_score.set_index('State')\n",
    "# state_score.describe()\n",
    " "
   ]
  },
  {
   "cell_type": "code",
   "execution_count": 85,
   "metadata": {},
   "outputs": [
    {
     "name": "stdout",
     "output_type": "stream",
     "text": [
      "0          True\n",
      "1          True\n",
      "2          True\n",
      "3          True\n",
      "4          True\n",
      "5          True\n",
      "6          True\n",
      "7          True\n",
      "8          True\n",
      "9          True\n",
      "10         True\n",
      "11         True\n",
      "12         True\n",
      "13         True\n",
      "14         True\n",
      "15         True\n",
      "16         True\n",
      "17         True\n",
      "18         True\n",
      "19         True\n",
      "20         True\n",
      "21         True\n",
      "22         True\n",
      "23         True\n",
      "24         True\n",
      "25         True\n",
      "26         True\n",
      "27         True\n",
      "28         True\n",
      "29         True\n",
      "          ...  \n",
      "114018    False\n",
      "114019    False\n",
      "114020    False\n",
      "114021    False\n",
      "114022    False\n",
      "114023    False\n",
      "114024    False\n",
      "114025    False\n",
      "114026    False\n",
      "114027    False\n",
      "114028    False\n",
      "114029    False\n",
      "114030    False\n",
      "114031    False\n",
      "114032    False\n",
      "114033    False\n",
      "114034    False\n",
      "114035    False\n",
      "114036    False\n",
      "114037    False\n",
      "114038    False\n",
      "114039    False\n",
      "114040    False\n",
      "114041    False\n",
      "114042    False\n",
      "114043    False\n",
      "114044    False\n",
      "114045    False\n",
      "114046    False\n",
      "114047    False\n",
      "Name: State, Length: 114048, dtype: bool\n"
     ]
    }
   ],
   "source": [
    "# Iterate over the sequence of column names\n",
    "for column in state_score:\n",
    "       # Select column contents by column name using [] operator\n",
    "    Texas = state_score['State'] == 'TX'\n",
    "    \n",
    "print(Texas)"
   ]
  },
  {
   "cell_type": "code",
   "execution_count": 145,
   "metadata": {},
   "outputs": [
    {
     "name": "stdout",
     "output_type": "stream",
     "text": [
      "34.783586452976714\n",
      "14\n"
     ]
    },
    {
     "data": {
      "image/png": "[encoded data removed]",
      "text/plain": [
       "<Figure size 432x288 with 1 Axes>"
      ]
     },
     "metadata": {},
     "output_type": "display_data"
    }
   ],
   "source": [
    "import statistics\n",
    "import numpy as np\n",
    "import matplotlib.mlab as mlab\n",
    "import matplotlib.pyplot as plt\n",
    "# Create an empty list \n",
    "\n",
    "nat_row_list =[] \n",
    "  \n",
    "# Iterate over each row \n",
    "for index, rows in state_score.iterrows(): \n",
    "    # Create list for the current row \n",
    "    my_list =[rows.Score] \n",
    "      \n",
    "    # append the list to the final list \n",
    "    nat_row_list.append(my_list) \n",
    "  \n",
    "# Print the list \n",
    "clean_row_list = []\n",
    "for i in nat_row_list:\n",
    "    for j in i:\n",
    "        if str(j)== 'Not Available' or str(j)=='Not Applicable' or str(j) == 'Not  Available':\n",
    "            pass\n",
    "        else:\n",
    "            clean_row_list.append(j)\n",
    "new_list = list(map(int, clean_row_list))  \n",
    "\n",
    "print(statistics.mean(new_list))\n",
    "print(statistics.median(new_list))\n",
    "num_bins = 100\n",
    "n, bins, patches = plt.hist(new_list, num_bins, facecolor='blue', alpha=0.8)\n",
    "plt.title(\"National Scores\")\n",
    "plt.show()\n"
   ]
  },
  {
   "cell_type": "code",
   "execution_count": 150,
   "metadata": {},
   "outputs": [
    {
     "name": "stdout",
     "output_type": "stream",
     "text": [
      "34.78260869565217\n",
      "14\n"
     ]
    },
    {
     "data": {
      "image/png": "[encoded data removed]",
      "text/plain": [
       "<Figure size 432x288 with 1 Axes>"
      ]
     },
     "metadata": {},
     "output_type": "display_data"
    }
   ],
   "source": [
    "\n",
    "TX_row_list =[] \n",
    "  \n",
    "# Iterate over each row \n",
    "for index, rows in filter_TX.iterrows(): \n",
    "    # Create list for the current row \n",
    "    TX_my_list =[rows.Score] \n",
    "      \n",
    "    # append the list to the final list \n",
    "    TX_row_list.append(TX_my_list) \n",
    "  \n",
    "# Print the list \n",
    "TX_clean_row_list = []\n",
    "for i in TX_row_list:\n",
    "    for j in i:\n",
    "        if str(j)== 'Not Available' or str(j)=='Not Applicable' or str(j) == 'Not  Available':\n",
    "            pass\n",
    "        else:\n",
    "            TX_clean_row_list.append(j)\n",
    "TX_new_list = list(map(int, TX_clean_row_list))  \n",
    "\n",
    "print(statistics.mean(TX_new_list))\n",
    "print(statistics.median(TX_new_list))\n",
    "num_bins = 100\n",
    "n, bins, patches = plt.hist(TX_new_list, num_bins, facecolor='blue', alpha=0.8)\n",
    "plt.title(\"Texas Scores\")\n",
    "plt.show()"
   ]
  },
  {
   "cell_type": "code",
   "execution_count": 156,
   "metadata": {},
   "outputs": [
    {
     "name": "stdout",
     "output_type": "stream",
     "text": [
      "34.78260869565217\n",
      "14\n"
     ]
    },
    {
     "data": {
      "image/png": "[encoded data removed]",
      "text/plain": [
       "<Figure size 432x288 with 1 Axes>"
      ]
     },
     "metadata": {},
     "output_type": "display_data"
    }
   ],
   "source": [
    "is_MD =  state_score['State']=='MD'\n",
    "#print(is_MD)\n",
    "\n",
    "\n",
    "# # filter rows for TX using  the boolean variable\n",
    "filter_MD = state_score[is_MD]\n",
    "\n",
    "MD_row_list =[] \n",
    "  \n",
    "# Iterate over each row \n",
    "for index, rows in filter_MD.iterrows(): \n",
    "    # Create list for the current row \n",
    "    MD_my_list =[rows.Score] \n",
    "      \n",
    "    # append the list to the final list \n",
    "    MD_row_list.append(MD_my_list) \n",
    "  \n",
    "# Print the list \n",
    "MD_clean_row_list = []\n",
    "for i in MD_row_list:\n",
    "    for j in i:\n",
    "        if str(j)== 'Not Available' or str(j)=='Not Applicable' or str(j) == 'Not  Available':\n",
    "            pass\n",
    "        else:\n",
    "            MD_clean_row_list.append(j)\n",
    "MD_new_list = list(map(int, MD_clean_row_list))  \n",
    "\n",
    "print(statistics.mean(MD_new_list))\n",
    "print(statistics.median(MD_new_list))\n",
    "num_bins = 100\n",
    "n, bins, patches = plt.hist(MD_new_list, num_bins, facecolor='blue', alpha=0.8)\n",
    "plt.title(\"Maryland Scores\")\n",
    "plt.show()\n",
    "#print(filter_MD.shape)"
   ]
  },
  {
   "cell_type": "code",
   "execution_count": 158,
   "metadata": {},
   "outputs": [
    {
     "name": "stdout",
     "output_type": "stream",
     "text": [
      "34.78260869565217\n",
      "14.0\n"
     ]
    },
    {
     "data": {
      "image/png": "[encoded data removed]",
      "text/plain": [
       "<Figure size 432x288 with 1 Axes>"
      ]
     },
     "metadata": {},
     "output_type": "display_data"
    }
   ],
   "source": [
    "is_NJ =  state_score['State']=='NJ'\n",
    "#print(is_NJ)\n",
    "\n",
    "\n",
    "# # filter rows for TX using  the boolean variable\n",
    "filter_NJ = state_score[is_NJ]\n",
    "\n",
    "NJ_row_list =[] \n",
    "  \n",
    "# Iterate over each row \n",
    "for index, rows in filter_NJ.iterrows(): \n",
    "    # Create list for the current row \n",
    "    NJ_my_list =[rows.Score] \n",
    "      \n",
    "    # append the list to the final list \n",
    "    NJ_row_list.append(NJ_my_list) \n",
    "  \n",
    "# Print the list \n",
    "NJ_clean_row_list = []\n",
    "for i in NJ_row_list:\n",
    "    for j in i:\n",
    "        if str(j)== 'Not Available' or str(j)=='Not Applicable' or str(j) == 'Not  Available':\n",
    "            pass\n",
    "        else:\n",
    "            NJ_clean_row_list.append(j)\n",
    "NJ_new_list = list(map(int, NJ_clean_row_list))  \n",
    "\n",
    "print(statistics.mean(NJ_new_list))\n",
    "print(statistics.median(NJ_new_list))\n",
    "num_bins = 100\n",
    "n, bins, patches = plt.hist(NJ_new_list, num_bins, facecolor='blue', alpha=0.8)\n",
    "plt.title(\"New Jersey Scores\")\n",
    "plt.show()\n",
    "#print(filter_NJ.shape)"
   ]
  },
  {
   "cell_type": "code",
   "execution_count": 164,
   "metadata": {},
   "outputs": [
    {
     "name": "stdout",
     "output_type": "stream",
     "text": [
      "34.78260869565217\n",
      "14.0\n"
     ]
    },
    {
     "data": {
      "image/png": "[encoded data removed]",
      "text/plain": [
       "<Figure size 432x288 with 1 Axes>"
      ]
     },
     "metadata": {},
     "output_type": "display_data"
    }
   ],
   "source": [
    "is_NJ =  state_score['State']=='NJ'\n",
    "#print(is_NJ)\n",
    "\n",
    "\n",
    "# # filter rows for TX using  the boolean variable\n",
    "filter_NJ = state_score[is_NJ]\n",
    "\n",
    "NJ_row_list =[] \n",
    "  \n",
    "# Iterate over each row \n",
    "for index, rows in filter_NJ.iterrows(): \n",
    "    # Create list for the current row \n",
    "    NJ_my_list =[rows.Score] \n",
    "      \n",
    "    # append the list to the final list \n",
    "    NJ_row_list.append(NJ_my_list) \n",
    "  \n",
    "# Print the list \n",
    "NJ_clean_row_list = []\n",
    "for i in NJ_row_list:\n",
    "    for j in i:\n",
    "        if str(j)== 'Not Available' or str(j)=='Not Applicable' or str(j) == 'Not  Available':\n",
    "            pass\n",
    "        else:\n",
    "            NJ_clean_row_list.append(j)\n",
    "NJ_new_list = list(map(int, NJ_clean_row_list))  \n",
    "\n",
    "print(statistics.mean(NJ_new_list))\n",
    "print(statistics.median(NJ_new_list))\n",
    "num_bins = 100\n",
    "n, bins, patches = plt.hist(NJ_new_list, num_bins, facecolor='blue', alpha=0.8)\n",
    "plt.title(\"New Jersey Scores\")\n",
    "plt.show()\n",
    "#print(filter_NJ.shape)"
   ]
  },
  {
   "cell_type": "code",
   "execution_count": 159,
   "metadata": {},
   "outputs": [
    {
     "name": "stdout",
     "output_type": "stream",
     "text": [
      "34.78260869565217\n",
      "12\n"
     ]
    },
    {
     "data": {
      "image/png": "[encoded data removed]",
      "text/plain": [
       "<Figure size 432x288 with 1 Axes>"
      ]
     },
     "metadata": {},
     "output_type": "display_data"
    }
   ],
   "source": [
    "is_HI =  state_score['State']=='HI'\n",
    "#print(is_HI)\n",
    "\n",
    "\n",
    "# # filter rows for TX using  the boolean variable\n",
    "filter_HI = state_score[is_HI]\n",
    "\n",
    "HI_row_list =[] \n",
    "  \n",
    "# Iterate over each row \n",
    "for index, rows in filter_HI.iterrows(): \n",
    "    # Create list for the current row \n",
    "    HI_my_list =[rows.Score] \n",
    "      \n",
    "    # append the list to the final list \n",
    "    HI_row_list.append(HI_my_list) \n",
    "  \n",
    "# Print the list \n",
    "HI_clean_row_list = []\n",
    "for i in HI_row_list:\n",
    "    for j in i:\n",
    "        if str(j)== 'Not Available' or str(j)=='Not Applicable' or str(j) == 'Not  Available':\n",
    "            pass\n",
    "        else:\n",
    "            HI_clean_row_list.append(j)\n",
    "HI_new_list = list(map(int, HI_clean_row_list))  \n",
    "\n",
    "print(statistics.mean(HI_new_list))\n",
    "print(statistics.median(HI_new_list))\n",
    "num_bins = 100\n",
    "n, bins, patches = plt.hist(HI_new_list, num_bins, facecolor='blue', alpha=0.8)\n",
    "plt.title(\"Hawaii Scores\")\n",
    "plt.show()\n",
    "#print(filter_HI.shape)"
   ]
  },
  {
   "cell_type": "code",
   "execution_count": 160,
   "metadata": {},
   "outputs": [
    {
     "name": "stdout",
     "output_type": "stream",
     "text": [
      "34.79228486646884\n",
      "13.0\n"
     ]
    },
    {
     "data": {
      "image/png": "[encoded data removed]",
      "text/plain": [
       "<Figure size 432x288 with 1 Axes>"
      ]
     },
     "metadata": {},
     "output_type": "display_data"
    }
   ],
   "source": [
    "is_MA =  state_score['State']=='MA'\n",
    "#print(is_MA)\n",
    "\n",
    "\n",
    "# # filter rows for TX using  the boolean variable\n",
    "filter_MA = state_score[is_MA]\n",
    "\n",
    "MA_row_list =[] \n",
    "  \n",
    "# Iterate over each row \n",
    "for index, rows in filter_MA.iterrows(): \n",
    "    # Create list for the current row \n",
    "    MA_my_list =[rows.Score] \n",
    "      \n",
    "    # append the list to the final list \n",
    "    MA_row_list.append(MA_my_list) \n",
    "  \n",
    "# Print the list \n",
    "MA_clean_row_list = []\n",
    "for i in MA_row_list:\n",
    "    for j in i:\n",
    "        if str(j)== 'Not Available' or str(j)=='Not Applicable' or str(j) == 'Not  Available':\n",
    "            pass\n",
    "        else:\n",
    "            MA_clean_row_list.append(j)\n",
    "MA_new_list = list(map(int, MA_clean_row_list))  \n",
    "\n",
    "print(statistics.mean(MA_new_list))\n",
    "print(statistics.median(MA_new_list))\n",
    "num_bins = 100\n",
    "n, bins, patches = plt.hist(MA_new_list, num_bins, facecolor='blue', alpha=0.8)\n",
    "plt.title(\"Massachusetts Scores\")\n",
    "plt.show()\n",
    "#print(filter_MA.shape)"
   ]
  },
  {
   "cell_type": "code",
   "execution_count": 162,
   "metadata": {},
   "outputs": [
    {
     "name": "stdout",
     "output_type": "stream",
     "text": [
      "34.78260869565217\n",
      "14\n"
     ]
    },
    {
     "data": {
      "image/png": "[encoded data removed]",
      "text/plain": [
       "<Figure size 432x288 with 1 Axes>"
      ]
     },
     "metadata": {},
     "output_type": "display_data"
    }
   ],
   "source": [
    "is_CT =  state_score['State']=='CT'\n",
    "#print(is_CT)\n",
    "\n",
    "\n",
    "# # filter rows for TX using  the boolean variable\n",
    "filter_CT = state_score[is_CT]\n",
    "\n",
    "CT_row_list =[] \n",
    "  \n",
    "# Iterate over each row \n",
    "for index, rows in filter_CT.iterrows(): \n",
    "    # Create list for the current row \n",
    "    CT_my_list =[rows.Score] \n",
    "      \n",
    "    # append the list to the final list \n",
    "    CT_row_list.append(CT_my_list) \n",
    "  \n",
    "# Print the list \n",
    "CT_clean_row_list = []\n",
    "for i in CT_row_list:\n",
    "    for j in i:\n",
    "        if str(j)== 'Not Available' or str(j)=='Not Applicable' or str(j) == 'Not  Available':\n",
    "            pass\n",
    "        else:\n",
    "            CT_clean_row_list.append(j)\n",
    "CT_new_list = list(map(int, CT_clean_row_list))  \n",
    "\n",
    "print(statistics.mean(CT_new_list))\n",
    "print(statistics.median(CT_new_list))\n",
    "num_bins = 100\n",
    "n, bins, patches = plt.hist(CT_new_list, num_bins, facecolor='blue', alpha=0.8)\n",
    "plt.title(\"Connecticut Scores\")\n",
    "plt.show()\n",
    "#print(filter_CT.shape)"
   ]
  },
  {
   "cell_type": "code",
   "execution_count": 163,
   "metadata": {},
   "outputs": [
    {
     "name": "stdout",
     "output_type": "stream",
     "text": [
      "34.78260869565217\n",
      "11\n"
     ]
    },
    {
     "data": {
      "image/png": "[encoded data removed]",
      "text/plain": [
       "<Figure size 432x288 with 1 Axes>"
      ]
     },
     "metadata": {},
     "output_type": "display_data"
    }
   ],
   "source": [
    "is_WV =  state_score['State']=='WV'\n",
    "#print(is_WV)\n",
    "\n",
    "\n",
    "# # filter rows for TX using  the boolean variable\n",
    "filter_WV = state_score[is_WV]\n",
    "\n",
    "WV_row_list =[] \n",
    "  \n",
    "# Iterate over each row \n",
    "for index, rows in filter_WV.iterrows(): \n",
    "    # Create list for the current row \n",
    "    WV_my_list =[rows.Score] \n",
    "      \n",
    "    # append the list to the final list \n",
    "    WV_row_list.append(WV_my_list) \n",
    "  \n",
    "# Print the list \n",
    "WV_clean_row_list = []\n",
    "for i in WV_row_list:\n",
    "    for j in i:\n",
    "        if str(j)== 'Not Available' or str(j)=='Not Applicable' or str(j) == 'Not  Available':\n",
    "            pass\n",
    "        else:\n",
    "            WV_clean_row_list.append(j)\n",
    "WV_new_list = list(map(int, WV_clean_row_list))  \n",
    "\n",
    "print(statistics.mean(WV_new_list))\n",
    "print(statistics.median(WV_new_list))\n",
    "num_bins = 100\n",
    "n, bins, patches = plt.hist(WV_new_list, num_bins, facecolor='blue', alpha=0.8)\n",
    "plt.title(\"West Virginia Scores\")\n",
    "plt.show()\n",
    "#print(filter_WV.shape)"
   ]
  },
  {
   "cell_type": "code",
   "execution_count": 165,
   "metadata": {},
   "outputs": [
    {
     "name": "stdout",
     "output_type": "stream",
     "text": [
      "34.79318734793188\n",
      "12\n"
     ]
    },
    {
     "data": {
      "image/png": "[encoded data removed]",
      "text/plain": [
       "<Figure size 432x288 with 1 Axes>"
      ]
     },
     "metadata": {},
     "output_type": "display_data"
    }
   ],
   "source": [
    "is_MS =  state_score['State']=='MS'\n",
    "#print(is_MS)\n",
    "\n",
    "\n",
    "# # filter rows for TX using  the boolean variable\n",
    "filter_MS = state_score[is_MS]\n",
    "\n",
    "MS_row_list =[] \n",
    "  \n",
    "# Iterate over each row \n",
    "for index, rows in filter_MS.iterrows(): \n",
    "    # Create list for the current row \n",
    "    MS_my_list =[rows.Score] \n",
    "      \n",
    "    # append the list to the final list \n",
    "    MS_row_list.append(MS_my_list) \n",
    "  \n",
    "# Print the list \n",
    "MS_clean_row_list = []\n",
    "for i in MS_row_list:\n",
    "    for j in i:\n",
    "        if str(j)== 'Not Available' or str(j)=='Not Applicable' or str(j) == 'Not  Available':\n",
    "            pass\n",
    "        else:\n",
    "            MS_clean_row_list.append(j)\n",
    "MS_new_list = list(map(int, MS_clean_row_list))  \n",
    "\n",
    "print(statistics.mean(MS_new_list))\n",
    "print(statistics.median(MS_new_list))\n",
    "num_bins = 100\n",
    "n, bins, patches = plt.hist(MS_new_list, num_bins, facecolor='blue', alpha=0.8)\n",
    "plt.title(\"Mississippi Scores\")\n",
    "plt.show()\n",
    "#print(filter_MS.shape)"
   ]
  },
  {
   "cell_type": "code",
   "execution_count": 166,
   "metadata": {},
   "outputs": [
    {
     "name": "stdout",
     "output_type": "stream",
     "text": [
      "34.78260869565217\n",
      "12\n"
     ]
    },
    {
     "data": {
      "image/png": "[encoded data removed]",
      "text/plain": [
       "<Figure size 432x288 with 1 Axes>"
      ]
     },
     "metadata": {},
     "output_type": "display_data"
    }
   ],
   "source": [
    "is_AR =  state_score['State']=='AR'\n",
    "#print(is_AR)\n",
    "\n",
    "\n",
    "# # filter rows for TX using  the boolean variable\n",
    "filter_AR = state_score[is_AR]\n",
    "\n",
    "AR_row_list =[] \n",
    "  \n",
    "# Iterate over each row \n",
    "for index, rows in filter_AR.iterrows(): \n",
    "    # Create list for the current row \n",
    "    AR_my_list =[rows.Score] \n",
    "      \n",
    "    # append the list to the final list \n",
    "    AR_row_list.append(AR_my_list) \n",
    "  \n",
    "# Print the list \n",
    "AR_clean_row_list = []\n",
    "for i in AR_row_list:\n",
    "    for j in i:\n",
    "        if str(j)== 'Not Available' or str(j)=='Not Applicable' or str(j) == 'Not  Available':\n",
    "            pass\n",
    "        else:\n",
    "            AR_clean_row_list.append(j)\n",
    "AR_new_list = list(map(int, AR_clean_row_list))  \n",
    "\n",
    "print(statistics.mean(AR_new_list))\n",
    "print(statistics.median(AR_new_list))\n",
    "num_bins = 100\n",
    "n, bins, patches = plt.hist(AR_new_list, num_bins, facecolor='blue', alpha=0.8)\n",
    "plt.title(\"Arkansas Scores\")\n",
    "plt.show()\n",
    "#print(filter_AR.shape)"
   ]
  },
  {
   "cell_type": "code",
   "execution_count": 167,
   "metadata": {},
   "outputs": [
    {
     "name": "stdout",
     "output_type": "stream",
     "text": [
      "34.78260869565217\n",
      "11.0\n"
     ]
    },
    {
     "data": {
      "image/png": "[encoded data removed]",
      "text/plain": [
       "<Figure size 432x288 with 1 Axes>"
      ]
     },
     "metadata": {},
     "output_type": "display_data"
    }
   ],
   "source": [
    "is_LA =  state_score['State']=='LA'\n",
    "#print(is_LA)\n",
    "\n",
    "\n",
    "# # filter rows for TX using  the boolean variable\n",
    "filter_LA = state_score[is_LA]\n",
    "\n",
    "LA_row_list =[] \n",
    "  \n",
    "# Iterate over each row \n",
    "for index, rows in filter_LA.iterrows(): \n",
    "    # Create list for the current row \n",
    "    LA_my_list =[rows.Score] \n",
    "      \n",
    "    # append the list to the final list \n",
    "    LA_row_list.append(LA_my_list) \n",
    "  \n",
    "# Print the list \n",
    "LA_clean_row_list = []\n",
    "for i in LA_row_list:\n",
    "    for j in i:\n",
    "        if str(j)== 'Not Available' or str(j)=='Not Applicable' or str(j) == 'Not  Available':\n",
    "            pass\n",
    "        else:\n",
    "            LA_clean_row_list.append(j)\n",
    "LA_new_list = list(map(int, LA_clean_row_list))  \n",
    "\n",
    "print(statistics.mean(LA_new_list))\n",
    "print(statistics.median(LA_new_list))\n",
    "num_bins = 100\n",
    "n, bins, patches = plt.hist(LA_new_list, num_bins, facecolor='blue', alpha=0.8)\n",
    "plt.title(\"Louisiana Scores\")\n",
    "plt.show()\n",
    "#print(filter_LA.shape)"
   ]
  },
  {
   "cell_type": "code",
   "execution_count": 168,
   "metadata": {},
   "outputs": [
    {
     "name": "stdout",
     "output_type": "stream",
     "text": [
      "34.78260869565217\n",
      "15.0\n"
     ]
    },
    {
     "data": {
      "image/png": "[encoded data removed]",
      "text/plain": [
       "<Figure size 432x288 with 1 Axes>"
      ]
     },
     "metadata": {},
     "output_type": "display_data"
    }
   ],
   "source": [
    "is_NM =  state_score['State']=='NM'\n",
    "#print(is_NM)\n",
    "\n",
    "\n",
    "# # filter rows for TX using  the boolean variable\n",
    "filter_NM = state_score[is_NM]\n",
    "\n",
    "NM_row_list =[] \n",
    "  \n",
    "# Iterate over each row \n",
    "for index, rows in filter_NM.iterrows(): \n",
    "    # Create list for the current row \n",
    "    NM_my_list =[rows.Score] \n",
    "      \n",
    "    # append the list to the final list \n",
    "    NM_row_list.append(NM_my_list) \n",
    "  \n",
    "# Print the list \n",
    "NM_clean_row_list = []\n",
    "for i in NM_row_list:\n",
    "    for j in i:\n",
    "        if str(j)== 'Not Available' or str(j)=='Not Applicable' or str(j) == 'Not  Available':\n",
    "            pass\n",
    "        else:\n",
    "            NM_clean_row_list.append(j)\n",
    "NM_new_list = list(map(int, NM_clean_row_list))  \n",
    "\n",
    "print(statistics.mean(NM_new_list))\n",
    "print(statistics.median(NM_new_list))\n",
    "num_bins = 100\n",
    "n, bins, patches = plt.hist(NM_new_list, num_bins, facecolor='blue', alpha=0.8)\n",
    "plt.title(\"New Mexico Scores\")\n",
    "plt.show()\n",
    "#print(filter_NM.shape)"
   ]
  },
  {
   "cell_type": "code",
   "execution_count": 169,
   "metadata": {},
   "outputs": [
    {
     "name": "stdout",
     "output_type": "stream",
     "text": [
      "34.78260869565217\n",
      "14.0\n"
     ]
    },
    {
     "data": {
      "image/png": "[encoded data removed]",
      "text/plain": [
       "<Figure size 432x288 with 1 Axes>"
      ]
     },
     "metadata": {},
     "output_type": "display_data"
    }
   ],
   "source": [
    "is_UT =  state_score['State']=='UT'\n",
    "#print(is_UT)\n",
    "\n",
    "\n",
    "# # filter rows for TX using  the boolean variable\n",
    "filter_UT = state_score[is_UT]\n",
    "\n",
    "UT_row_list =[] \n",
    "  \n",
    "# Iterate over each row \n",
    "for index, rows in filter_UT.iterrows(): \n",
    "    # Create list for the current row \n",
    "    UT_my_list =[rows.Score] \n",
    "      \n",
    "    # append the list to the final list \n",
    "    UT_row_list.append(UT_my_list) \n",
    "  \n",
    "# Print the list \n",
    "UT_clean_row_list = []\n",
    "for i in UT_row_list:\n",
    "    for j in i:\n",
    "        if str(j)== 'Not Available' or str(j)=='Not Applicable' or str(j) == 'Not  Available':\n",
    "            pass\n",
    "        else:\n",
    "            UT_clean_row_list.append(j)\n",
    "UT_new_list = list(map(int, UT_clean_row_list))  \n",
    "\n",
    "print(statistics.mean(UT_new_list))\n",
    "print(statistics.median(UT_new_list))\n",
    "num_bins = 100\n",
    "n, bins, patches = plt.hist(UT_new_list, num_bins, facecolor='blue', alpha=0.8)\n",
    "plt.title(\"UTAH Scores\")\n",
    "plt.show()\n",
    "#print(filter_UT.shape)"
   ]
  },
  {
   "cell_type": "code",
   "execution_count": 170,
   "metadata": {},
   "outputs": [
    {
     "name": "stdout",
     "output_type": "stream",
     "text": [
      "34.78260869565217\n",
      "13\n"
     ]
    },
    {
     "data": {
      "image/png": "[encoded data removed]",
      "text/plain": [
       "<Figure size 432x288 with 1 Axes>"
      ]
     },
     "metadata": {},
     "output_type": "display_data"
    }
   ],
   "source": [
    "is_ND =  state_score['State']=='ND'\n",
    "#print(is_ND)\n",
    "\n",
    "\n",
    "# # filter rows for TX using  the boolean variable\n",
    "filter_ND = state_score[is_ND]\n",
    "\n",
    "ND_row_list =[] \n",
    "  \n",
    "# Iterate over each row \n",
    "for index, rows in filter_ND.iterrows(): \n",
    "    # Create list for the current row \n",
    "    ND_my_list =[rows.Score] \n",
    "      \n",
    "    # append the list to the final list \n",
    "    ND_row_list.append(ND_my_list) \n",
    "  \n",
    "# Print the list \n",
    "ND_clean_row_list = []\n",
    "for i in ND_row_list:\n",
    "    for j in i:\n",
    "        if str(j)== 'Not Available' or str(j)=='Not Applicable' or str(j) == 'Not  Available':\n",
    "            pass\n",
    "        else:\n",
    "            ND_clean_row_list.append(j)\n",
    "ND_new_list = list(map(int, ND_clean_row_list))  \n",
    "\n",
    "print(statistics.mean(ND_new_list))\n",
    "print(statistics.median(ND_new_list))\n",
    "num_bins = 100\n",
    "n, bins, patches = plt.hist(ND_new_list, num_bins, facecolor='blue', alpha=0.8)\n",
    "plt.title(\"North Dakota Scores\")\n",
    "plt.show()\n",
    "#print(filter_ND.shape)"
   ]
  },
  {
   "cell_type": "code",
   "execution_count": 171,
   "metadata": {},
   "outputs": [
    {
     "name": "stdout",
     "output_type": "stream",
     "text": [
      "34.78260869565217\n",
      "16\n"
     ]
    },
    {
     "data": {
      "image/png": "[encoded data removed]",
      "text/plain": [
       "<Figure size 432x288 with 1 Axes>"
      ]
     },
     "metadata": {},
     "output_type": "display_data"
    }
   ],
   "source": [
    "is_CA =  state_score['State']=='CA'\n",
    "#print(is_CA)\n",
    "\n",
    "\n",
    "# # filter rows for TX using  the boolean variable\n",
    "filter_CA = state_score[is_CA]\n",
    "\n",
    "CA_row_list =[] \n",
    "  \n",
    "# Iterate over each row \n",
    "for index, rows in filter_CA.iterrows(): \n",
    "    # Create list for the current row \n",
    "    CA_my_list =[rows.Score] \n",
    "      \n",
    "    # append the list to the final list \n",
    "    CA_row_list.append(CA_my_list) \n",
    "  \n",
    "# Print the list \n",
    "CA_clean_row_list = []\n",
    "for i in CA_row_list:\n",
    "    for j in i:\n",
    "        if str(j)== 'Not Available' or str(j)=='Not Applicable' or str(j) == 'Not  Available':\n",
    "            pass\n",
    "        else:\n",
    "            CA_clean_row_list.append(j)\n",
    "CA_new_list = list(map(int, CA_clean_row_list))  \n",
    "\n",
    "print(statistics.mean(CA_new_list))\n",
    "print(statistics.median(CA_new_list))\n",
    "num_bins = 100\n",
    "n, bins, patches = plt.hist(CA_new_list, num_bins, facecolor='blue', alpha=0.8)\n",
    "plt.title(\"California Scores\")\n",
    "plt.show()\n",
    "#print(filter_CA.shape)"
   ]
  },
  {
   "cell_type": "code",
   "execution_count": null,
   "metadata": {},
   "outputs": [],
   "source": []
  }
 ],
 "metadata": {
  "kernelspec": {
   "display_name": "Python 3",
   "language": "python",
   "name": "python3"
  },
  "language_info": {
   "codemirror_mode": {
    "name": "ipython",
    "version": 3
   },
   "file_extension": ".py",
   "mimetype": "text/x-python",
   "name": "python",
   "nbconvert_exporter": "python",
   "pygments_lexer": "ipython3",
   "version": "3.7.3"
  }
 },
 "nbformat": 4,
 "nbformat_minor": 2
}
