{
 "cells": [
  {
   "cell_type": "code",
   "execution_count": 125,
   "metadata": {},
   "outputs": [],
   "source": [
    "import matplotlib.pyplot as plt\n",
    "import numpy as np\n",
    "import statistics\n",
    "# YOUR CODE HERE\n",
    "# set the filepath and load in a shapefile\n",
    "\n",
    "\n",
    "data = pd.read_csv(\"Hospice_Compare_-_Provider_CAHPS_Hospice_Survey_Data.csv\", low_memory=False)\n",
    "# print(data.head())\n",
    "df = pd.DataFrame(data)\n",
    "df_st_city = df.loc [:, ['State','City','Score']]\n"
   ]
  },
  {
   "cell_type": "markdown",
   "metadata": {},
   "source": [
    "#Poorest Towns in America: Methodology\n",
    "Source: Samuel Stebbins, Michael B. Sauter, Business Insider, \"50 million Americans live in poverty — here are the poorest towns in every US state\", 24/7 Wall St, Oct. 1, 2018\n",
    " \n",
    " Detailed findings & methodology\n",
    "\n",
    "For every state except Alaska and Hawaii, the Department of Health and Human Services sets the official poverty income at $25,100 a year or less for a family of four. Currently, close to 50 million Americans live below that threshold. Poverty is the most extreme example of financial hardship, and as such, the official poverty rate fails to capture tens of millions of additional Americans who also struggle to make ends meet.\n",
    "\n",
    "In 45 of the 50 towns on this list, the poverty rate exceeds the poverty rate across the state as a whole. In over half of all towns on this list, more than one in every four residents live in poverty, well above the US poverty rate of 15.1%. In New Square, the poorest town in New York state, 70% of the population lives in poverty, the highest poverty rate of any US town.\n",
    "\n",
    "Low-income Americans often struggle to afford even the most basic necessities. Partially as a result, the low income towns on this list often also have a high SNAP — formerly known as food stamps — recipiency rates. This rate measures the share of households that receive SNAP benefits. Only three towns on this list have a lower SNAP recipiency rate than their respective state as a whole. In more than a dozen towns on this list, more than one in every three households depend on government support to afford food.\n",
    "\n",
    "The low incomes in the towns on this list also often are reflected in property values. People live where they can afford housing, and in low income areas homes are often relatively inexpensive. New Square, New York, is the only town on this list with a higher median home value than the state as a whole.\n",
    "\n",
    "Both on an individual level and across broad populations, income is closely linked to educational attainment. Earning potential tends to increase with education — those with a bachelor's degree earn considerably more on average than those with just a high school diploma. Additionally, major companies that offer high-skilled, high-paying jobs are more likely to establish a presence in areas with a well-educated labor pool.\n",
    "\n",
    "Not surprisingly, educational attainment levels are relatively low in the towns on this list. In 46 of the 50 towns, the share of adults with a bachelor's degree or higher is lower than the corresponding share across the state as a whole. In 22 towns on this list, the share of adults with a four-year degree is less than half the college attainment rate nationwide of 30.3%.\n",
    "\n",
    "To determine the poorest town in each state, 24/7 Wall St. reviewed median household incomes in every town with a population between 1,000 and 25,000 in each state from the US Census Bureau's American Community Survey. Our list includes Census-designated places, which are unincorporated regions that are treated as towns for statistical purposes. All social and economic figures are based on five-year estimates for the period of 2012-2016. To control for potential data errors that can arise in low population areas, we did not consider towns where the margin of error at 90% confidence was greater than 10% of the point estimate of both median household income and population. We considered the percentage of adults who have at least a bachelor's degree, the share with a high school diploma, the towns' poverty rates, SNAP benefit recipiency rates, and median home value — all from the ACS. Regional price parity, or cost of living, by state is for the most recent available year from the Bureau of Economic Analysis. \n"
   ]
  },
  {
   "cell_type": "code",
   "execution_count": 134,
   "metadata": {},
   "outputs": [],
   "source": [
    "#Poorest Towns in America\n",
    "\n",
    "\n",
    "cumberland_MD = df_st_city[df_st_city.City == 'CUMBERLAND']\n",
    "#     Town median household income: $31,855\n",
    "#     State median household income: $76,067\n",
    "#     Town poverty rate: 24%\n",
    "#     Town population: 20,290 \n",
    " \n",
    "\n",
    "selma_AL = df_st_city[df_st_city.City == 'SELMA']\n",
    "    # Town median household income: $23,283\n",
    "    # State median household income: $44,758\n",
    "    # Town poverty rate: 41.4% \n",
    "glasgow_KY = df_st_city[df_st_city.City == 'GLASGOW']\n",
    "#     Town median household income: $28,362\n",
    "#     State median household income: $44,811\n",
    "#     Town poverty rate: 26.9%\n",
    "#     Town population: 14,338 \n",
    "\n",
    "\n",
    "rupert_ID = df_st_city[df_st_city.City == 'RUPERT']\n",
    "#     Town median household income: $35,011\n",
    "#     State median household income: $49,174\n",
    "#     Town poverty rate: 27.4%\n",
    "#     Town population: 5,702 \n",
    "\n",
    "\n",
    "cordele_GA = df_st_city[df_st_city.City == 'CORDELE']\n",
    "#     Town median household income: $23,294\n",
    "#     State median household income: $51,037\n",
    "#     Town poverty rate: 49.6%\n",
    "#     Town population: 11,015 \n",
    "\n",
    "camden_AR = df_st_city[df_st_city.City == 'CAMDEN']\n",
    "#     Town median household income: $25,581\n",
    "#     State median household income: $42,336\n",
    "#     Town poverty rate: 34%\n",
    "#     Town population: 11,515 \n",
    "\n",
    "smyrna_DE = df_st_city[df_st_city.City == 'SMYRNA'] # 24 Locations, all scores =  NOT AVAILABLE\n",
    "\n",
    "johnstown_PA = df_st_city[df_st_city.City == 'JOHNSTOWN']\n",
    "#     Town median household income: $24,075\n",
    "#     State median household income: $54,895\n",
    "#     Town poverty rate: 37%\n",
    "#     Town population: 20,169 \n",
    "\n",
    "hillsville_VA = df_st_city[df_st_city.City == 'HILLSVILLE']\n",
    "#     Town median household income: $30,943\n",
    "#     State median household income: $66,149\n",
    "#     Town poverty rate: 21.1%\n",
    "#     Town population: 2,683 \n",
    "bemidji_MN = df_st_city[df_st_city.City == 'BEMIDJI']\n",
    "#     Town median household income: $33,680\n",
    "#     State median household income: $63,217\n",
    "#     Town poverty rate: 24.1%\n",
    "#     Town population: 14,664 \n",
    "\n"
   ]
  },
  {
   "cell_type": "code",
   "execution_count": 131,
   "metadata": {},
   "outputs": [
    {
     "name": "stdout",
     "output_type": "stream",
     "text": [
      "4.8\n",
      "91\n",
      "34.78260869565217\n"
     ]
    }
   ],
   "source": [
    "cscr = cumberland_MD['Score']\n",
    "clean_cscr = []\n",
    "for i in cscr:\n",
    "    if str(i)== 'Not Available' or str(i)=='Not Applicable' or str(i) == 'Not  Available':\n",
    "        pass\n",
    "    else:\n",
    "        clean_cscr.append(i)\n",
    "cscr_ints = list(map(int, clean_cscr))\n",
    "\n",
    "cscr_ints_lower_values = []\n",
    "for k in cscr_ints:\n",
    "    if k <50:\n",
    "        cscr_ints_lower_values.append(k)\n",
    "    else:\n",
    "        pass\n",
    "\n",
    "cscr_ints_upper_values = []\n",
    "for l in cscr_ints:\n",
    "    if l >50:\n",
    "        cscr_ints_upper_values.append(l)\n",
    "    else:\n",
    "        pass\n",
    "\n",
    "print(statistics.mean(cscr_ints_lower_values))\n",
    "print(statistics.mean(cscr_ints_upper_values))\n",
    "print(statistics.mean(cscr_ints))\n",
    "\n",
    "           "
   ]
  },
  {
   "cell_type": "code",
   "execution_count": 161,
   "metadata": {},
   "outputs": [
    {
     "name": "stdout",
     "output_type": "stream",
     "text": [
      "4.8\n",
      "91\n",
      "34.78260869565217\n",
      "23\n"
     ]
    }
   ],
   "source": [
    "cmberscr = cumberland_MD['Score']\n",
    "clean_cmberscr = []\n",
    "for i in cmberscr:\n",
    "    if str(i)== 'Not Available' or str(i)=='Not Applicable' or str(i) == 'Not  Available':\n",
    "        pass\n",
    "    else:\n",
    "        clean_cmberscr.append(i)\n",
    "cmberscr_ints = list(map(int, clean_cscr))\n",
    "\n",
    "cmberscr_ints_lower_values = []\n",
    "for k in cmberscr_ints:\n",
    "    if k <50:\n",
    "        cmberscr_ints_lower_values.append(k)\n",
    "    else:\n",
    "        pass\n",
    "\n",
    "cmberscr_ints_upper_values = []\n",
    "for l in cmberscr_ints:\n",
    "    if l >50:\n",
    "        cmberscr_ints_upper_values.append(l)\n",
    "    else:\n",
    "        pass\n",
    "\n",
    "print(statistics.mean(cmberscr_ints_lower_values))\n",
    "print(statistics.mean(cmberscr_ints_upper_values))\n",
    "print(statistics.mean(cmberscr_ints))\n",
    "print(len(cmberscr_ints))\n",
    "\n",
    "# COmpare to MD state_wide scores:\n",
    "#Low: 9.466666666666667\n",
    "# High: 82.25\n"
   ]
  },
  {
   "cell_type": "code",
   "execution_count": 136,
   "metadata": {},
   "outputs": [
    {
     "name": "stdout",
     "output_type": "stream",
     "text": [
      "9.266666666666667\n",
      "82.625\n",
      "34.78260869565217\n"
     ]
    }
   ],
   "source": [
    "slmascr = selma_AL['Score']\n",
    "clean_slmascr = []\n",
    "for i in slmascr:\n",
    "    if str(i)== 'Not Available' or str(i)=='Not Applicable' or str(i) == 'Not  Available':\n",
    "        pass\n",
    "    else:\n",
    "        clean_slmascr.append(i)\n",
    "slmascr_ints = list(map(int, clean_slmascr))\n",
    "\n",
    "slmascr_ints_lower_values = []\n",
    "for k in slmascr_ints:\n",
    "    if k <50:\n",
    "        slmascr_ints_lower_values.append(k)\n",
    "    else:\n",
    "        pass\n",
    "\n",
    "slmascr_ints_upper_values = []\n",
    "for l in slmascr_ints:\n",
    "    if l >50:\n",
    "        slmascr_ints_upper_values.append(l)\n",
    "    else:\n",
    "        pass\n",
    "\n",
    "print(statistics.mean(slmascr_ints_lower_values))\n",
    "print(statistics.mean(slmascr_ints_upper_values))\n",
    "print(statistics.mean(slmascr_ints))"
   ]
  },
  {
   "cell_type": "code",
   "execution_count": 137,
   "metadata": {},
   "outputs": [
    {
     "name": "stdout",
     "output_type": "stream",
     "text": [
      "8.333333333333334\n",
      "84.375\n",
      "34.78260869565217\n"
     ]
    }
   ],
   "source": [
    "glscscr = glasgow_KY['Score']\n",
    "clean_glscscr = []\n",
    "for i in glscscr:\n",
    "    if str(i)== 'Not Available' or str(i)=='Not Applicable' or str(i) == 'Not  Available':\n",
    "        pass\n",
    "    else:\n",
    "        clean_glscscr.append(i)\n",
    "glscscr_ints = list(map(int, clean_glscscr))\n",
    "\n",
    "glscscr_ints_lower_values = []\n",
    "for k in glscscr_ints:\n",
    "    if k <50:\n",
    "        glscscr_ints_lower_values.append(k)\n",
    "    else:\n",
    "        pass\n",
    "\n",
    "glscscr_ints_upper_values = []\n",
    "for l in glscscr_ints:\n",
    "    if l >50:\n",
    "        glscscr_ints_upper_values.append(l)\n",
    "    else:\n",
    "        pass\n",
    "\n",
    "print(statistics.mean(glscscr_ints_lower_values))\n",
    "print(statistics.mean(glscscr_ints_upper_values))\n",
    "print(statistics.mean(glscscr_ints))"
   ]
  },
  {
   "cell_type": "code",
   "execution_count": 141,
   "metadata": {},
   "outputs": [
    {
     "ename": "StatisticsError",
     "evalue": "mean requires at least one data point",
     "output_type": "error",
     "traceback": [
      "\u001b[0;31m---------------------------------------------------------------------------\u001b[0m",
      "\u001b[0;31mStatisticsError\u001b[0m                           Traceback (most recent call last)",
      "\u001b[0;32m<ipython-input-141-492d33b3353f>\u001b[0m in \u001b[0;36m<module>\u001b[0;34m()\u001b[0m\n\u001b[1;32m     24\u001b[0m \u001b[0;31m#print(statistics.mean(rptscr_ints_lower_values))\u001b[0m\u001b[0;34m\u001b[0m\u001b[0;34m\u001b[0m\u001b[0m\n\u001b[1;32m     25\u001b[0m \u001b[0;31m#print(statistics.mean(rptscr_ints_upper_values))\u001b[0m\u001b[0;34m\u001b[0m\u001b[0;34m\u001b[0m\u001b[0m\n\u001b[0;32m---> 26\u001b[0;31m \u001b[0mprint\u001b[0m\u001b[0;34m(\u001b[0m\u001b[0mstatistics\u001b[0m\u001b[0;34m.\u001b[0m\u001b[0mmean\u001b[0m\u001b[0;34m(\u001b[0m\u001b[0mrptscr_ints\u001b[0m\u001b[0;34m)\u001b[0m\u001b[0;34m)\u001b[0m\u001b[0;34m\u001b[0m\u001b[0m\n\u001b[0m",
      "\u001b[0;32m/Applications/Anaconda3/anaconda3/lib/python3.6/statistics.py\u001b[0m in \u001b[0;36mmean\u001b[0;34m(data)\u001b[0m\n\u001b[1;32m    309\u001b[0m     \u001b[0mn\u001b[0m \u001b[0;34m=\u001b[0m \u001b[0mlen\u001b[0m\u001b[0;34m(\u001b[0m\u001b[0mdata\u001b[0m\u001b[0;34m)\u001b[0m\u001b[0;34m\u001b[0m\u001b[0m\n\u001b[1;32m    310\u001b[0m     \u001b[0;32mif\u001b[0m \u001b[0mn\u001b[0m \u001b[0;34m<\u001b[0m \u001b[0;36m1\u001b[0m\u001b[0;34m:\u001b[0m\u001b[0;34m\u001b[0m\u001b[0m\n\u001b[0;32m--> 311\u001b[0;31m         \u001b[0;32mraise\u001b[0m \u001b[0mStatisticsError\u001b[0m\u001b[0;34m(\u001b[0m\u001b[0;34m'mean requires at least one data point'\u001b[0m\u001b[0;34m)\u001b[0m\u001b[0;34m\u001b[0m\u001b[0m\n\u001b[0m\u001b[1;32m    312\u001b[0m     \u001b[0mT\u001b[0m\u001b[0;34m,\u001b[0m \u001b[0mtotal\u001b[0m\u001b[0;34m,\u001b[0m \u001b[0mcount\u001b[0m \u001b[0;34m=\u001b[0m \u001b[0m_sum\u001b[0m\u001b[0;34m(\u001b[0m\u001b[0mdata\u001b[0m\u001b[0;34m)\u001b[0m\u001b[0;34m\u001b[0m\u001b[0m\n\u001b[1;32m    313\u001b[0m     \u001b[0;32massert\u001b[0m \u001b[0mcount\u001b[0m \u001b[0;34m==\u001b[0m \u001b[0mn\u001b[0m\u001b[0;34m\u001b[0m\u001b[0m\n",
      "\u001b[0;31mStatisticsError\u001b[0m: mean requires at least one data point"
     ]
    }
   ],
   "source": [
    "rptscr = rupert_ID['Score']\n",
    "clean_rptscr = []\n",
    "for i in rptscr:\n",
    "    if str(i)== 'Not Available' or str(i)=='Not Applicable' or str(i) == 'Not  Available':\n",
    "        pass\n",
    "    else:\n",
    "        clean_rptscr.append(i)\n",
    "rptscr_ints = list(map(int, clean_rptscr))\n",
    "\n",
    "rptscr_ints_lower_values = []\n",
    "for k in rptscr_ints:\n",
    "    if k <50:\n",
    "        rptscr_ints_lower_values.append(k)\n",
    "    else:\n",
    "        pass\n",
    "\n",
    "rptscr_ints_upper_values = []\n",
    "for l in rptscr_ints:\n",
    "    if l >50:\n",
    "        rptscr_ints_upper_values.append(l)\n",
    "    else:\n",
    "        pass\n",
    "\n",
    "#print(statistics.mean(rptscr_ints_lower_values))\n",
    "#print(statistics.mean(rptscr_ints_upper_values))\n",
    "#print(statistics.mean(rptscr_ints))\n",
    "\n",
    "# All values NA"
   ]
  },
  {
   "cell_type": "code",
   "execution_count": 143,
   "metadata": {},
   "outputs": [
    {
     "name": "stdout",
     "output_type": "stream",
     "text": [
      "8.4\n",
      "84.25\n",
      "34.78260869565217\n"
     ]
    }
   ],
   "source": [
    "crdlscr= cordele_GA['Score']\n",
    "clean_crdlscr = []\n",
    "for i in crdlscr:\n",
    "    if str(i)== 'Not Available' or str(i)=='Not Applicable' or str(i) == 'Not  Available':\n",
    "        pass\n",
    "    else:\n",
    "        clean_crdlscr.append(i)\n",
    "crdlscr_ints = list(map(int, clean_crdlscr))\n",
    "\n",
    "crdlscr_ints_lower_values = []\n",
    "for k in crdlscr_ints:\n",
    "    if k <50:\n",
    "        crdlscr_ints_lower_values.append(k)\n",
    "    else:\n",
    "        pass\n",
    "\n",
    "crdlscr_ints_upper_values = []\n",
    "for l in crdlscr_ints:\n",
    "    if l >50:\n",
    "        crdlscr_ints_upper_values.append(l)\n",
    "    else:\n",
    "        pass\n",
    "\n",
    "print(statistics.mean(crdlscr_ints_lower_values))\n",
    "print(statistics.mean(crdlscr_ints_upper_values))\n",
    "print(statistics.mean(crdlscr_ints))"
   ]
  },
  {
   "cell_type": "code",
   "execution_count": 151,
   "metadata": {},
   "outputs": [
    {
     "name": "stdout",
     "output_type": "stream",
     "text": [
      "7.466666666666667\n",
      "86\n",
      "34.78260869565217\n",
      "23\n"
     ]
    }
   ],
   "source": [
    "cmdnscr = camden_AR['Score']\n",
    "clean_cmdnscr = []\n",
    "for i in cmdnscr:\n",
    "    if str(i)== 'Not Available' or str(i)=='Not Applicable' or str(i) == 'Not  Available':\n",
    "        pass\n",
    "    else:\n",
    "        clean_cmdnscr.append(i)\n",
    "cmdnscr_ints = list(map(int, clean_cmdnscr))\n",
    "\n",
    "cmdnscr_ints_lower_values = []\n",
    "for k in cmdnscr_ints:\n",
    "    if k <50:\n",
    "        cmdnscr_ints_lower_values.append(k)\n",
    "    else:\n",
    "        pass\n",
    "\n",
    "cmdnscr_ints_upper_values = []\n",
    "for l in cmdnscr_ints:\n",
    "    if l >50:\n",
    "        cmdnscr_ints_upper_values.append(l)\n",
    "    else:\n",
    "        pass\n",
    "\n",
    "print(statistics.mean(cmdnscr_ints_lower_values))\n",
    "print(statistics.mean(cmdnscr_ints_upper_values))\n",
    "print(statistics.mean(cmdnscr_ints))\n",
    "print(len((cmdnscr_ints)))"
   ]
  },
  {
   "cell_type": "code",
   "execution_count": 154,
   "metadata": {},
   "outputs": [
    {
     "name": "stdout",
     "output_type": "stream",
     "text": [
      "7.444444444444445\n",
      "86.04166666666667\n",
      "34.78260869565217\n",
      "69\n",
      "[6, 8, 4, 85, 4, 89, 1, 7, 92, 8, 8, 88, 81, 13, 85, 7, 4, 3, 8, 8, 95, 8, 88, 75, 90, 11, 10, 93, 2, 10, 5, 71, 15, 6, 9, 83, 81, 10, 3, 13, 9, 88, 4, 16, 11, 85, 6, 85, 6, 86, 1, 12, 77, 5, 93, 96, 89, 9, 13, 2, 5, 9, 9, 3, 14, 82, 7, 3, 88]\n"
     ]
    }
   ],
   "source": [
    "jnstnnscr = johnstown_PA['Score']\n",
    "clean_jnstnnscr = []\n",
    "for i in jnstnnscr:\n",
    "    if str(i)== 'Not Available' or str(i)=='Not Applicable' or str(i) == 'Not  Available':\n",
    "        pass\n",
    "    else:\n",
    "        clean_jnstnnscr.append(i)\n",
    "jnstnnscr_ints = list(map(int, clean_jnstnnscr))\n",
    "\n",
    "jnstnnscr_ints_lower_values = []\n",
    "for k in jnstnnscr_ints:\n",
    "    if k <50:\n",
    "        jnstnnscr_ints_lower_values.append(k)\n",
    "    else:\n",
    "        pass\n",
    "\n",
    "jnstnnscr_ints_upper_values = []\n",
    "for l in jnstnnscr_ints:\n",
    "    if l >50:\n",
    "        jnstnnscr_ints_upper_values.append(l)\n",
    "    else:\n",
    "        pass\n",
    "\n",
    "print(statistics.mean(jnstnnscr_ints_lower_values))\n",
    "print(statistics.mean(jnstnnscr_ints_upper_values))\n",
    "print(statistics.mean(jnstnnscr_ints))\n",
    "print(len(jnstnnscr_ints))\n",
    "print(jnstnnscr_ints)"
   ]
  },
  {
   "cell_type": "code",
   "execution_count": 159,
   "metadata": {},
   "outputs": [
    {
     "name": "stdout",
     "output_type": "stream",
     "text": [
      "7.266666666666667\n",
      "86.375\n",
      "34.78260869565217\n",
      "23\n",
      "[6, 8, 7, 8, 1, 11, 13, 92, 90, 5, 8, 13, 8, 3, 4, 79, 93, 86, 84, 80, 12, 87, 2]\n"
     ]
    }
   ],
   "source": [
    "hlsvlscr = hillsville_VA['Score']\n",
    "clean_hlsvlscr = []\n",
    "for i in hlsvlscr:\n",
    "    if str(i)== 'Not Available' or str(i)=='Not Applicable' or str(i) == 'Not  Available':\n",
    "        pass\n",
    "    else:\n",
    "        clean_hlsvlscr.append(i)\n",
    "hlsvlscr_ints = list(map(int, clean_hlsvlscr))\n",
    "\n",
    "hlsvlscr_ints_lower_values = []\n",
    "for k in hlsvlscr_ints:\n",
    "    if k <50:\n",
    "        hlsvlscr_ints_lower_values.append(k)\n",
    "    else:\n",
    "        pass\n",
    "\n",
    "hlsvlscr_ints_upper_values = []\n",
    "for l in hlsvlscr_ints:\n",
    "    if l >50:\n",
    "        hlsvlscr_ints_upper_values.append(l)\n",
    "    else:\n",
    "        pass\n",
    "\n",
    "print(statistics.mean(hlsvlscr_ints_lower_values))\n",
    "print(statistics.mean(hlsvlscr_ints_upper_values))\n",
    "print(statistics.mean(hlsvlscr_ints))\n",
    "print(len((hlsvlscr_ints)))\n",
    "print(hlsvlscr_ints)"
   ]
  },
  {
   "cell_type": "code",
   "execution_count": 160,
   "metadata": {},
   "outputs": [
    {
     "name": "stdout",
     "output_type": "stream",
     "text": [
      "12\n",
      "77.5\n",
      "34.78260869565217\n",
      "23\n",
      "[17, 17, 71, 18, 2, 74, 11, 10, 15, 5, 9, 15, 14, 88, 12, 15, 72, 80, 70, 10, 10, 90, 75]\n"
     ]
    }
   ],
   "source": [
    "bmdjscr = bemidji_MN['Score']\n",
    "clean_bmdjscr = []\n",
    "for i in bmdjscr:\n",
    "    if str(i)== 'Not Available' or str(i)=='Not Applicable' or str(i) == 'Not  Available':\n",
    "        pass\n",
    "    else:\n",
    "        clean_bmdjscr.append(i)\n",
    "bmdjscr_ints = list(map(int, clean_bmdjscr))\n",
    "\n",
    "bmdjscr_ints_lower_values = []\n",
    "for k in bmdjscr_ints:\n",
    "    if k <50:\n",
    "        bmdjscr_ints_lower_values.append(k)\n",
    "    else:\n",
    "        pass\n",
    "\n",
    "bmdjscr_ints_upper_values = []\n",
    "for l in bmdjscr_ints:\n",
    "    if l >50:\n",
    "        bmdjscr_ints_upper_values.append(l)\n",
    "    else:\n",
    "        pass\n",
    "\n",
    "print(statistics.mean(bmdjscr_ints_lower_values))\n",
    "print(statistics.mean(bmdjscr_ints_upper_values))\n",
    "print(statistics.mean(bmdjscr_ints))\n",
    "print(len(bmdjscr_ints))\n",
    "print(bmdjscr_ints)"
   ]
  },
  {
   "cell_type": "code",
   "execution_count": null,
   "metadata": {},
   "outputs": [],
   "source": []
  }
 ],
 "metadata": {
  "kernelspec": {
   "display_name": "Python 3",
   "language": "python",
   "name": "python3"
  },
  "language_info": {
   "codemirror_mode": {
    "name": "ipython",
    "version": 3
   },
   "file_extension": ".py",
   "mimetype": "text/x-python",
   "name": "python",
   "nbconvert_exporter": "python",
   "pygments_lexer": "ipython3",
   "version": "3.6.5"
  }
 },
 "nbformat": 4,
 "nbformat_minor": 2
}
