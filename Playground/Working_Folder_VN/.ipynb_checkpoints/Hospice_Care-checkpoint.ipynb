{
 "cells": [
  {
   "cell_type": "code",
   "execution_count": 2,
   "metadata": {},
   "outputs": [
    {
     "name": "stdout",
     "output_type": "stream",
     "text": [
      "3.7.3 (default, Mar 27 2019, 16:54:48) \n",
      "[Clang 4.0.1 (tags/RELEASE_401/final)]\n",
      "1.16.2\n",
      "0.24.2\n"
     ]
    }
   ],
   "source": [
    "%matplotlib inline\n",
    "import sys\n",
    "print(sys.version)\n",
    "import numpy as np\n",
    "print(np.__version__)\n",
    "import pandas as pd\n",
    "print(pd.__version__)\n",
    "import matplotlib.pyplot as plt"
   ]
  },
  {
   "cell_type": "code",
   "execution_count": 3,
   "metadata": {},
   "outputs": [
    {
     "name": "stderr",
     "output_type": "stream",
     "text": [
      "/anaconda3/lib/python3.7/site-packages/IPython/core/interactiveshell.py:3049: DtypeWarning: Columns (13) have mixed types. Specify dtype option on import or set low_memory=False.\n",
      "  interactivity=interactivity, compiler=compiler, result=result)\n"
     ]
    },
    {
     "data": {
      "text/plain": [
       "CCN               int64\n",
       "facility_name    object\n",
       "City             object\n",
       "State            object\n",
       "Zip Code          int64\n",
       "County Name      object\n",
       "measure_code     object\n",
       "measure_name     object\n",
       "Score            object\n",
       "start_date       object\n",
       "end_date         object\n",
       "Location         object\n",
       "dtype: object"
      ]
     },
     "execution_count": 3,
     "metadata": {},
     "output_type": "execute_result"
    }
   ],
   "source": [
    "#read file\n",
    "hospice_provider = pd.read_csv(\"/Users/nalinivineetha/Documents/MIDS/W200Python/PythonRoughWork/Project_2/Hospice_Compare_-_Provider_CAHPS_Hospice_Survey_Data.csv\" )\n",
    "#drop columns that are not required \n",
    "hospice_provider.drop(['Address Line 1','Address Line 2','Phone Number','CMS Region','Footnote'],axis=1,inplace = True)\n",
    "#df.drop(['B', 'C'], axis=1)\n",
    "#rename columns to replace spaces with underscores, so as to use it as a regular field \n",
    "hospice_provider = hospice_provider.rename(columns = {'CMS Certification Number (CCN)':'CCN',\n",
    "                                   'Facility Name': 'facility_name',\n",
    "                                   'Measure Code':'measure_code',\n",
    "                                   'Measure Name': 'measure_name',\n",
    "                                   'Start Date':'start_date',\n",
    "                                   'End Date': 'end_date'} ) \n",
    "hospice_provider.head()\n",
    "hospice_provider.dtypes\n"
   ]
  },
  {
   "cell_type": "code",
   "execution_count": 4,
   "metadata": {},
   "outputs": [
    {
     "name": "stdout",
     "output_type": "stream",
     "text": [
      "measure_name\n",
      "Caregivers rated the hospice agency a 6 or lower                                     5.926199\n",
      "Caregivers rated the hospice agency a 7 or 8                                        15.033210\n",
      "Caregivers rated the hospice agency a 9 or 10                                       79.040590\n",
      "NO, they would probably not or definitely not recommend the hospice                  5.472325\n",
      "The hospice team always communicated well                                           79.070111\n",
      "The hospice team always provided timely help                                        76.808118\n",
      "The hospice team always treated the patient with respect                            89.221402\n",
      "The hospice team provided the right amount of emotional and spiritual support       88.284133\n",
      "The hospice team provided too little or too much emotional and spiritual support    11.715867\n",
      "The hospice team sometimes or never communicated well                                7.811808\n",
      "The hospice team sometimes or never provided timely help                             9.730627\n",
      "The hospice team sometimes or never treated the patient with respect                 2.867159\n",
      "The hospice team usually  communicated well                                         13.118081\n",
      "The hospice team usually provided timely help                                       13.461255\n",
      "The hospice team usually treated the patient with respect                            7.911439\n",
      "The patient always got the help they needed for pain and symptoms                   74.634686\n",
      "The patient sometimes or never got the help they needed for pain and symptoms       10.542435\n",
      "The patient usually got the help they needed for pain and symptoms                  14.822878\n",
      "They definitely received the training they needed                                   75.217712\n",
      "They did not receive the training they needed                                        9.948339\n",
      "They somewhat received the training they needed                                     14.833948\n",
      "YES, they would definitely recommend the hospice                                    81.833948\n",
      "YES, they would probably recommend the hospice                                      12.693727\n",
      "Name: Score, dtype: float64\n"
     ]
    },
    {
     "data": {
      "text/plain": [
       "<matplotlib.axes._subplots.AxesSubplot at 0x118a0a160>"
      ]
     },
     "execution_count": 4,
     "metadata": {},
     "output_type": "execute_result"
    },
    {
     "data": {
      "image/png": "[encoded data removed]",
      "text/plain": [
       "<Figure size 432x288 with 1 Axes>"
      ]
     },
     "metadata": {
      "needs_background": "light"
     },
     "output_type": "display_data"
    }
   ],
   "source": [
    "#hospice_provider[(hospice_provider.measure_code) == 'TRAINING_MBV'].groupby('State').Score.mean()\n",
    "hospice_provider.Score.value_counts()\n",
    "\n",
    "#convert score into fload . first we remove the string fields \n",
    "hospice_provider.loc[hospice_provider.Score == ('Not Available'), 'Score'] = None\n",
    "hospice_provider.loc[hospice_provider.Score == ('Not Applicable'), 'Score'] = None\n",
    "hospice_provider.loc[hospice_provider.Score == ('Not  Available'), 'Score'] = None\n",
    "\n",
    "#check if the string values are gone\n",
    "hospice_provider.head()\n",
    "hospice_provider.Score.value_counts(dropna = False)\n",
    "\n",
    "# now we convert datatype  to float . Not sure why, int32 did not work, something to check later.\n",
    "\n",
    "hospice_provider = hospice_provider.astype({'Score': 'float'},errors='coerce')\n",
    "#hospice_provider = pd.to_numeric(hospice_provider[\"Score\"],errors='coerce')\n",
    "\n",
    "# for TX, get their score mean by measure, and plot. \n",
    "print(hospice_provider[hospice_provider.State == 'TX'].groupby(['measure_name']).Score.mean())\n",
    "hospice_provider[hospice_provider.State == 'TX'].groupby(['measure_name']).Score.mean().plot()\n",
    "#hospice_provider[hospice_provider.State == 'TX'].Score.mean().plot()\n",
    "\n",
    "#hospice_provider.groupby(['State','measure_name']).Score.mean().plot()\n",
    "\n",
    "\n"
   ]
  },
  {
   "cell_type": "code",
   "execution_count": 30,
   "metadata": {},
   "outputs": [
    {
     "name": "stdout",
     "output_type": "stream",
     "text": [
      "facility_name\n",
      "VITAS HEALTHCARE CORPORATION OF CALIFORNIA            138\n",
      "SEASONS HOSPICE & PALLIATIVE CARE OF CALIFORNIA       115\n",
      "OPTIMAL HOSPICE CARE                                  115\n",
      "SUTTER VISITING NURSE ASSOCIATION AND HOSPICE         115\n",
      "PROHEALTH HOME CARE, INC                               92\n",
      "KINDRED HOSPICE                                        92\n",
      "ADVENTIST HEALTH HOME CARE SERVICES                    69\n",
      "HEARTLAND HOSPICE SERVICES                             69\n",
      "GENTIVA HOSPICE                                        69\n",
      "HEALTH ESSENTIALS LLC                                  46\n",
      "MERCY HOSPICE                                          46\n",
      "GERINET HEALTHCARE                                     46\n",
      "PARAMOUNT HOSPICE                                      46\n",
      "PATHWAYS HOME HEALTH AND HOSPICE                       46\n",
      "ASSISTED HOME HOSPICE                                  46\n",
      "ADVANTAGE HEALTH SYSTEMS                               46\n",
      "INTERIM HEALTHCARE HOSPICE                             46\n",
      "HOSPICE BY THE BAY                                     46\n",
      "VITAS HEALTHCARE CORP                                  46\n",
      "ASERACARE HOSPICE                                      46\n",
      "24/7 CARE AT HOME - HOSPICE                            46\n",
      "COMPASSUS - ORANGE COUNTY                              23\n",
      "ETERNAL LIFE HOSPICE CARE, INC                         23\n",
      "EXCELLENCE HOSPICE CARE, INC                           23\n",
      "EXCELL HOSPICE CARE, INC                               23\n",
      "COMPANION HOSPICE AND PALLIATIVE CARE SERVICES, LL     23\n",
      "EXCELCARE HOSPICE INC                                  23\n",
      "EXCEL HOSPICE CARE, INC                                23\n",
      "EVERLASTING HOSPICE, INC                               23\n",
      "EVERGREEN HOSPICE CARE, INC                            23\n",
      "                                                     ... \n",
      "NEW MADISON HOSPICE AND PALLIATIVE CARE, INC           23\n",
      "NIRVANA CARE HOSPICE SERVICES, INC                     23\n",
      "PACIFIC HOSPICE CARE CORPORATION                       23\n",
      "NNN HOSPICE, INC                                       23\n",
      "PACIFIC HOSPICE                                        23\n",
      "OYUNA HOSPICE, INC                                     23\n",
      "OXFORD HOSPICE CARE, INC                               23\n",
      "ORION HOSPICE CARE SERVICES, INC                       23\n",
      "ORCHID HOSPICE, INC                                    23\n",
      "ORANGE COAST HOSPICE, INC                              23\n",
      "OPTUM PALLIATIVE AND HOSPICE CARE                      23\n",
      "ONE STOP HOSPICE, INC                                  23\n",
      "OMEGA HOSPICE CARE INC                                 23\n",
      "OLYMPUS HOSPICE INC                                    23\n",
      "OLYMPIA HOSPICE AND PALLIATIVE CARE                    23\n",
      "OCEAN VIEW HOSPICE, INC                                23\n",
      "OC HOSPICE                                             23\n",
      "OASIS HOSPICE                                          23\n",
      "OASIS HAVEN HOSPICE, INC                               23\n",
      "OAKVIEW HOSPICE CARE INC                               23\n",
      "OAKHURST HOSPICE                                       23\n",
      "NURSES TOUCH HOSPICE, INC                              23\n",
      "NURSES PLUS HOSPICE                                    23\n",
      "NURSES CARE HOSPICE, INC                               23\n",
      "NOVA HOME HOSPICE INC                                  23\n",
      "NORTH BAY HOSPICE & BEREAVEMENT                        23\n",
      "NORCAL HOSPICE, INC.                                   23\n",
      "NOHO HOSPICE, INC                                      23\n",
      "NOBLE HOSPICE CARE, INC                                23\n",
      "1ST CHOICE HOSPICE CARE                                23\n",
      "Name: measure_name, Length: 943, dtype: int64\n"
     ]
    }
   ],
   "source": [
    "import statistics\n",
    "# hospice_provider[hospice_provider.State == 'TX'].groupby(['State','measure_name']).Score.mean()\n",
    "# print(hospice_provider[hospice_provider.State == 'TX'].groupby(['State']).Score.mean())\n",
    "# print(hospice_provider[hospice_provider.State == 'TX'].groupby(['State']).Score.median())\n",
    "# hospice_provider[hospice_provider.State == 'TX'].head(10)\n",
    "# print(hospice_provider[hospice_provider.State == 'TX'].groupby(['State']).Score.sum())\n",
    "# print(hospice_provider[hospice_provider.State == 'IL'].groupby(['State']).Score.sum())\n",
    "# print(hospice_provider[hospice_provider.State == 'TX'].groupby(['State']).Score.mean())\n",
    "# print(hospice_provider[hospice_provider.State == 'IL'].groupby(['State']).Score.mean())\n",
    "# print(hospice_provider[hospice_provider.State == 'TX'].groupby(['State']).Score.median())\n",
    "# print(hospice_provider.groupby(['State']).Score.median().sort_values(ascending=False))\n",
    "#print(hospice_provider.groupby(['State']).facility_name.count().sort_values(ascending=False))\n",
    "\n",
    "# print(hospice_provider[hospice_provider.measure_name == \"Caregivers rated the hospice agency a 6 or lower\"].groupby(['State']).Score.median().sort_values(ascending=False))\n",
    "# print(hospice_provider[hospice_provider.measure_name == \"Caregivers rated the hospice agency a 7 or 8\"].groupby(['State']).Score.median().sort_values(ascending=False))\n",
    "# print(hospice_provider[hospice_provider.measure_name == \"Caregivers rated the hospice agency a 9 or 10\"].groupby(['State']).Score.median().sort_values(ascending=False))\n",
    "\n",
    "print(hospice_provider[hospice_provider.State == 'CA'].groupby(['facility_name']).measure_name.count().sort_values(ascending=False))\n",
    "\n"
   ]
  }
 ],
 "metadata": {
  "kernelspec": {
   "display_name": "Python 3",
   "language": "python",
   "name": "python3"
  },
  "language_info": {
   "codemirror_mode": {
    "name": "ipython",
    "version": 3
   },
   "file_extension": ".py",
   "mimetype": "text/x-python",
   "name": "python",
   "nbconvert_exporter": "python",
   "pygments_lexer": "ipython3",
   "version": "3.7.3"
  }
 },
 "nbformat": 4,
 "nbformat_minor": 2
}
