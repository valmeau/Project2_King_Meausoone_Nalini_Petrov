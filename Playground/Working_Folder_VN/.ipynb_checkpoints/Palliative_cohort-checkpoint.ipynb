{
 "cells": [
  {
   "cell_type": "code",
   "execution_count": 71,
   "metadata": {},
   "outputs": [
    {
     "name": "stdout",
     "output_type": "stream",
     "text": [
      "3.7.3 (default, Mar 27 2019, 16:54:48) \n",
      "[Clang 4.0.1 (tags/RELEASE_401/final)]\n",
      "1.16.2\n",
      "0.24.2\n"
     ]
    }
   ],
   "source": [
    "import glob\n",
    "%matplotlib inline\n",
    "import sys\n",
    "print(sys.version)\n",
    "import numpy as np\n",
    "print(np.__version__)\n",
    "import pandas as pd\n",
    "print(pd.__version__)\n",
    "import matplotlib.pyplot as plt\n"
   ]
  },
  {
   "cell_type": "markdown",
   "metadata": {},
   "source": [
    "## 1.Functionality ###\n",
    "\n",
    "This notebook processes synthetic medicare data to identify palliative care utilization based on various parameters.\n",
    "The files processed are : \n",
    "\n",
    "* Inpatient  \n",
    "* Outpatient  \n",
    "* Carrier  \n",
    "    ** For the above 3 files, raw observations from the first 10 samples are collected if they have at least one ICD9 code = V667,   \n",
    "    ** then they are aggregated into one record per patient(groupby = DESYNPUF_ID), with count of observations and sum of claim_amount   \n",
    "<br></br>\n",
    "* Beneficiary  \n",
    "    All beneficiaries are processed if they have 12 months coverage.   \n",
    "    columns :   \n",
    "    DESYNPUF_ID (groupby),  \n",
    "    BENE_BIRTH_DT_max,   \n",
    "    BENE_DEATH_DT,   \n",
    "    BENE_SEX_IDENT_CD_max,   \n",
    "    BENE_RACE_CD_max,   \n",
    "    SP_STATE_CODE_max,     \n",
    "    BENE_COUNTY_CD_count, -- to get the count of claims   \n",
    "    BENE_HI_CVRAGE_TOT_MONS_max,  \n",
    "    BENE_SMI_CVRAGE_TOT_MONS_max"
   ]
  },
  {
   "cell_type": "markdown",
   "metadata": {},
   "source": [
    "## 2.Utility Functions##\n",
    "\n",
    "### 2.a Print DataFrame Shape and Dtype ###"
   ]
  },
  {
   "cell_type": "code",
   "execution_count": 72,
   "metadata": {},
   "outputs": [],
   "source": [
    "def df_print(df):\n",
    "    print(df.shape)\n",
    "    print(df.columns)"
   ]
  },
  {
   "cell_type": "markdown",
   "metadata": {},
   "source": [
    "### 2.b Merge all files in a path into a single dataframe ###"
   ]
  },
  {
   "cell_type": "code",
   "execution_count": 73,
   "metadata": {},
   "outputs": [],
   "source": [
    "def merge_rows_df(path):\n",
    "    \n",
    "    frames = []\n",
    "    \n",
    "    for fname in glob.glob(path):\n",
    "    \n",
    "        print(fname)\n",
    "        frames.append(pd.read_csv(fname))\n",
    "     \n",
    "    result_df = pd.concat(frames)\n",
    "    return result_df"
   ]
  },
  {
   "cell_type": "markdown",
   "metadata": {},
   "source": [
    "### 2.c Merge all files in a path, with ICD9 code = V667 into a single dataframe ###"
   ]
  },
  {
   "cell_type": "code",
   "execution_count": 74,
   "metadata": {},
   "outputs": [],
   "source": [
    "def palliative_cohort(path):\n",
    "    \n",
    "    frames = []\n",
    "    \n",
    "    for fname in glob.glob(path):\n",
    "        \n",
    "        df = pd.read_csv(fname)\n",
    "        \n",
    "        if 'Carrier_Claims_Sample' in fname:\n",
    "            \n",
    "            pal_df = df[(df.ICD9_DGNS_CD_1 =='V667')\n",
    "                        |(df.ICD9_DGNS_CD_2 =='V667')\n",
    "                        |(df.ICD9_DGNS_CD_3 =='V667')\n",
    "                        |(df.ICD9_DGNS_CD_4 =='V667')\n",
    "                        |(df.ICD9_DGNS_CD_5 =='V667')\n",
    "                        |(df.ICD9_DGNS_CD_6 =='V667')\n",
    "                        |(df.ICD9_DGNS_CD_7 =='V667')\n",
    "                        |(df.ICD9_DGNS_CD_8 =='V667')\n",
    "                       ]\n",
    "        else:\n",
    "            pal_df = df[(df.ICD9_DGNS_CD_1 =='V667')\n",
    "                        |(df.ICD9_DGNS_CD_2 =='V667')\n",
    "                        |(df.ICD9_DGNS_CD_3 =='V667')\n",
    "                        |(df.ICD9_DGNS_CD_4 =='V667')\n",
    "                        |(df.ICD9_DGNS_CD_5 =='V667')\n",
    "                        |(df.ICD9_DGNS_CD_6 =='V667')\n",
    "                        |(df.ICD9_DGNS_CD_7 =='V667')\n",
    "                        |(df.ICD9_DGNS_CD_8 =='V667')\n",
    "                        |(df.ICD9_DGNS_CD_9 =='V667')\n",
    "                        |(df.ICD9_DGNS_CD_10 =='V667')\n",
    "                        |(df.ICD9_PRCDR_CD_1 =='V667')\n",
    "                        |(df.ICD9_PRCDR_CD_2 =='V667')\n",
    "                        |(df.ICD9_PRCDR_CD_3 =='V667')\n",
    "                        |(df.ICD9_PRCDR_CD_4 =='V667')\n",
    "                        |(df.ICD9_PRCDR_CD_5 =='V667')\n",
    "                        |(df.ICD9_PRCDR_CD_6 =='V667')\n",
    "                       ]\n",
    "        \n",
    "        frames.append(pal_df)\n",
    "    \n",
    "    result_df = pd.concat(frames)\n",
    "    result_df[\"CLM_FROM_DT\"] = pd.to_datetime(df[\"CLM_FROM_DT\"], format=\"%Y%m%d\")\n",
    "    result_df[\"CLM_THRU_DT\"] = pd.to_datetime(df[\"CLM_FROM_DT\"], format=\"%Y%m%d\")\n",
    "\n",
    "    return result_df\n"
   ]
  },
  {
   "cell_type": "markdown",
   "metadata": {},
   "source": [
    "### 2.d Write dataframe to csv ###"
   ]
  },
  {
   "cell_type": "code",
   "execution_count": 75,
   "metadata": {},
   "outputs": [],
   "source": [
    "def df_write_csv(df, path):\n",
    "    \n",
    "    df.to_csv(path_or_buf = path, index=False)"
   ]
  },
  {
   "cell_type": "markdown",
   "metadata": {},
   "source": [
    "## 3.Process Files ##\n",
    "### 3.a Process inpatient_claims with hospice code into inp_palliative_cohort.csv ###"
   ]
  },
  {
   "cell_type": "code",
   "execution_count": 76,
   "metadata": {},
   "outputs": [],
   "source": [
    "inp_path = \"/Users/nalinivineetha/Documents/MIDS/W200Python/PythonRoughWork/Project_2/files/*Inpatient*.csv\"\n",
    "inp_df = palliative_cohort(inp_path)\n",
    "df_write_csv(inp_df,\"/Users/nalinivineetha/Documents/MIDS/W200Python/PythonRoughWork/Project_2/files/inp_palliative_cohort.csv\")"
   ]
  },
  {
   "cell_type": "markdown",
   "metadata": {},
   "source": [
    "### 3.b Process outpatients with hospice code into out_palliative_cohort.csv ###"
   ]
  },
  {
   "cell_type": "code",
   "execution_count": 78,
   "metadata": {},
   "outputs": [
    {
     "name": "stderr",
     "output_type": "stream",
     "text": [
      "/anaconda3/lib/python3.7/site-packages/IPython/core/interactiveshell.py:3214: DtypeWarning: Columns (23,24,25,26,27) have mixed types. Specify dtype option on import or set low_memory=False.\n",
      "  if (yield from self.run_code(code, result)):\n"
     ]
    }
   ],
   "source": [
    "outp_path = \"/Users/nalinivineetha/Documents/MIDS/W200Python/PythonRoughWork/Project_2/files/*Outpatient*.csv\"\n",
    "outp_df = palliative_cohort(outp_path)\n",
    "df_write_csv(outp_df,\"/Users/nalinivineetha/Documents/MIDS/W200Python/PythonRoughWork/Project_2/files/outp_palliative_cohort.csv\")"
   ]
  },
  {
   "cell_type": "code",
   "execution_count": 79,
   "metadata": {},
   "outputs": [
    {
     "name": "stdout",
     "output_type": "stream",
     "text": [
      "(5453, 81)\n",
      "Index(['DESYNPUF_ID', 'CLM_ID', 'SEGMENT', 'CLM_FROM_DT', 'CLM_THRU_DT',\n",
      "       'PRVDR_NUM', 'CLM_PMT_AMT', 'NCH_PRMRY_PYR_CLM_PD_AMT', 'AT_PHYSN_NPI',\n",
      "       'OP_PHYSN_NPI', 'OT_PHYSN_NPI', 'CLM_ADMSN_DT', 'ADMTNG_ICD9_DGNS_CD',\n",
      "       'CLM_PASS_THRU_PER_DIEM_AMT', 'NCH_BENE_IP_DDCTBL_AMT',\n",
      "       'NCH_BENE_PTA_COINSRNC_LBLTY_AM', 'NCH_BENE_BLOOD_DDCTBL_LBLTY_AM',\n",
      "       'CLM_UTLZTN_DAY_CNT', 'NCH_BENE_DSCHRG_DT', 'CLM_DRG_CD',\n",
      "       'ICD9_DGNS_CD_1', 'ICD9_DGNS_CD_2', 'ICD9_DGNS_CD_3', 'ICD9_DGNS_CD_4',\n",
      "       'ICD9_DGNS_CD_5', 'ICD9_DGNS_CD_6', 'ICD9_DGNS_CD_7', 'ICD9_DGNS_CD_8',\n",
      "       'ICD9_DGNS_CD_9', 'ICD9_DGNS_CD_10', 'ICD9_PRCDR_CD_1',\n",
      "       'ICD9_PRCDR_CD_2', 'ICD9_PRCDR_CD_3', 'ICD9_PRCDR_CD_4',\n",
      "       'ICD9_PRCDR_CD_5', 'ICD9_PRCDR_CD_6', 'HCPCS_CD_1', 'HCPCS_CD_2',\n",
      "       'HCPCS_CD_3', 'HCPCS_CD_4', 'HCPCS_CD_5', 'HCPCS_CD_6', 'HCPCS_CD_7',\n",
      "       'HCPCS_CD_8', 'HCPCS_CD_9', 'HCPCS_CD_10', 'HCPCS_CD_11', 'HCPCS_CD_12',\n",
      "       'HCPCS_CD_13', 'HCPCS_CD_14', 'HCPCS_CD_15', 'HCPCS_CD_16',\n",
      "       'HCPCS_CD_17', 'HCPCS_CD_18', 'HCPCS_CD_19', 'HCPCS_CD_20',\n",
      "       'HCPCS_CD_21', 'HCPCS_CD_22', 'HCPCS_CD_23', 'HCPCS_CD_24',\n",
      "       'HCPCS_CD_25', 'HCPCS_CD_26', 'HCPCS_CD_27', 'HCPCS_CD_28',\n",
      "       'HCPCS_CD_29', 'HCPCS_CD_30', 'HCPCS_CD_31', 'HCPCS_CD_32',\n",
      "       'HCPCS_CD_33', 'HCPCS_CD_34', 'HCPCS_CD_35', 'HCPCS_CD_36',\n",
      "       'HCPCS_CD_37', 'HCPCS_CD_38', 'HCPCS_CD_39', 'HCPCS_CD_40',\n",
      "       'HCPCS_CD_41', 'HCPCS_CD_42', 'HCPCS_CD_43', 'HCPCS_CD_44',\n",
      "       'HCPCS_CD_45'],\n",
      "      dtype='object')\n",
      "(7421, 76)\n",
      "Index(['DESYNPUF_ID', 'CLM_ID', 'SEGMENT', 'CLM_FROM_DT', 'CLM_THRU_DT',\n",
      "       'PRVDR_NUM', 'CLM_PMT_AMT', 'NCH_PRMRY_PYR_CLM_PD_AMT', 'AT_PHYSN_NPI',\n",
      "       'OP_PHYSN_NPI', 'OT_PHYSN_NPI', 'NCH_BENE_BLOOD_DDCTBL_LBLTY_AM',\n",
      "       'ICD9_DGNS_CD_1', 'ICD9_DGNS_CD_2', 'ICD9_DGNS_CD_3', 'ICD9_DGNS_CD_4',\n",
      "       'ICD9_DGNS_CD_5', 'ICD9_DGNS_CD_6', 'ICD9_DGNS_CD_7', 'ICD9_DGNS_CD_8',\n",
      "       'ICD9_DGNS_CD_9', 'ICD9_DGNS_CD_10', 'ICD9_PRCDR_CD_1',\n",
      "       'ICD9_PRCDR_CD_2', 'ICD9_PRCDR_CD_3', 'ICD9_PRCDR_CD_4',\n",
      "       'ICD9_PRCDR_CD_5', 'ICD9_PRCDR_CD_6', 'NCH_BENE_PTB_DDCTBL_AMT',\n",
      "       'NCH_BENE_PTB_COINSRNC_AMT', 'ADMTNG_ICD9_DGNS_CD', 'HCPCS_CD_1',\n",
      "       'HCPCS_CD_2', 'HCPCS_CD_3', 'HCPCS_CD_4', 'HCPCS_CD_5', 'HCPCS_CD_6',\n",
      "       'HCPCS_CD_7', 'HCPCS_CD_8', 'HCPCS_CD_9', 'HCPCS_CD_10', 'HCPCS_CD_11',\n",
      "       'HCPCS_CD_12', 'HCPCS_CD_13', 'HCPCS_CD_14', 'HCPCS_CD_15',\n",
      "       'HCPCS_CD_16', 'HCPCS_CD_17', 'HCPCS_CD_18', 'HCPCS_CD_19',\n",
      "       'HCPCS_CD_20', 'HCPCS_CD_21', 'HCPCS_CD_22', 'HCPCS_CD_23',\n",
      "       'HCPCS_CD_24', 'HCPCS_CD_25', 'HCPCS_CD_26', 'HCPCS_CD_27',\n",
      "       'HCPCS_CD_28', 'HCPCS_CD_29', 'HCPCS_CD_30', 'HCPCS_CD_31',\n",
      "       'HCPCS_CD_32', 'HCPCS_CD_33', 'HCPCS_CD_34', 'HCPCS_CD_35',\n",
      "       'HCPCS_CD_36', 'HCPCS_CD_37', 'HCPCS_CD_38', 'HCPCS_CD_39',\n",
      "       'HCPCS_CD_40', 'HCPCS_CD_41', 'HCPCS_CD_42', 'HCPCS_CD_43',\n",
      "       'HCPCS_CD_44', 'HCPCS_CD_45'],\n",
      "      dtype='object')\n"
     ]
    }
   ],
   "source": [
    "df_print(inp_df)\n",
    "df_print(outp_df)"
   ]
  },
  {
   "cell_type": "markdown",
   "metadata": {},
   "source": [
    "### 3.c Process carrier_claims with hospice code into car_palliative_cohort.csv ###"
   ]
  },
  {
   "cell_type": "code",
   "execution_count": 80,
   "metadata": {},
   "outputs": [
    {
     "name": "stderr",
     "output_type": "stream",
     "text": [
      "/anaconda3/lib/python3.7/site-packages/IPython/core/interactiveshell.py:3214: DtypeWarning: Columns (9,10,11,45,46,47,48,49,50,135,136,137,138,139,140,141) have mixed types. Specify dtype option on import or set low_memory=False.\n",
      "  if (yield from self.run_code(code, result)):\n"
     ]
    }
   ],
   "source": [
    "car_path = \"/Users/nalinivineetha/Documents/MIDS/W200Python/PythonRoughWork/Project_2/files/*Carrier_Claims*.csv\"\n",
    "car_df = palliative_cohort(car_path)\n",
    "df_write_csv(car_df,\"/Users/nalinivineetha/Documents/MIDS/W200Python/PythonRoughWork/Project_2/files/car_palliative_cohort.csv\")\n"
   ]
  },
  {
   "cell_type": "markdown",
   "metadata": {},
   "source": [
    "### 3.d Process beneficiary files into bene_cohort.csv ###"
   ]
  },
  {
   "cell_type": "code",
   "execution_count": 82,
   "metadata": {},
   "outputs": [
    {
     "name": "stdout",
     "output_type": "stream",
     "text": [
      "/Users/nalinivineetha/Documents/MIDS/W200Python/PythonRoughWork/Project_2/files/beneficiary/DE1_0_2008_Beneficiary_Summary_File_Sample_9.csv\n",
      "/Users/nalinivineetha/Documents/MIDS/W200Python/PythonRoughWork/Project_2/files/beneficiary/DE1_0_2009_Beneficiary_Summary_File_Sample_9.csv\n",
      "/Users/nalinivineetha/Documents/MIDS/W200Python/PythonRoughWork/Project_2/files/beneficiary/DE1_0_2009_Beneficiary_Summary_File_Sample_8.csv\n",
      "/Users/nalinivineetha/Documents/MIDS/W200Python/PythonRoughWork/Project_2/files/beneficiary/DE1_0_2008_Beneficiary_Summary_File_Sample_8.csv\n",
      "/Users/nalinivineetha/Documents/MIDS/W200Python/PythonRoughWork/Project_2/files/beneficiary/DE1_0_2008_Beneficiary_Summary_File_Sample_10.csv\n",
      "/Users/nalinivineetha/Documents/MIDS/W200Python/PythonRoughWork/Project_2/files/beneficiary/DE1_0_2010_Beneficiary_Summary_File_Sample_8.csv\n",
      "/Users/nalinivineetha/Documents/MIDS/W200Python/PythonRoughWork/Project_2/files/beneficiary/DE1_0_2010_Beneficiary_Summary_File_Sample_9.csv\n",
      "/Users/nalinivineetha/Documents/MIDS/W200Python/PythonRoughWork/Project_2/files/beneficiary/DE1_0_2010_Beneficiary_Summary_File_Sample_4.csv\n",
      "/Users/nalinivineetha/Documents/MIDS/W200Python/PythonRoughWork/Project_2/files/beneficiary/DE1_0_2010_Beneficiary_Summary_File_Sample_5.csv\n",
      "/Users/nalinivineetha/Documents/MIDS/W200Python/PythonRoughWork/Project_2/files/beneficiary/DE1_0_2010_Beneficiary_Summary_File_Sample_7.csv\n",
      "/Users/nalinivineetha/Documents/MIDS/W200Python/PythonRoughWork/Project_2/files/beneficiary/DE1_0_2010_Beneficiary_Summary_File_Sample_6.csv\n",
      "/Users/nalinivineetha/Documents/MIDS/W200Python/PythonRoughWork/Project_2/files/beneficiary/DE1_0_2010_Beneficiary_Summary_File_Sample_2.csv\n",
      "/Users/nalinivineetha/Documents/MIDS/W200Python/PythonRoughWork/Project_2/files/beneficiary/DE1_0_2009_Beneficiary_Summary_File_Sample_10.csv\n",
      "/Users/nalinivineetha/Documents/MIDS/W200Python/PythonRoughWork/Project_2/files/beneficiary/DE1_0_2010_Beneficiary_Summary_File_Sample_3.csv\n",
      "/Users/nalinivineetha/Documents/MIDS/W200Python/PythonRoughWork/Project_2/files/beneficiary/DE1_0_2010_Beneficiary_Summary_File_Sample_1.csv\n",
      "/Users/nalinivineetha/Documents/MIDS/W200Python/PythonRoughWork/Project_2/files/beneficiary/DE1_0_2008_Beneficiary_Summary_File_Sample_3.csv\n",
      "/Users/nalinivineetha/Documents/MIDS/W200Python/PythonRoughWork/Project_2/files/beneficiary/DE1_0_2009_Beneficiary_Summary_File_Sample_3.csv\n",
      "/Users/nalinivineetha/Documents/MIDS/W200Python/PythonRoughWork/Project_2/files/beneficiary/DE1_0_2009_Beneficiary_Summary_File_Sample_2.csv\n",
      "/Users/nalinivineetha/Documents/MIDS/W200Python/PythonRoughWork/Project_2/files/beneficiary/DE1_0_2008_Beneficiary_Summary_File_Sample_2.csv\n",
      "/Users/nalinivineetha/Documents/MIDS/W200Python/PythonRoughWork/Project_2/files/beneficiary/DE1_0_2009_Beneficiary_Summary_File_Sample_1.csv\n",
      "/Users/nalinivineetha/Documents/MIDS/W200Python/PythonRoughWork/Project_2/files/beneficiary/DE1_0_2008_Beneficiary_Summary_File_Sample_1.csv\n",
      "/Users/nalinivineetha/Documents/MIDS/W200Python/PythonRoughWork/Project_2/files/beneficiary/DE1_0_2008_Beneficiary_Summary_File_Sample_5.csv\n",
      "/Users/nalinivineetha/Documents/MIDS/W200Python/PythonRoughWork/Project_2/files/beneficiary/DE1_0_2009_Beneficiary_Summary_File_Sample_5.csv\n",
      "/Users/nalinivineetha/Documents/MIDS/W200Python/PythonRoughWork/Project_2/files/beneficiary/DE1_0_2009_Beneficiary_Summary_File_Sample_4.csv\n",
      "/Users/nalinivineetha/Documents/MIDS/W200Python/PythonRoughWork/Project_2/files/beneficiary/DE1_0_2008_Beneficiary_Summary_File_Sample_4.csv\n",
      "/Users/nalinivineetha/Documents/MIDS/W200Python/PythonRoughWork/Project_2/files/beneficiary/DE1_0_2008_Beneficiary_Summary_File_Sample_6.csv\n",
      "/Users/nalinivineetha/Documents/MIDS/W200Python/PythonRoughWork/Project_2/files/beneficiary/DE1_0_2009_Beneficiary_Summary_File_Sample_6.csv\n",
      "/Users/nalinivineetha/Documents/MIDS/W200Python/PythonRoughWork/Project_2/files/beneficiary/DE1_0_2009_Beneficiary_Summary_File_Sample_7.csv\n",
      "/Users/nalinivineetha/Documents/MIDS/W200Python/PythonRoughWork/Project_2/files/beneficiary/DE1_0_2010_Beneficiary_Summary_File_Sample_10.csv\n",
      "/Users/nalinivineetha/Documents/MIDS/W200Python/PythonRoughWork/Project_2/files/beneficiary/DE1_0_2008_Beneficiary_Summary_File_Sample_7.csv\n"
     ]
    }
   ],
   "source": [
    "bene_path = \"/Users/nalinivineetha/Documents/MIDS/W200Python/PythonRoughWork/Project_2/files/beneficiary/*Beneficiary*.csv\"\n",
    "bene_df = merge_rows_df(bene_path)\n"
   ]
  },
  {
   "cell_type": "code",
   "execution_count": 84,
   "metadata": {},
   "outputs": [],
   "source": [
    "#converting date formats into yyyy-mm-dd\n",
    "bene_df[\"BENE_BIRTH_DT\"] = pd.to_datetime(bene_df[\"BENE_BIRTH_DT\"], format=\"%Y%m%d\")\n",
    "bene_df[\"BENE_DEATH_DT\"] = pd.to_datetime(bene_df[\"BENE_DEATH_DT\"], format=\"%Y%m%d\")\n",
    "\n",
    "df_write_csv(bene_df,\"/Users/nalinivineetha/Documents/MIDS/W200Python/PythonRoughWork/Project_2/files/beneficiary/bene_cohort.csv\")\n",
    "\n",
    "    "
   ]
  },
  {
   "cell_type": "markdown",
   "metadata": {},
   "source": [
    "### 3.f Aggregates per person ( DESYNPUF_ID) ###"
   ]
  },
  {
   "cell_type": "code",
   "execution_count": 101,
   "metadata": {},
   "outputs": [
    {
     "name": "stdout",
     "output_type": "stream",
     "text": [
      "(5411, 5)\n",
      "Index(['DESYNPUF_ID', 'CLM_ID_count', 'CLM_PMT_AMT_sum',\n",
      "       'NCH_PRMRY_PYR_CLM_PD_AMT_sum', 'CLM_UTLZTN_DAY_CNT_sum'],\n",
      "      dtype='object')\n"
     ]
    },
    {
     "data": {
      "text/plain": [
       "5411"
      ]
     },
     "execution_count": 101,
     "metadata": {},
     "output_type": "execute_result"
    }
   ],
   "source": [
    "#aggregating per person - inpatient\n",
    "inp_aggr = (inp_df.groupby('DESYNPUF_ID').agg(\n",
    "    {'CLM_ID':'count', \n",
    "     'CLM_PMT_AMT':'sum',\n",
    "     'NCH_PRMRY_PYR_CLM_PD_AMT':'sum',\n",
    "     'CLM_UTLZTN_DAY_CNT': 'sum'\n",
    "    }\n",
    "    )\n",
    "             .reset_index()\n",
    "             .rename(columns={'CLM_ID':'CLM_ID_count', \n",
    "                              'CLM_PMT_AMT':'CLM_PMT_AMT_sum',\n",
    "                              'NCH_PRMRY_PYR_CLM_PD_AMT':'NCH_PRMRY_PYR_CLM_PD_AMT_sum',\n",
    "                              'CLM_UTLZTN_DAY_CNT': 'CLM_UTLZTN_DAY_CNT_sum'\n",
    "                             }))\n",
    "df_write_csv(inp_aggr,\"/Users/nalinivineetha/Documents/MIDS/W200Python/PythonRoughWork/Project_2/files/inp_cohort_aggr.csv\")\n",
    "\n",
    "#validate inpatient aggr\n",
    "df_print(inp_aggr)\n",
    "inp_aggr.DESYNPUF_ID.nunique()\n"
   ]
  },
  {
   "cell_type": "code",
   "execution_count": 102,
   "metadata": {},
   "outputs": [
    {
     "name": "stdout",
     "output_type": "stream",
     "text": [
      "(7331, 4)\n",
      "Index(['DESYNPUF_ID', 'CLM_ID_count', 'CLM_PMT_AMT_sum',\n",
      "       'NCH_PRMRY_PYR_CLM_PD_AMT_sum'],\n",
      "      dtype='object')\n"
     ]
    },
    {
     "data": {
      "text/plain": [
       "7331"
      ]
     },
     "execution_count": 102,
     "metadata": {},
     "output_type": "execute_result"
    }
   ],
   "source": [
    "#aggregating per person - outpatient\n",
    "outp_aggr = (outp_df.groupby('DESYNPUF_ID').agg(\n",
    "    {'CLM_ID':'count', \n",
    "     'CLM_PMT_AMT':'sum',\n",
    "     'NCH_PRMRY_PYR_CLM_PD_AMT':'sum'\n",
    "    }\n",
    "    )\n",
    "             .reset_index()\n",
    "             .rename(columns={'CLM_ID':'CLM_ID_count', \n",
    "                              'CLM_PMT_AMT':'CLM_PMT_AMT_sum',\n",
    "                              'NCH_PRMRY_PYR_CLM_PD_AMT':'NCH_PRMRY_PYR_CLM_PD_AMT_sum'\n",
    "                             }))\n",
    "df_write_csv(outp_aggr,\"/Users/nalinivineetha/Documents/MIDS/W200Python/PythonRoughWork/Project_2/files/outp_cohort_aggr.csv\")\n",
    "\n",
    "#validate inpatient aggr\n",
    "df_print(outp_aggr)\n",
    "outp_aggr.DESYNPUF_ID.nunique()"
   ]
  },
  {
   "cell_type": "code",
   "execution_count": 126,
   "metadata": {},
   "outputs": [
    {
     "name": "stdout",
     "output_type": "stream",
     "text": [
      "(24072, 3)\n",
      "Index(['DESYNPUF_ID', 'CLM_ID_count', 'NCH_PMT_AMT_sum'], dtype='object')\n"
     ]
    },
    {
     "data": {
      "text/plain": [
       "24072"
      ]
     },
     "execution_count": 126,
     "metadata": {},
     "output_type": "execute_result"
    }
   ],
   "source": [
    "#aggregating per person - carrier \n",
    "car_df['NCH_PMT_AMT'] = car_df['LINE_NCH_PMT_AMT_1'] + car_df['LINE_NCH_PMT_AMT_2'] +  car_df['LINE_NCH_PMT_AMT_3'] +  car_df['LINE_NCH_PMT_AMT_4'] + \\\n",
    "                        car_df['LINE_NCH_PMT_AMT_5'] + car_df['LINE_NCH_PMT_AMT_6'] + car_df['LINE_NCH_PMT_AMT_7'] + \\\n",
    "                        car_df['LINE_NCH_PMT_AMT_8'] + car_df['LINE_NCH_PMT_AMT_9'] + car_df['LINE_NCH_PMT_AMT_10'] + \\\n",
    "                        car_df['LINE_NCH_PMT_AMT_11'] + car_df['LINE_NCH_PMT_AMT_12'] + car_df['LINE_NCH_PMT_AMT_13'] \n",
    "\n",
    "car_aggr = (car_df.groupby('DESYNPUF_ID').agg(\n",
    "    {'CLM_ID':'count', \n",
    "     'NCH_PMT_AMT':'sum'\n",
    "    }\n",
    "    )\n",
    "             .reset_index()\n",
    "             .rename(columns={'CLM_ID':'CLM_ID_count', \n",
    "                              'NCH_PMT_AMT':'NCH_PMT_AMT_sum'\n",
    "                             }))\n",
    "df_write_csv(car_aggr,\"/Users/nalinivineetha/Documents/MIDS/W200Python/PythonRoughWork/Project_2/files/car_cohort_aggr.csv\")\n",
    "\n",
    "#validate inpatient aggr\n",
    "df_print(car_aggr)\n",
    "car_aggr.DESYNPUF_ID.nunique()"
   ]
  },
  {
   "cell_type": "code",
   "execution_count": 172,
   "metadata": {},
   "outputs": [
    {
     "data": {
      "text/html": [
       "<div>\n",
       "<style scoped>\n",
       "    .dataframe tbody tr th:only-of-type {\n",
       "        vertical-align: middle;\n",
       "    }\n",
       "\n",
       "    .dataframe tbody tr th {\n",
       "        vertical-align: top;\n",
       "    }\n",
       "\n",
       "    .dataframe thead th {\n",
       "        text-align: right;\n",
       "    }\n",
       "</style>\n",
       "<table border=\"1\" class=\"dataframe\">\n",
       "  <thead>\n",
       "    <tr style=\"text-align: right;\">\n",
       "      <th></th>\n",
       "      <th>DESYNPUF_ID</th>\n",
       "      <th>BENE_BIRTH_DT_max</th>\n",
       "      <th>BENE_DEATH_DT</th>\n",
       "      <th>BENE_SEX_IDENT_CD_max</th>\n",
       "      <th>BENE_RACE_CD_max</th>\n",
       "      <th>SP_STATE_CODE_max</th>\n",
       "      <th>BENE_COUNTY_CD_max</th>\n",
       "      <th>BENE_HI_CVRAGE_TOT_MONS_max</th>\n",
       "      <th>BENE_SMI_CVRAGE_TOT_MONS_max</th>\n",
       "      <th>BENE_COUNT_OCCURENCE</th>\n",
       "    </tr>\n",
       "  </thead>\n",
       "  <tbody>\n",
       "    <tr>\n",
       "      <th>0</th>\n",
       "      <td>00000B48BCF4AD29</td>\n",
       "      <td>1923-09-01</td>\n",
       "      <td>NaT</td>\n",
       "      <td>2</td>\n",
       "      <td>5</td>\n",
       "      <td>10</td>\n",
       "      <td>260</td>\n",
       "      <td>12</td>\n",
       "      <td>12</td>\n",
       "      <td>3</td>\n",
       "    </tr>\n",
       "    <tr>\n",
       "      <th>1</th>\n",
       "      <td>0000141F2FECE9BC</td>\n",
       "      <td>1974-04-01</td>\n",
       "      <td>NaT</td>\n",
       "      <td>2</td>\n",
       "      <td>1</td>\n",
       "      <td>39</td>\n",
       "      <td>560</td>\n",
       "      <td>12</td>\n",
       "      <td>12</td>\n",
       "      <td>3</td>\n",
       "    </tr>\n",
       "    <tr>\n",
       "      <th>2</th>\n",
       "      <td>000022FFDB0BE2C7</td>\n",
       "      <td>1938-10-01</td>\n",
       "      <td>NaT</td>\n",
       "      <td>1</td>\n",
       "      <td>1</td>\n",
       "      <td>24</td>\n",
       "      <td>260</td>\n",
       "      <td>12</td>\n",
       "      <td>12</td>\n",
       "      <td>3</td>\n",
       "    </tr>\n",
       "    <tr>\n",
       "      <th>3</th>\n",
       "      <td>0000525AB30E4DEF</td>\n",
       "      <td>1920-10-01</td>\n",
       "      <td>NaT</td>\n",
       "      <td>2</td>\n",
       "      <td>1</td>\n",
       "      <td>31</td>\n",
       "      <td>300</td>\n",
       "      <td>12</td>\n",
       "      <td>12</td>\n",
       "      <td>3</td>\n",
       "    </tr>\n",
       "    <tr>\n",
       "      <th>4</th>\n",
       "      <td>00007A645AD6821D</td>\n",
       "      <td>1938-12-01</td>\n",
       "      <td>NaT</td>\n",
       "      <td>1</td>\n",
       "      <td>2</td>\n",
       "      <td>11</td>\n",
       "      <td>470</td>\n",
       "      <td>12</td>\n",
       "      <td>12</td>\n",
       "      <td>3</td>\n",
       "    </tr>\n",
       "  </tbody>\n",
       "</table>\n",
       "</div>"
      ],
      "text/plain": [
       "        DESYNPUF_ID BENE_BIRTH_DT_max BENE_DEATH_DT  BENE_SEX_IDENT_CD_max  \\\n",
       "0  00000B48BCF4AD29        1923-09-01           NaT                      2   \n",
       "1  0000141F2FECE9BC        1974-04-01           NaT                      2   \n",
       "2  000022FFDB0BE2C7        1938-10-01           NaT                      1   \n",
       "3  0000525AB30E4DEF        1920-10-01           NaT                      2   \n",
       "4  00007A645AD6821D        1938-12-01           NaT                      1   \n",
       "\n",
       "   BENE_RACE_CD_max  SP_STATE_CODE_max  BENE_COUNTY_CD_max  \\\n",
       "0                 5                 10                 260   \n",
       "1                 1                 39                 560   \n",
       "2                 1                 24                 260   \n",
       "3                 1                 31                 300   \n",
       "4                 2                 11                 470   \n",
       "\n",
       "   BENE_HI_CVRAGE_TOT_MONS_max  BENE_SMI_CVRAGE_TOT_MONS_max  \\\n",
       "0                           12                            12   \n",
       "1                           12                            12   \n",
       "2                           12                            12   \n",
       "3                           12                            12   \n",
       "4                           12                            12   \n",
       "\n",
       "   BENE_COUNT_OCCURENCE  \n",
       "0                     3  \n",
       "1                     3  \n",
       "2                     3  \n",
       "3                     3  \n",
       "4                     3  "
      ]
     },
     "execution_count": 172,
     "metadata": {},
     "output_type": "execute_result"
    }
   ],
   "source": [
    "#aggregating by person - beneficiary\n",
    "# first set the dummy col for counts\n",
    "bene_df['BENE_COUNT_OCCURENCE'] = 1\n",
    "bene_aggr = (bene_df.groupby('DESYNPUF_ID').agg(\n",
    "    {\n",
    "     'BENE_BIRTH_DT':'max',\n",
    "     'BENE_DEATH_DT':'max',\n",
    "     'BENE_SEX_IDENT_CD':'max',\n",
    "     'BENE_RACE_CD': 'max',\n",
    "     'SP_STATE_CODE': 'max',\n",
    "     'BENE_COUNTY_CD': 'max',\n",
    "     'BENE_HI_CVRAGE_TOT_MONS':'max',\n",
    "     'BENE_SMI_CVRAGE_TOT_MONS':'max',\n",
    "     'BENE_COUNT_OCCURENCE':'sum'\n",
    "    }\n",
    "    )\n",
    "             .reset_index()\n",
    "             .rename(columns={'BENE_BIRTH_DT':'BENE_BIRTH_DT_max',\n",
    "                              'BENE_SEX_IDENT_CD':'BENE_SEX_IDENT_CD_max',\n",
    "                              'BENE_RACE_CD': 'BENE_RACE_CD_max',\n",
    "                              'SP_STATE_CODE': 'SP_STATE_CODE_max',\n",
    "                              'BENE_HI_CVRAGE_TOT_MONS':'BENE_HI_CVRAGE_TOT_MONS_max',\n",
    "                              'BENE_SMI_CVRAGE_TOT_MONS':'BENE_SMI_CVRAGE_TOT_MONS_max',\n",
    "                              'BENE_COUNTY_CD':'BENE_COUNTY_CD_max'\n",
    "                             }))\n",
    "df_write_csv(bene_aggr,\"/Users/nalinivineetha/Documents/MIDS/W200Python/PythonRoughWork/Project_2/files/beneficiary/bene_cohort_aggr.csv\")\n",
    "\n",
    "#validate beneficiary\n",
    "bene_aggr.head()\n",
    "# bene_aggr.shape\n",
    "# bene_aggr.count()\n",
    "# bene_aggr.DESYNPUF_ID.nunique()\n"
   ]
  },
  {
   "cell_type": "code",
   "execution_count": 173,
   "metadata": {},
   "outputs": [],
   "source": [
    "#now filtering for beneficiaries with 12 months coverage \n",
    "bene_aggr = pd.DataFrame(bene_aggr[(bene_aggr.BENE_HI_CVRAGE_TOT_MONS_max == 12) & (bene_aggr.BENE_SMI_CVRAGE_TOT_MONS_max == 12)])\n",
    "bene_aggr.count()\n",
    "df_write_csv(bene_aggr,\"/Users/nalinivineetha/Documents/MIDS/W200Python/PythonRoughWork/Project_2/files/beneficiary/bene_cohort_eligible_aggr.csv\")\n"
   ]
  },
  {
   "cell_type": "markdown",
   "metadata": {},
   "source": [
    "## 4. Merge datasets and process ##\n",
    "\n",
    "### 4.a Merge Beneficiary, Carrier, Inpatient and Outpatient files ###\n"
   ]
  },
  {
   "cell_type": "code",
   "execution_count": 174,
   "metadata": {},
   "outputs": [],
   "source": [
    "#now merge beneficiary, carrier claims, inpatient and outpatient by left join \n",
    "bene_car_df = pd.merge(bene_aggr, car_aggr, on='DESYNPUF_ID', how = 'left')\n",
    "bene_car_inp_df = pd.merge(bene_car_df, inp_aggr, on='DESYNPUF_ID', how = 'left')\n",
    "bene_car_inp_outp_df = pd.merge(bene_car_inp_df, outp_aggr, on='DESYNPUF_ID', how = 'left')\n",
    "#should've differentiated inpatient and outpatient columns while creating those dataframes. Ah well!\n",
    "bene_car_inp_outp_df = bene_car_inp_outp_df.rename(columns= {'CLM_ID_count_x': 'car_CLM_ID_count',\n",
    "                                                            'CLM_ID_count_y': 'inp_CLM_ID_count',\n",
    "                                                            'CLM_PMT_AMT_sum_x': 'inp_CLM_PMT_AMT_sum',\n",
    "                                                            'NCH_PRMRY_PYR_CLM_PD_AMT_sum_x': 'inp_NCH_PRMRY_PYR_CLM_PD_AMT_sum',\n",
    "                                                            'CLM_ID_count': 'outp_CLM_ID_count',\n",
    "                                                            'CLM_PMT_AMT_sum_y': 'outp_CLM_PMT_AMT_sum',\n",
    "                                                            'NCH_PRMRY_PYR_CLM_PD_AMT_sum_y':'outp_NCH_PRMRY_PYR_CLM_PD_AMT_sum'})\n",
    "\n"
   ]
  },
  {
   "cell_type": "code",
   "execution_count": 175,
   "metadata": {},
   "outputs": [
    {
     "name": "stdout",
     "output_type": "stream",
     "text": [
      "BENE_SEX_IDENT_CD_max\n",
      "1    479384\n",
      "2    616693\n",
      "Name: DESYNPUF_ID, dtype: int64\n",
      "BENE_RACE_CD_max\n",
      "1    912682\n",
      "2    113335\n",
      "3     44677\n",
      "5     25383\n",
      "Name: DESYNPUF_ID, dtype: int64\n"
     ]
    }
   ],
   "source": [
    "#validation cell\n",
    "#print(bene_car_inp_outp_df.head())\n",
    "print(bene_car_inp_outp_df.groupby('BENE_SEX_IDENT_CD_max').DESYNPUF_ID.count())\n",
    "print(bene_car_inp_outp_df.groupby('BENE_RACE_CD_max').DESYNPUF_ID.count())\n",
    "#print(bene_car_inp_outp_df.groupby(['SP_STATE_CODE_max','BENE_RACE_CD_max']).DESYNPUF_ID.count())"
   ]
  },
  {
   "cell_type": "markdown",
   "metadata": {},
   "source": [
    "### 4.b Add State Name ###"
   ]
  },
  {
   "cell_type": "code",
   "execution_count": 205,
   "metadata": {},
   "outputs": [
    {
     "data": {
      "text/html": [
       "<div>\n",
       "<style scoped>\n",
       "    .dataframe tbody tr th:only-of-type {\n",
       "        vertical-align: middle;\n",
       "    }\n",
       "\n",
       "    .dataframe tbody tr th {\n",
       "        vertical-align: top;\n",
       "    }\n",
       "\n",
       "    .dataframe thead th {\n",
       "        text-align: right;\n",
       "    }\n",
       "</style>\n",
       "<table border=\"1\" class=\"dataframe\">\n",
       "  <thead>\n",
       "    <tr style=\"text-align: right;\">\n",
       "      <th></th>\n",
       "      <th>DESYNPUF_ID</th>\n",
       "      <th>BENE_BIRTH_DT_max</th>\n",
       "      <th>BENE_DEATH_DT</th>\n",
       "      <th>BENE_SEX_IDENT_CD_max</th>\n",
       "      <th>BENE_RACE_CD_max</th>\n",
       "      <th>SP_STATE_CODE_max</th>\n",
       "      <th>BENE_COUNTY_CD_max</th>\n",
       "      <th>BENE_HI_CVRAGE_TOT_MONS_max</th>\n",
       "      <th>BENE_SMI_CVRAGE_TOT_MONS_max</th>\n",
       "      <th>BENE_COUNT_OCCURENCE</th>\n",
       "      <th>...</th>\n",
       "      <th>NCH_PMT_AMT_sum</th>\n",
       "      <th>inp_CLM_ID_count</th>\n",
       "      <th>inp_CLM_PMT_AMT_sum</th>\n",
       "      <th>inp_NCH_PRMRY_PYR_CLM_PD_AMT_sum</th>\n",
       "      <th>CLM_UTLZTN_DAY_CNT_sum</th>\n",
       "      <th>outp_CLM_ID_count</th>\n",
       "      <th>outp_CLM_PMT_AMT_sum</th>\n",
       "      <th>outp_NCH_PRMRY_PYR_CLM_PD_AMT_sum</th>\n",
       "      <th>SP_State_iso2a</th>\n",
       "      <th>SP_State_full_name</th>\n",
       "    </tr>\n",
       "  </thead>\n",
       "  <tbody>\n",
       "    <tr>\n",
       "      <th>0</th>\n",
       "      <td>00000B48BCF4AD29</td>\n",
       "      <td>1923-09-01</td>\n",
       "      <td>NaT</td>\n",
       "      <td>2</td>\n",
       "      <td>5</td>\n",
       "      <td>10</td>\n",
       "      <td>260</td>\n",
       "      <td>12</td>\n",
       "      <td>12</td>\n",
       "      <td>3</td>\n",
       "      <td>...</td>\n",
       "      <td>0.0</td>\n",
       "      <td>0.0</td>\n",
       "      <td>0.0</td>\n",
       "      <td>NaN</td>\n",
       "      <td>NaN</td>\n",
       "      <td>0.0</td>\n",
       "      <td>NaN</td>\n",
       "      <td>NaN</td>\n",
       "      <td>FL</td>\n",
       "      <td>Florida</td>\n",
       "    </tr>\n",
       "    <tr>\n",
       "      <th>1</th>\n",
       "      <td>0003F63CD84E54A3</td>\n",
       "      <td>1932-07-01</td>\n",
       "      <td>NaT</td>\n",
       "      <td>2</td>\n",
       "      <td>1</td>\n",
       "      <td>10</td>\n",
       "      <td>470</td>\n",
       "      <td>12</td>\n",
       "      <td>12</td>\n",
       "      <td>3</td>\n",
       "      <td>...</td>\n",
       "      <td>0.0</td>\n",
       "      <td>0.0</td>\n",
       "      <td>0.0</td>\n",
       "      <td>NaN</td>\n",
       "      <td>NaN</td>\n",
       "      <td>0.0</td>\n",
       "      <td>NaN</td>\n",
       "      <td>NaN</td>\n",
       "      <td>FL</td>\n",
       "      <td>Florida</td>\n",
       "    </tr>\n",
       "    <tr>\n",
       "      <th>2</th>\n",
       "      <td>00045BB8F4C922A3</td>\n",
       "      <td>1934-06-01</td>\n",
       "      <td>NaT</td>\n",
       "      <td>1</td>\n",
       "      <td>5</td>\n",
       "      <td>10</td>\n",
       "      <td>50</td>\n",
       "      <td>12</td>\n",
       "      <td>12</td>\n",
       "      <td>3</td>\n",
       "      <td>...</td>\n",
       "      <td>0.0</td>\n",
       "      <td>0.0</td>\n",
       "      <td>0.0</td>\n",
       "      <td>NaN</td>\n",
       "      <td>NaN</td>\n",
       "      <td>0.0</td>\n",
       "      <td>NaN</td>\n",
       "      <td>NaN</td>\n",
       "      <td>FL</td>\n",
       "      <td>Florida</td>\n",
       "    </tr>\n",
       "    <tr>\n",
       "      <th>3</th>\n",
       "      <td>0004FB2ED3823AA8</td>\n",
       "      <td>1941-06-01</td>\n",
       "      <td>NaT</td>\n",
       "      <td>2</td>\n",
       "      <td>1</td>\n",
       "      <td>10</td>\n",
       "      <td>340</td>\n",
       "      <td>12</td>\n",
       "      <td>12</td>\n",
       "      <td>3</td>\n",
       "      <td>...</td>\n",
       "      <td>0.0</td>\n",
       "      <td>0.0</td>\n",
       "      <td>0.0</td>\n",
       "      <td>NaN</td>\n",
       "      <td>NaN</td>\n",
       "      <td>0.0</td>\n",
       "      <td>NaN</td>\n",
       "      <td>NaN</td>\n",
       "      <td>FL</td>\n",
       "      <td>Florida</td>\n",
       "    </tr>\n",
       "    <tr>\n",
       "      <th>4</th>\n",
       "      <td>00052CF30906F215</td>\n",
       "      <td>1913-05-01</td>\n",
       "      <td>NaT</td>\n",
       "      <td>2</td>\n",
       "      <td>1</td>\n",
       "      <td>10</td>\n",
       "      <td>490</td>\n",
       "      <td>12</td>\n",
       "      <td>12</td>\n",
       "      <td>3</td>\n",
       "      <td>...</td>\n",
       "      <td>0.0</td>\n",
       "      <td>0.0</td>\n",
       "      <td>0.0</td>\n",
       "      <td>NaN</td>\n",
       "      <td>NaN</td>\n",
       "      <td>0.0</td>\n",
       "      <td>NaN</td>\n",
       "      <td>NaN</td>\n",
       "      <td>FL</td>\n",
       "      <td>Florida</td>\n",
       "    </tr>\n",
       "  </tbody>\n",
       "</table>\n",
       "<p>5 rows × 21 columns</p>\n",
       "</div>"
      ],
      "text/plain": [
       "        DESYNPUF_ID BENE_BIRTH_DT_max BENE_DEATH_DT  BENE_SEX_IDENT_CD_max  \\\n",
       "0  00000B48BCF4AD29        1923-09-01           NaT                      2   \n",
       "1  0003F63CD84E54A3        1932-07-01           NaT                      2   \n",
       "2  00045BB8F4C922A3        1934-06-01           NaT                      1   \n",
       "3  0004FB2ED3823AA8        1941-06-01           NaT                      2   \n",
       "4  00052CF30906F215        1913-05-01           NaT                      2   \n",
       "\n",
       "   BENE_RACE_CD_max  SP_STATE_CODE_max  BENE_COUNTY_CD_max  \\\n",
       "0                 5                 10                 260   \n",
       "1                 1                 10                 470   \n",
       "2                 5                 10                  50   \n",
       "3                 1                 10                 340   \n",
       "4                 1                 10                 490   \n",
       "\n",
       "   BENE_HI_CVRAGE_TOT_MONS_max  BENE_SMI_CVRAGE_TOT_MONS_max  \\\n",
       "0                           12                            12   \n",
       "1                           12                            12   \n",
       "2                           12                            12   \n",
       "3                           12                            12   \n",
       "4                           12                            12   \n",
       "\n",
       "   BENE_COUNT_OCCURENCE  ...  NCH_PMT_AMT_sum  inp_CLM_ID_count  \\\n",
       "0                     3  ...              0.0               0.0   \n",
       "1                     3  ...              0.0               0.0   \n",
       "2                     3  ...              0.0               0.0   \n",
       "3                     3  ...              0.0               0.0   \n",
       "4                     3  ...              0.0               0.0   \n",
       "\n",
       "   inp_CLM_PMT_AMT_sum  inp_NCH_PRMRY_PYR_CLM_PD_AMT_sum  \\\n",
       "0                  0.0                               NaN   \n",
       "1                  0.0                               NaN   \n",
       "2                  0.0                               NaN   \n",
       "3                  0.0                               NaN   \n",
       "4                  0.0                               NaN   \n",
       "\n",
       "   CLM_UTLZTN_DAY_CNT_sum  outp_CLM_ID_count  outp_CLM_PMT_AMT_sum  \\\n",
       "0                     NaN                0.0                   NaN   \n",
       "1                     NaN                0.0                   NaN   \n",
       "2                     NaN                0.0                   NaN   \n",
       "3                     NaN                0.0                   NaN   \n",
       "4                     NaN                0.0                   NaN   \n",
       "\n",
       "   outp_NCH_PRMRY_PYR_CLM_PD_AMT_sum  SP_State_iso2a SP_State_full_name  \n",
       "0                                NaN              FL            Florida  \n",
       "1                                NaN              FL            Florida  \n",
       "2                                NaN              FL            Florida  \n",
       "3                                NaN              FL            Florida  \n",
       "4                                NaN              FL            Florida  \n",
       "\n",
       "[5 rows x 21 columns]"
      ]
     },
     "execution_count": 205,
     "metadata": {},
     "output_type": "execute_result"
    }
   ],
   "source": [
    "#Now add state names\n",
    "us_state_df = pd.read_csv(\"/Users/nalinivineetha/Documents/MIDS/W200Python/PythonRoughWork/Project_2/files/us_states_codes.csv\")\n",
    "us_state_df.head()\n",
    "bene_car_inp_outp_state_df = pd.merge(bene_car_inp_outp_df, us_state_df, on='SP_STATE_CODE_max')\n",
    "\n",
    "#Now fill NaNs with 0\n",
    "values = {'car_CLM_ID_count':0, 'NCH_PMT_AMT_sum': 0, 'inp_CLM_ID_count': 0, 'inp_CLM_PMT_AMT_sum': 0, 'outp_CLM_ID_count': 0}\n",
    "bene_car_inp_outp_state_df.fillna(value=values,inplace=True)"
   ]
  },
  {
   "cell_type": "markdown",
   "metadata": {},
   "source": [
    "### 4.c Add Hospice Indicator if the beneficiary availed hospice service ###"
   ]
  },
  {
   "cell_type": "code",
   "execution_count": 217,
   "metadata": {},
   "outputs": [],
   "source": [
    "#Now add hospice indicator \n",
    "bene_car_inp_outp_state_df['HOSPICE_FLAG'] = np.where((bene_car_inp_outp_state_df['car_CLM_ID_count'] > 0)\n",
    "                                 |(bene_car_inp_outp_state_df['inp_CLM_ID_count'] > 0)\n",
    "                                 |(bene_car_inp_outp_state_df['outp_CLM_ID_count'] > 0)\n",
    "                                 ,1,0)\n",
    "#bene_car_inp_outp_state_df.head(1000)"
   ]
  },
  {
   "cell_type": "markdown",
   "metadata": {},
   "source": [
    "### 4.d Aggregate group by country, race and gender ###"
   ]
  },
  {
   "cell_type": "code",
   "execution_count": 220,
   "metadata": {},
   "outputs": [],
   "source": [
    "# Total beneficiary and hospice beneficiary numbers by state\n",
    "bene_country_group_by = (bene_car_inp_outp_state_df.groupby('SP_State_full_name').agg(\n",
    "    {\n",
    "     'DESYNPUF_ID':'count',\n",
    "     'HOSPICE_FLAG':'sum'\n",
    "    }\n",
    "    )\n",
    "             .reset_index()\n",
    "             .rename(columns={'DESYNPUF_ID':'DESYNPUF_ID_count',\n",
    "                              'HOSPICE_FLAG':'HOSPICE_FLAG_sum'\n",
    "                             }))\n",
    "\n",
    "bene_country_group_by['percent_hospice'] = bene_country_group_by['HOSPICE_FLAG_sum']/bene_country_group_by['DESYNPUF_ID_count']\n",
    "\n",
    "df_write_csv(bene_country_group_by,\"/Users/nalinivineetha/Documents/MIDS/W200Python/PythonRoughWork/Project_2/files/beneficiary/bene_cohort_country_groupby.csv\")"
   ]
  },
  {
   "cell_type": "code",
   "execution_count": 221,
   "metadata": {},
   "outputs": [],
   "source": [
    "# Total beneficiary and hospice beneficiary numbers by race\n",
    "bene_race_group_by = (bene_car_inp_outp_state_df.groupby('BENE_RACE_CD_max').agg(\n",
    "    {\n",
    "     'DESYNPUF_ID':'count',\n",
    "     'HOSPICE_FLAG':'sum'\n",
    "    }\n",
    "    )\n",
    "             .reset_index()\n",
    "             .rename(columns={'DESYNPUF_ID':'DESYNPUF_ID_count',\n",
    "                              'HOSPICE_FLAG':'HOSPICE_FLAG_sum'\n",
    "                             }))\n",
    "\n",
    "bene_race_group_by['percent_hospice'] = bene_race_group_by['HOSPICE_FLAG_sum']/bene_race_group_by['DESYNPUF_ID_count']\n",
    "\n",
    "df_write_csv(bene_race_group_by,\"/Users/nalinivineetha/Documents/MIDS/W200Python/PythonRoughWork/Project_2/files/beneficiary/bene_cohort_race_groupby.csv\")"
   ]
  },
  {
   "cell_type": "code",
   "execution_count": 222,
   "metadata": {},
   "outputs": [],
   "source": [
    "# Total beneficiary and hospice beneficiary numbers by gender\n",
    "bene_gender_group_by = (bene_car_inp_outp_state_df.groupby('BENE_SEX_IDENT_CD_max').agg(\n",
    "    {\n",
    "     'DESYNPUF_ID':'count',\n",
    "     'HOSPICE_FLAG':'sum'\n",
    "    }\n",
    "    )\n",
    "             .reset_index()\n",
    "             .rename(columns={'DESYNPUF_ID':'DESYNPUF_ID_count',\n",
    "                              'HOSPICE_FLAG':'HOSPICE_FLAG_sum'\n",
    "                             }))\n",
    "\n",
    "bene_gender_group_by['percent_hospice'] = bene_gender_group_by['HOSPICE_FLAG_sum']/bene_gender_group_by['DESYNPUF_ID_count']\n",
    "\n",
    "df_write_csv(bene_race_group_by,\"/Users/nalinivineetha/Documents/MIDS/W200Python/PythonRoughWork/Project_2/files/beneficiary/bene_cohort_gender_groupby.csv\")"
   ]
  }
 ],
 "metadata": {
  "kernelspec": {
   "display_name": "Python 3",
   "language": "python",
   "name": "python3"
  },
  "language_info": {
   "codemirror_mode": {
    "name": "ipython",
    "version": 3
   },
   "file_extension": ".py",
   "mimetype": "text/x-python",
   "name": "python",
   "nbconvert_exporter": "python",
   "pygments_lexer": "ipython3",
   "version": "3.7.3"
  }
 },
 "nbformat": 4,
 "nbformat_minor": 2
}
