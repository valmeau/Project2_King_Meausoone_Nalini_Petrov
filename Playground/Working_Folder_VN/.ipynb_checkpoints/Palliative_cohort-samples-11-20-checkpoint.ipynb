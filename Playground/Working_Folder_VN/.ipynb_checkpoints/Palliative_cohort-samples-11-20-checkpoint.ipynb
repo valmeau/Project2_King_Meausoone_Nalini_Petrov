{
 "cells": [
  {
   "cell_type": "code",
   "execution_count": 1,
   "metadata": {},
   "outputs": [
    {
     "name": "stdout",
     "output_type": "stream",
     "text": [
      "3.7.3 (default, Mar 27 2019, 16:54:48) \n",
      "[Clang 4.0.1 (tags/RELEASE_401/final)]\n",
      "1.16.2\n",
      "0.24.2\n"
     ]
    }
   ],
   "source": [
    "import glob\n",
    "%matplotlib inline\n",
    "import sys\n",
    "print(sys.version)\n",
    "import numpy as np\n",
    "print(np.__version__)\n",
    "import pandas as pd\n",
    "print(pd.__version__)\n",
    "import matplotlib.pyplot as plt\n"
   ]
  },
  {
   "cell_type": "markdown",
   "metadata": {},
   "source": [
    "## 1.Functionality ###\n",
    "\n",
    "This notebook processes synthetic medicare data to identify palliative care utilization based on various parameters.\n",
    "The files processed are : \n",
    "\n",
    "* Inpatient  \n",
    "* Outpatient  \n",
    "* Carrier  \n",
    "    ** For the above 3 files, raw observations from the first 10 samples are collected if they have at least one ICD9 code = V667,   \n",
    "    ** then they are aggregated into one record per patient(groupby = DESYNPUF_ID), with count of observations and sum of claim_amount   \n",
    "<br></br>\n",
    "* Beneficiary  \n",
    "    All beneficiaries are processed if they have 12 months coverage.   \n",
    "    columns :   \n",
    "    DESYNPUF_ID (groupby),  \n",
    "    BENE_BIRTH_DT_max,   \n",
    "    BENE_DEATH_DT,   \n",
    "    BENE_SEX_IDENT_CD_max,   \n",
    "    BENE_RACE_CD_max,   \n",
    "    SP_STATE_CODE_max,     \n",
    "    BENE_COUNTY_CD_count, -- to get the count of claims   \n",
    "    BENE_HI_CVRAGE_TOT_MONS_max,  \n",
    "    BENE_SMI_CVRAGE_TOT_MONS_max"
   ]
  },
  {
   "cell_type": "markdown",
   "metadata": {},
   "source": [
    "## 2.Utility Functions##\n",
    "\n",
    "### 2.a Print DataFrame Shape and Dtype ###"
   ]
  },
  {
   "cell_type": "code",
   "execution_count": 2,
   "metadata": {},
   "outputs": [],
   "source": [
    "def df_print(df):\n",
    "    print(df.shape)\n",
    "    print(df.columns)"
   ]
  },
  {
   "cell_type": "markdown",
   "metadata": {},
   "source": [
    "### 2.b Merge all files in a path into a single dataframe ###"
   ]
  },
  {
   "cell_type": "code",
   "execution_count": 3,
   "metadata": {},
   "outputs": [],
   "source": [
    "def merge_rows_df(path):\n",
    "    \n",
    "    frames = []\n",
    "    \n",
    "    for fname in glob.glob(path):\n",
    "    \n",
    "        print(fname)\n",
    "        frames.append(pd.read_csv(fname))\n",
    "     \n",
    "    result_df = pd.concat(frames)\n",
    "    return result_df"
   ]
  },
  {
   "cell_type": "code",
   "execution_count": 19,
   "metadata": {},
   "outputs": [],
   "source": [
    "def merge_list_df(path):\n",
    "    \n",
    "    frames = []\n",
    "    \n",
    "    for fname in path:\n",
    "    \n",
    "        print(fname)\n",
    "        frames.append(pd.read_csv(fname))\n",
    "     \n",
    "    result_df = pd.concat(frames)\n",
    "    return result_df"
   ]
  },
  {
   "cell_type": "markdown",
   "metadata": {},
   "source": [
    "### 2.c Merge all files in a path, with ICD9 code = V667 into a single dataframe ###"
   ]
  },
  {
   "cell_type": "code",
   "execution_count": 4,
   "metadata": {},
   "outputs": [],
   "source": [
    "def palliative_cohort(path):\n",
    "    \n",
    "    frames = []\n",
    "    \n",
    "    for fname in glob.glob(path):\n",
    "        \n",
    "        df = pd.read_csv(fname)\n",
    "        \n",
    "        if 'Carrier_Claims_Sample' in fname:\n",
    "            \n",
    "            pal_df = df[(df.ICD9_DGNS_CD_1 =='V667')\n",
    "                        |(df.ICD9_DGNS_CD_2 =='V667')\n",
    "                        |(df.ICD9_DGNS_CD_3 =='V667')\n",
    "                        |(df.ICD9_DGNS_CD_4 =='V667')\n",
    "                        |(df.ICD9_DGNS_CD_5 =='V667')\n",
    "                        |(df.ICD9_DGNS_CD_6 =='V667')\n",
    "                        |(df.ICD9_DGNS_CD_7 =='V667')\n",
    "                        |(df.ICD9_DGNS_CD_8 =='V667')\n",
    "                       ]\n",
    "        else:\n",
    "            pal_df = df[(df.ICD9_DGNS_CD_1 =='V667')\n",
    "                        |(df.ICD9_DGNS_CD_2 =='V667')\n",
    "                        |(df.ICD9_DGNS_CD_3 =='V667')\n",
    "                        |(df.ICD9_DGNS_CD_4 =='V667')\n",
    "                        |(df.ICD9_DGNS_CD_5 =='V667')\n",
    "                        |(df.ICD9_DGNS_CD_6 =='V667')\n",
    "                        |(df.ICD9_DGNS_CD_7 =='V667')\n",
    "                        |(df.ICD9_DGNS_CD_8 =='V667')\n",
    "                        |(df.ICD9_DGNS_CD_9 =='V667')\n",
    "                        |(df.ICD9_DGNS_CD_10 =='V667')\n",
    "                        |(df.ICD9_PRCDR_CD_1 =='V667')\n",
    "                        |(df.ICD9_PRCDR_CD_2 =='V667')\n",
    "                        |(df.ICD9_PRCDR_CD_3 =='V667')\n",
    "                        |(df.ICD9_PRCDR_CD_4 =='V667')\n",
    "                        |(df.ICD9_PRCDR_CD_5 =='V667')\n",
    "                        |(df.ICD9_PRCDR_CD_6 =='V667')\n",
    "                       ]\n",
    "        \n",
    "        frames.append(pal_df)\n",
    "    \n",
    "    result_df = pd.concat(frames)\n",
    "    result_df[\"CLM_FROM_DT\"] = pd.to_datetime(df[\"CLM_FROM_DT\"], format=\"%Y%m%d\")\n",
    "    result_df[\"CLM_THRU_DT\"] = pd.to_datetime(df[\"CLM_FROM_DT\"], format=\"%Y%m%d\")\n",
    "\n",
    "    return result_df\n"
   ]
  },
  {
   "cell_type": "markdown",
   "metadata": {},
   "source": [
    "### 2.d Write dataframe to csv ###"
   ]
  },
  {
   "cell_type": "code",
   "execution_count": 5,
   "metadata": {},
   "outputs": [],
   "source": [
    "def df_write_csv(df, path):\n",
    "    \n",
    "    df.to_csv(path_or_buf = path, index=False)"
   ]
  },
  {
   "cell_type": "markdown",
   "metadata": {},
   "source": [
    "## 3.Process Files ##\n",
    "### 3.a Process inpatient_claims with hospice code into inp_palliative_cohort.csv ###"
   ]
  },
  {
   "cell_type": "code",
   "execution_count": 6,
   "metadata": {},
   "outputs": [
    {
     "name": "stderr",
     "output_type": "stream",
     "text": [
      "/anaconda3/lib/python3.7/site-packages/pandas/core/ops.py:1649: FutureWarning: elementwise comparison failed; returning scalar instead, but in the future will perform elementwise comparison\n",
      "  result = method(y)\n"
     ]
    }
   ],
   "source": [
    "inp_path = \"/Users/nalinivineetha/Documents/MIDS/W200Python/PythonRoughWork/Project_2/\\\n",
    "files/samples11-20/*Inpatient*.csv\"\n",
    "inp_df = palliative_cohort(inp_path)\n",
    "df_write_csv(inp_df,\"/Users/nalinivineetha/Documents/MIDS/W200Python/PythonRoughWork/\\\n",
    "Project_2/files/output11-20/inp_palliative_cohort.csv\")"
   ]
  },
  {
   "cell_type": "markdown",
   "metadata": {},
   "source": [
    "### 3.b Process outpatients with hospice code into out_palliative_cohort.csv ###"
   ]
  },
  {
   "cell_type": "code",
   "execution_count": 7,
   "metadata": {},
   "outputs": [
    {
     "name": "stderr",
     "output_type": "stream",
     "text": [
      "/anaconda3/lib/python3.7/site-packages/IPython/core/interactiveshell.py:3214: DtypeWarning: Columns (21,23,24,25,26,27) have mixed types. Specify dtype option on import or set low_memory=False.\n",
      "  if (yield from self.run_code(code, result)):\n",
      "/anaconda3/lib/python3.7/site-packages/IPython/core/interactiveshell.py:3214: DtypeWarning: Columns (23,24,25,26,27) have mixed types. Specify dtype option on import or set low_memory=False.\n",
      "  if (yield from self.run_code(code, result)):\n"
     ]
    }
   ],
   "source": [
    "outp_path = \"/Users/nalinivineetha/Documents/MIDS/W200Python/PythonRoughWork/Project_2/\\\n",
    "files/samples11-20/*Outpatient*.csv\"\n",
    "outp_df = palliative_cohort(outp_path)\n",
    "df_write_csv(outp_df,\"/Users/nalinivineetha/Documents/MIDS/W200Python/PythonRoughWork/Project_2/\\\n",
    "files/output11-20/outp_palliative_cohort.csv\")"
   ]
  },
  {
   "cell_type": "code",
   "execution_count": null,
   "metadata": {},
   "outputs": [],
   "source": [
    "df_print(inp_df)\n",
    "df_print(outp_df)"
   ]
  },
  {
   "cell_type": "markdown",
   "metadata": {},
   "source": [
    "### 3.c Process carrier_claims with hospice code into car_palliative_cohort.csv ###"
   ]
  },
  {
   "cell_type": "code",
   "execution_count": 148,
   "metadata": {},
   "outputs": [],
   "source": [
    "car_path = \"/Users/nalinivineetha/Documents/MIDS/W200Python/PythonRoughWork/Project_2/\\\n",
    "files/samples11-20/*Carrier_Claims*.csv\"\n",
    "car_df = palliative_cohort(car_path)\n",
    "df_write_csv(car_df,\"/Users/nalinivineetha/Documents/MIDS/W200Python/PythonRoughWork/Project_2/files/output11-20/car_palliative_cohort.csv\")"
   ]
  },
  {
   "cell_type": "code",
   "execution_count": 10,
   "metadata": {},
   "outputs": [],
   "source": [
    "car_df.count()\n"
   ]
  },
  {
   "cell_type": "markdown",
   "metadata": {},
   "source": [
    "### 3.d Process beneficiary files into bene_cohort.csv ###"
   ]
  },
  {
   "cell_type": "code",
   "execution_count": 152,
   "metadata": {},
   "outputs": [
    {
     "name": "stdout",
     "output_type": "stream",
     "text": [
      "/Users/nalinivineetha/Documents/MIDS/W200Python/PythonRoughWork/Project_2/files/samples11-20/DE1_0_2010_Beneficiary_Summary_File_Sample_20.csv\n",
      "/Users/nalinivineetha/Documents/MIDS/W200Python/PythonRoughWork/Project_2/files/samples11-20/DE1_0_2010_Beneficiary_Summary_File_Sample_18.csv\n",
      "/Users/nalinivineetha/Documents/MIDS/W200Python/PythonRoughWork/Project_2/files/samples11-20/DE1_0_2010_Beneficiary_Summary_File_Sample_19.csv\n",
      "/Users/nalinivineetha/Documents/MIDS/W200Python/PythonRoughWork/Project_2/files/samples11-20/DE1_0_2008_Beneficiary_Summary_File_Sample_13.csv\n",
      "/Users/nalinivineetha/Documents/MIDS/W200Python/PythonRoughWork/Project_2/files/samples11-20/DE1_0_2008_Beneficiary_Summary_File_Sample_12.csv\n",
      "/Users/nalinivineetha/Documents/MIDS/W200Python/PythonRoughWork/Project_2/files/samples11-20/DE1_0_2009_Beneficiary_Summary_File_Sample_20.csv\n",
      "/Users/nalinivineetha/Documents/MIDS/W200Python/PythonRoughWork/Project_2/files/samples11-20/DE1_0_2008_Beneficiary_Summary_File_Sample_11.csv\n",
      "/Users/nalinivineetha/Documents/MIDS/W200Python/PythonRoughWork/Project_2/files/samples11-20/DE1_0_2008_Beneficiary_Summary_File_Sample_15.csv\n",
      "/Users/nalinivineetha/Documents/MIDS/W200Python/PythonRoughWork/Project_2/files/samples11-20/DE1_0_2009_Beneficiary_Summary_File_Sample_19.csv\n",
      "/Users/nalinivineetha/Documents/MIDS/W200Python/PythonRoughWork/Project_2/files/samples11-20/DE1_0_2009_Beneficiary_Summary_File_Sample_18.csv\n",
      "/Users/nalinivineetha/Documents/MIDS/W200Python/PythonRoughWork/Project_2/files/samples11-20/DE1_0_2008_Beneficiary_Summary_File_Sample_14.csv\n",
      "/Users/nalinivineetha/Documents/MIDS/W200Python/PythonRoughWork/Project_2/files/samples11-20/DE1_0_2008_Beneficiary_Summary_File_Sample_16.csv\n",
      "/Users/nalinivineetha/Documents/MIDS/W200Python/PythonRoughWork/Project_2/files/samples11-20/DE1_0_2008_Beneficiary_Summary_File_Sample_17.csv\n",
      "/Users/nalinivineetha/Documents/MIDS/W200Python/PythonRoughWork/Project_2/files/samples11-20/DE1_0_2009_Beneficiary_Summary_File_Sample_16.csv\n",
      "/Users/nalinivineetha/Documents/MIDS/W200Python/PythonRoughWork/Project_2/files/samples11-20/DE1_0_2009_Beneficiary_Summary_File_Sample_17.csv\n",
      "/Users/nalinivineetha/Documents/MIDS/W200Python/PythonRoughWork/Project_2/files/samples11-20/DE1_0_2008_Beneficiary_Summary_File_Sample_19.csv\n",
      "/Users/nalinivineetha/Documents/MIDS/W200Python/PythonRoughWork/Project_2/files/samples11-20/DE1_0_2009_Beneficiary_Summary_File_Sample_15.csv\n",
      "/Users/nalinivineetha/Documents/MIDS/W200Python/PythonRoughWork/Project_2/files/samples11-20/DE1_0_2009_Beneficiary_Summary_File_Sample_14.csv\n",
      "/Users/nalinivineetha/Documents/MIDS/W200Python/PythonRoughWork/Project_2/files/samples11-20/DE1_0_2008_Beneficiary_Summary_File_Sample_18.csv\n",
      "/Users/nalinivineetha/Documents/MIDS/W200Python/PythonRoughWork/Project_2/files/samples11-20/DE1_0_2008_Beneficiary_Summary_File_Sample_20.csv\n",
      "/Users/nalinivineetha/Documents/MIDS/W200Python/PythonRoughWork/Project_2/files/samples11-20/DE1_0_2009_Beneficiary_Summary_File_Sample_11.csv\n",
      "/Users/nalinivineetha/Documents/MIDS/W200Python/PythonRoughWork/Project_2/files/samples11-20/DE1_0_2009_Beneficiary_Summary_File_Sample_13.csv\n",
      "/Users/nalinivineetha/Documents/MIDS/W200Python/PythonRoughWork/Project_2/files/samples11-20/DE1_0_2009_Beneficiary_Summary_File_Sample_12.csv\n",
      "/Users/nalinivineetha/Documents/MIDS/W200Python/PythonRoughWork/Project_2/files/samples11-20/DE1_0_2010_Beneficiary_Summary_File_Sample_14.csv\n",
      "/Users/nalinivineetha/Documents/MIDS/W200Python/PythonRoughWork/Project_2/files/samples11-20/DE1_0_2010_Beneficiary_Summary_File_Sample_15.csv\n",
      "/Users/nalinivineetha/Documents/MIDS/W200Python/PythonRoughWork/Project_2/files/samples11-20/DE1_0_2010_Beneficiary_Summary_File_Sample_17.csv\n",
      "/Users/nalinivineetha/Documents/MIDS/W200Python/PythonRoughWork/Project_2/files/samples11-20/DE1_0_2010_Beneficiary_Summary_File_Sample_16.csv\n",
      "/Users/nalinivineetha/Documents/MIDS/W200Python/PythonRoughWork/Project_2/files/samples11-20/DE1_0_2010_Beneficiary_Summary_File_Sample_12.csv\n",
      "/Users/nalinivineetha/Documents/MIDS/W200Python/PythonRoughWork/Project_2/files/samples11-20/DE1_0_2010_Beneficiary_Summary_File_Sample_13.csv\n",
      "/Users/nalinivineetha/Documents/MIDS/W200Python/PythonRoughWork/Project_2/files/samples11-20/DE1_0_2010_Beneficiary_Summary_File_Sample_11.csv\n"
     ]
    }
   ],
   "source": [
    "bene_path = \"/Users/nalinivineetha/Documents/MIDS/W200Python/PythonRoughWork/Project_2/\\\n",
    "files/samples11-20/*Beneficiary*.csv\"\n",
    "bene_df = merge_rows_df(bene_path)\n"
   ]
  },
  {
   "cell_type": "code",
   "execution_count": 153,
   "metadata": {},
   "outputs": [],
   "source": [
    "#converting date formats into yyyy-mm-dd\n",
    "bene_df[\"BENE_BIRTH_DT\"] = pd.to_datetime(bene_df[\"BENE_BIRTH_DT\"], format=\"%Y%m%d\")\n",
    "bene_df[\"BENE_DEATH_DT\"] = pd.to_datetime(bene_df[\"BENE_DEATH_DT\"], format=\"%Y%m%d\")\n",
    "\n",
    "df_write_csv(bene_df,\"/Users/nalinivineetha/Documents/MIDS/W200Python/PythonRoughWork/Project_2/\\\n",
    "files/output11-20/bene_cohort.csv\")\n",
    "\n"
   ]
  },
  {
   "cell_type": "code",
   "execution_count": 151,
   "metadata": {},
   "outputs": [],
   "source": [
    "Now merge all 20 files into one \n",
    "\n",
    "inp_path = ['/Users/nalinivineetha/Documents/MIDS/W200Python/PythonRoughWork/Project_2/\\\n",
    "files/output11-20/inp_palliative_cohort.csv','/Users/nalinivineetha/Documents/MIDS/W200Python/PythonRoughWork/\\\n",
    "Project_2/\\\n",
    "files/output1-10/inpp_palliative_cohort.csv']\n",
    "\n",
    "inp_all_df = merge_list_df(inp_path)\n",
    "inp_all_df.count()\n",
    "\n",
    "outp_path = ['/Users/nalinivineetha/Documents/MIDS/W200Python/PythonRoughWork/Project_2/\\\n",
    "files/output11-20/outp_palliative_cohort.csv','/Users/nalinivineetha/Documents/MIDS/W200Python/PythonRoughWork/\\\n",
    "Project_2/\\\n",
    "files/output1-10/outp_palliative_cohort.csv']\n",
    "\n",
    "outp_all_df = merge_list_df(outp_path)\n",
    "outp_all_df.count()\n",
    "\n",
    "car_path = ['/Users/nalinivineetha/Documents/MIDS/W200Python/PythonRoughWork/Project_2/\\\n",
    "files/output11-20/car_palliative_cohort.csv','/Users/nalinivineetha/Documents/MIDS/W200Python/PythonRoughWork/\\\n",
    "Project_2/\\\n",
    "files/output1-10/car_palliative_cohort.csv']\n",
    "\n",
    "car_all_df = merge_list_df(car_path)\n",
    "car_all_df.count()\n",
    "\n",
    "bene_path = ['/Users/nalinivineetha/Documents/MIDS/W200Python/PythonRoughWork/Project_2/\\\n",
    "files/output11-20/bene_cohort.csv','/Users/nalinivineetha/Documents/MIDS/W200Python/PythonRoughWork/\\\n",
    "Project_2/\\\n",
    "files/output1-10/bene_cohort.csv']\n",
    "\n",
    "bene_all_df = merge_list_df(bene_path)\n",
    "bene_all_df.count()"
   ]
  },
  {
   "cell_type": "code",
   "execution_count": 25,
   "metadata": {},
   "outputs": [],
   "source": [
    "#Now write meged df into file\n",
    "df_write_csv(inp_all_df,\"/Users/nalinivineetha/Documents/MIDS/W200Python/PythonRoughWork/Project_2/\\\n",
    "files/merged_files/inp_all_cohort.csv\")\n",
    "df_write_csv(outp_all_df,\"/Users/nalinivineetha/Documents/MIDS/W200Python/PythonRoughWork/Project_2/\\\n",
    "files/merged_files/outp_all_cohort.csv\")\n",
    "df_write_csv(car_all_df,\"/Users/nalinivineetha/Documents/MIDS/W200Python/PythonRoughWork/Project_2/\\\n",
    "files/merged_files/car_all_cohort.csv\")\n",
    "df_write_csv(bene_all_df,\"/Users/nalinivineetha/Documents/MIDS/W200Python/PythonRoughWork/Project_2/\\\n",
    "files/merged_files/bene_all_cohort.csv\")"
   ]
  },
  {
   "cell_type": "markdown",
   "metadata": {},
   "source": [
    "### 3.f Aggregates per person ( DESYNPUF_ID) ###"
   ]
  },
  {
   "cell_type": "code",
   "execution_count": 27,
   "metadata": {},
   "outputs": [
    {
     "name": "stdout",
     "output_type": "stream",
     "text": [
      "(10920, 5)\n",
      "Index(['DESYNPUF_ID', 'CLM_ID_count', 'CLM_PMT_AMT_sum',\n",
      "       'NCH_PRMRY_PYR_CLM_PD_AMT_sum', 'CLM_UTLZTN_DAY_CNT_sum'],\n",
      "      dtype='object')\n"
     ]
    },
    {
     "data": {
      "text/plain": [
       "10920"
      ]
     },
     "execution_count": 27,
     "metadata": {},
     "output_type": "execute_result"
    }
   ],
   "source": [
    "#aggregating per person - inpatient\n",
    "inp_all_aggr = (inp_all_df.groupby('DESYNPUF_ID').agg(\n",
    "    {'CLM_ID':'count', \n",
    "     'CLM_PMT_AMT':'sum',\n",
    "     'NCH_PRMRY_PYR_CLM_PD_AMT':'sum',\n",
    "     'CLM_UTLZTN_DAY_CNT': 'sum'\n",
    "    }\n",
    "    )\n",
    "             .reset_index()\n",
    "             .rename(columns={'CLM_ID':'CLM_ID_count', \n",
    "                              'CLM_PMT_AMT':'CLM_PMT_AMT_sum',\n",
    "                              'NCH_PRMRY_PYR_CLM_PD_AMT':'NCH_PRMRY_PYR_CLM_PD_AMT_sum',\n",
    "                              'CLM_UTLZTN_DAY_CNT': 'CLM_UTLZTN_DAY_CNT_sum'\n",
    "                             }))\n",
    "df_write_csv(inp_all_aggr,\"/Users/nalinivineetha/Documents/MIDS/W200Python/PythonRoughWork/Project_2/files/merged_files/inp_cohort_all_aggr.csv\")\n",
    "\n",
    "#validate inpatient aggr\n",
    "df_print(inp_all_aggr)\n",
    "inp_all_aggr.DESYNPUF_ID.nunique()\n"
   ]
  },
  {
   "cell_type": "code",
   "execution_count": 28,
   "metadata": {},
   "outputs": [
    {
     "name": "stdout",
     "output_type": "stream",
     "text": [
      "(14607, 4)\n",
      "Index(['DESYNPUF_ID', 'CLM_ID_count', 'CLM_PMT_AMT_sum',\n",
      "       'NCH_PRMRY_PYR_CLM_PD_AMT_sum'],\n",
      "      dtype='object')\n"
     ]
    },
    {
     "data": {
      "text/plain": [
       "14607"
      ]
     },
     "execution_count": 28,
     "metadata": {},
     "output_type": "execute_result"
    }
   ],
   "source": [
    "#aggregating per person - outpatient\n",
    "outp_all_aggr = (outp_all_df.groupby('DESYNPUF_ID').agg(\n",
    "    {'CLM_ID':'count', \n",
    "     'CLM_PMT_AMT':'sum',\n",
    "     'NCH_PRMRY_PYR_CLM_PD_AMT':'sum'\n",
    "    }\n",
    "    )\n",
    "             .reset_index()\n",
    "             .rename(columns={'CLM_ID':'CLM_ID_count', \n",
    "                              'CLM_PMT_AMT':'CLM_PMT_AMT_sum',\n",
    "                              'NCH_PRMRY_PYR_CLM_PD_AMT':'NCH_PRMRY_PYR_CLM_PD_AMT_sum'\n",
    "                             }))\n",
    "df_write_csv(outp_all_aggr,\"/Users/nalinivineetha/Documents/MIDS/W200Python/PythonRoughWork/Project_2/files/merged_files/outp_cohort_all_aggr.csv\")\n",
    "\n",
    "#validate inpatient aggr\n",
    "df_print(outp_all_aggr)\n",
    "outp_all_aggr.DESYNPUF_ID.nunique()"
   ]
  },
  {
   "cell_type": "code",
   "execution_count": 30,
   "metadata": {},
   "outputs": [
    {
     "name": "stdout",
     "output_type": "stream",
     "text": [
      "(48078, 3)\n",
      "Index(['DESYNPUF_ID', 'CLM_ID_count', 'NCH_PMT_AMT_sum'], dtype='object')\n"
     ]
    },
    {
     "data": {
      "text/plain": [
       "48078"
      ]
     },
     "execution_count": 30,
     "metadata": {},
     "output_type": "execute_result"
    }
   ],
   "source": [
    "#aggregating per person - carrier \n",
    "car_all_df['NCH_PMT_AMT'] = car_all_df['LINE_NCH_PMT_AMT_1'] + car_all_df['LINE_NCH_PMT_AMT_2'] +  car_all_df['LINE_NCH_PMT_AMT_3'] +  car_all_df['LINE_NCH_PMT_AMT_4'] + \\\n",
    "                        car_all_df['LINE_NCH_PMT_AMT_5'] + car_all_df['LINE_NCH_PMT_AMT_6'] + car_all_df['LINE_NCH_PMT_AMT_7'] + \\\n",
    "                        car_all_df['LINE_NCH_PMT_AMT_8'] + car_all_df['LINE_NCH_PMT_AMT_9'] + car_all_df['LINE_NCH_PMT_AMT_10'] + \\\n",
    "                        car_all_df['LINE_NCH_PMT_AMT_11'] + car_all_df['LINE_NCH_PMT_AMT_12'] + car_all_df['LINE_NCH_PMT_AMT_13'] \n",
    "\n",
    "car_all_aggr = (car_all_df.groupby('DESYNPUF_ID').agg(\n",
    "    {'CLM_ID':'count', \n",
    "     'NCH_PMT_AMT':'sum'\n",
    "    }\n",
    "    )\n",
    "             .reset_index()\n",
    "             .rename(columns={'CLM_ID':'CLM_ID_count', \n",
    "                              'NCH_PMT_AMT':'NCH_PMT_AMT_sum'\n",
    "                             }))\n",
    "df_write_csv(car_all_aggr,\"/Users/nalinivineetha/Documents/MIDS/W200Python/PythonRoughWork/Project_2/files/merged_files/car_cohort_all_aggr.csv\")\n",
    "\n",
    "#validate inpatient aggr\n",
    "df_print(car_all_aggr)\n",
    "car_all_aggr.DESYNPUF_ID.nunique()"
   ]
  },
  {
   "cell_type": "code",
   "execution_count": 156,
   "metadata": {},
   "outputs": [
    {
     "data": {
      "text/html": [
       "<div>\n",
       "<style scoped>\n",
       "    .dataframe tbody tr th:only-of-type {\n",
       "        vertical-align: middle;\n",
       "    }\n",
       "\n",
       "    .dataframe tbody tr th {\n",
       "        vertical-align: top;\n",
       "    }\n",
       "\n",
       "    .dataframe thead th {\n",
       "        text-align: right;\n",
       "    }\n",
       "</style>\n",
       "<table border=\"1\" class=\"dataframe\">\n",
       "  <thead>\n",
       "    <tr style=\"text-align: right;\">\n",
       "      <th></th>\n",
       "      <th>DESYNPUF_ID</th>\n",
       "      <th>BENE_BIRTH_DT_max</th>\n",
       "      <th>BENE_DEATH_DT</th>\n",
       "      <th>BENE_SEX_IDENT_CD_max</th>\n",
       "      <th>BENE_RACE_CD_max</th>\n",
       "      <th>SP_STATE_CODE_max</th>\n",
       "      <th>BENE_COUNTY_CD_max</th>\n",
       "      <th>BENE_HI_CVRAGE_TOT_MONS_max</th>\n",
       "      <th>BENE_SMI_CVRAGE_TOT_MONS_max</th>\n",
       "      <th>BENE_HOSPICE_CANDIDATE_sum</th>\n",
       "      <th>BENE_COUNT_OCCURENCE</th>\n",
       "      <th>MEDREIMB_IP_sum</th>\n",
       "      <th>MEDREIMB_OP_sum</th>\n",
       "      <th>MEDREIMB_CAR_sum</th>\n",
       "      <th>MEDREIMB_TOTAL_sum</th>\n",
       "    </tr>\n",
       "  </thead>\n",
       "  <tbody>\n",
       "    <tr>\n",
       "      <th>0</th>\n",
       "      <td>00000B48BCF4AD29</td>\n",
       "      <td>1923-09-01</td>\n",
       "      <td>NaT</td>\n",
       "      <td>2</td>\n",
       "      <td>5</td>\n",
       "      <td>10</td>\n",
       "      <td>260</td>\n",
       "      <td>12</td>\n",
       "      <td>12</td>\n",
       "      <td>1</td>\n",
       "      <td>3</td>\n",
       "      <td>81000.0</td>\n",
       "      <td>2700.0</td>\n",
       "      <td>15780.0</td>\n",
       "      <td>99480.0</td>\n",
       "    </tr>\n",
       "    <tr>\n",
       "      <th>1</th>\n",
       "      <td>00001C24EE7B06AC</td>\n",
       "      <td>1936-05-01</td>\n",
       "      <td>NaT</td>\n",
       "      <td>1</td>\n",
       "      <td>1</td>\n",
       "      <td>11</td>\n",
       "      <td>530</td>\n",
       "      <td>12</td>\n",
       "      <td>12</td>\n",
       "      <td>1</td>\n",
       "      <td>2</td>\n",
       "      <td>0.0</td>\n",
       "      <td>700.0</td>\n",
       "      <td>890.0</td>\n",
       "      <td>1590.0</td>\n",
       "    </tr>\n",
       "    <tr>\n",
       "      <th>2</th>\n",
       "      <td>0000525AB30E4DEF</td>\n",
       "      <td>1920-10-01</td>\n",
       "      <td>NaT</td>\n",
       "      <td>2</td>\n",
       "      <td>1</td>\n",
       "      <td>31</td>\n",
       "      <td>300</td>\n",
       "      <td>12</td>\n",
       "      <td>12</td>\n",
       "      <td>1</td>\n",
       "      <td>2</td>\n",
       "      <td>13260.0</td>\n",
       "      <td>5140.0</td>\n",
       "      <td>11800.0</td>\n",
       "      <td>30200.0</td>\n",
       "    </tr>\n",
       "    <tr>\n",
       "      <th>3</th>\n",
       "      <td>000064755F16C901</td>\n",
       "      <td>1926-01-01</td>\n",
       "      <td>NaT</td>\n",
       "      <td>2</td>\n",
       "      <td>3</td>\n",
       "      <td>49</td>\n",
       "      <td>720</td>\n",
       "      <td>12</td>\n",
       "      <td>12</td>\n",
       "      <td>1</td>\n",
       "      <td>3</td>\n",
       "      <td>9000.0</td>\n",
       "      <td>5160.0</td>\n",
       "      <td>5170.0</td>\n",
       "      <td>19330.0</td>\n",
       "    </tr>\n",
       "    <tr>\n",
       "      <th>4</th>\n",
       "      <td>00006BCF17C9043D</td>\n",
       "      <td>1921-12-01</td>\n",
       "      <td>NaT</td>\n",
       "      <td>1</td>\n",
       "      <td>1</td>\n",
       "      <td>36</td>\n",
       "      <td>460</td>\n",
       "      <td>12</td>\n",
       "      <td>12</td>\n",
       "      <td>1</td>\n",
       "      <td>3</td>\n",
       "      <td>0.0</td>\n",
       "      <td>1890.0</td>\n",
       "      <td>5610.0</td>\n",
       "      <td>7500.0</td>\n",
       "    </tr>\n",
       "  </tbody>\n",
       "</table>\n",
       "</div>"
      ],
      "text/plain": [
       "        DESYNPUF_ID BENE_BIRTH_DT_max BENE_DEATH_DT  BENE_SEX_IDENT_CD_max  \\\n",
       "0  00000B48BCF4AD29        1923-09-01           NaT                      2   \n",
       "1  00001C24EE7B06AC        1936-05-01           NaT                      1   \n",
       "2  0000525AB30E4DEF        1920-10-01           NaT                      2   \n",
       "3  000064755F16C901        1926-01-01           NaT                      2   \n",
       "4  00006BCF17C9043D        1921-12-01           NaT                      1   \n",
       "\n",
       "   BENE_RACE_CD_max  SP_STATE_CODE_max  BENE_COUNTY_CD_max  \\\n",
       "0                 5                 10                 260   \n",
       "1                 1                 11                 530   \n",
       "2                 1                 31                 300   \n",
       "3                 3                 49                 720   \n",
       "4                 1                 36                 460   \n",
       "\n",
       "   BENE_HI_CVRAGE_TOT_MONS_max  BENE_SMI_CVRAGE_TOT_MONS_max  \\\n",
       "0                           12                            12   \n",
       "1                           12                            12   \n",
       "2                           12                            12   \n",
       "3                           12                            12   \n",
       "4                           12                            12   \n",
       "\n",
       "   BENE_HOSPICE_CANDIDATE_sum  BENE_COUNT_OCCURENCE  MEDREIMB_IP_sum  \\\n",
       "0                           1                     3          81000.0   \n",
       "1                           1                     2              0.0   \n",
       "2                           1                     2          13260.0   \n",
       "3                           1                     3           9000.0   \n",
       "4                           1                     3              0.0   \n",
       "\n",
       "   MEDREIMB_OP_sum  MEDREIMB_CAR_sum  MEDREIMB_TOTAL_sum  \n",
       "0           2700.0           15780.0             99480.0  \n",
       "1            700.0             890.0              1590.0  \n",
       "2           5140.0           11800.0             30200.0  \n",
       "3           5160.0            5170.0             19330.0  \n",
       "4           1890.0            5610.0              7500.0  "
      ]
     },
     "execution_count": 156,
     "metadata": {},
     "output_type": "execute_result"
    }
   ],
   "source": [
    "#aggregating by person - beneficiary\n",
    "# first set the dummy col for counts\n",
    "bene_all_df['BENE_COUNT_OCCURENCE'] = 1\n",
    "\n",
    "bene_all_df['BENE_HOSPICE_CANDIDATE'] = np.where((bene_all_df['SP_ALZHDMTA'] == 1)\n",
    "                                 |(bene_all_df['SP_CHF'] == 1)\n",
    "                                 |(bene_all_df['SP_CHRNKIDN'] == 1)\n",
    "                                 |(bene_all_df['SP_CNCR'] == 1)\n",
    "                                 |(bene_all_df['SP_COPD'] == 1)\n",
    "                                 |(bene_all_df['SP_ISCHMCHT'] == 1)\n",
    "                                 |(bene_all_df['SP_STRKETIA'] == 1)\n",
    "                                 ,1,0)\n",
    "\n",
    "bene_all_df[\"BENE_BIRTH_DT\"] = pd.to_datetime(bene_all_df[\"BENE_BIRTH_DT\"], format=\"%Y-%m-%d\")\n",
    "bene_all_df[\"BENE_DEATH_DT\"] = pd.to_datetime(bene_all_df[\"BENE_DEATH_DT\"], format=\"%Y-%m-%d\")\n",
    "\n",
    "bene_df_all_hospice = bene_all_df[bene_all_df.BENE_HOSPICE_CANDIDATE == 1]\n",
    "bene_df_all_hospice = bene_df_all_hospice[(bene_df_all_hospice.BENE_HI_CVRAGE_TOT_MONS == 12) & (bene_df_all_hospice.BENE_SMI_CVRAGE_TOT_MONS == 12)]\n",
    "\n",
    "bene_df_all_hospice['MEDREIMB_TOTAL'] = bene_df_all_hospice['MEDREIMB_IP'] + bene_df_all_hospice['MEDREIMB_OP'] + bene_df_all_hospice['MEDREIMB_CAR']\n",
    "\n",
    "bene_all_hospice_aggr = (bene_df_all_hospice.groupby('DESYNPUF_ID').agg(\n",
    "    {\n",
    "     'BENE_BIRTH_DT':'max',\n",
    "     'BENE_DEATH_DT':'max',\n",
    "     'BENE_SEX_IDENT_CD':'max',\n",
    "     'BENE_RACE_CD': 'max',\n",
    "     'SP_STATE_CODE': 'max',\n",
    "     'BENE_COUNTY_CD': 'max',\n",
    "     'BENE_HI_CVRAGE_TOT_MONS':'max',\n",
    "     'BENE_SMI_CVRAGE_TOT_MONS':'max',\n",
    "     'BENE_HOSPICE_CANDIDATE':'max',\n",
    "     'BENE_COUNT_OCCURENCE':'sum',\n",
    "     'MEDREIMB_IP' : 'sum',\n",
    "     'MEDREIMB_OP' : 'sum',\n",
    "     'MEDREIMB_CAR' : 'sum',\n",
    "     'MEDREIMB_TOTAL' : 'sum'\n",
    "\n",
    "    }\n",
    "    )\n",
    "             .reset_index()\n",
    "             .rename(columns={'BENE_BIRTH_DT':'BENE_BIRTH_DT_max',\n",
    "                              'BENE_SEX_IDENT_CD':'BENE_SEX_IDENT_CD_max',\n",
    "                              'BENE_RACE_CD': 'BENE_RACE_CD_max',\n",
    "                              'SP_STATE_CODE': 'SP_STATE_CODE_max',\n",
    "                              'BENE_HI_CVRAGE_TOT_MONS':'BENE_HI_CVRAGE_TOT_MONS_max',\n",
    "                              'BENE_SMI_CVRAGE_TOT_MONS':'BENE_SMI_CVRAGE_TOT_MONS_max',\n",
    "                              'BENE_COUNTY_CD':'BENE_COUNTY_CD_max',\n",
    "                              'BENE_HOSPICE_CANDIDATE': 'BENE_HOSPICE_CANDIDATE_sum',\n",
    "                              'MEDREIMB_IP' : 'MEDREIMB_IP_sum',\n",
    "                              'MEDREIMB_OP' : 'MEDREIMB_OP_sum',\n",
    "                              'MEDREIMB_CAR' : 'MEDREIMB_CAR_sum',\n",
    "                              'MEDREIMB_TOTAL' : 'MEDREIMB_TOTAL_sum',\n",
    "                             }))\n",
    "df_write_csv(bene_all_hospice_aggr,\"/Users/nalinivineetha/Documents/MIDS/W200Python/PythonRoughWork/Project_2/files/merged_files/bene_cohort_hospice_all_aggr.csv\")\n",
    "\n",
    "#validate beneficiary\n",
    "bene_all_hospice_aggr.head()\n",
    "# bene_aggr.shape\n",
    "# bene_aggr.count()\n",
    "# bene_aggr.DESYNPUF_ID.nunique()\n"
   ]
  },
  {
   "cell_type": "markdown",
   "metadata": {},
   "source": [
    "## 4. Merge datasets and process ##\n",
    "\n",
    "### 4.a Merge Beneficiary, Carrier, Inpatient and Outpatient files ###\n"
   ]
  },
  {
   "cell_type": "code",
   "execution_count": 157,
   "metadata": {},
   "outputs": [],
   "source": [
    "#now merge beneficiary, carrier claims, inpatient and outpatient by left join \n",
    "bene_car_df = pd.merge(bene_all_hospice_aggr, car_all_aggr, on='DESYNPUF_ID', how = 'left')\n",
    "bene_car_inp_df = pd.merge(bene_car_df, inp_all_aggr, on='DESYNPUF_ID', how = 'left')\n",
    "bene_car_inp_outp_df = pd.merge(bene_car_inp_df, outp_all_aggr, on='DESYNPUF_ID', how = 'left')\n",
    "#should've differentiated inpatient and outpatient columns while creating those dataframes. Ah well!\n",
    "bene_car_inp_outp_df = bene_car_inp_outp_df.rename(columns= {'CLM_ID_count_x': 'car_CLM_ID_count',\n",
    "                                                            'CLM_ID_count_y': 'inp_CLM_ID_count',\n",
    "                                                            'CLM_PMT_AMT_sum_x': 'inp_CLM_PMT_AMT_sum',\n",
    "                                                            'NCH_PRMRY_PYR_CLM_PD_AMT_sum_x': 'inp_NCH_PRMRY_PYR_CLM_PD_AMT_sum',\n",
    "                                                            'CLM_ID_count': 'outp_CLM_ID_count',\n",
    "                                                            'CLM_PMT_AMT_sum_y': 'outp_CLM_PMT_AMT_sum',\n",
    "                                                            'NCH_PRMRY_PYR_CLM_PD_AMT_sum_y':'outp_NCH_PRMRY_PYR_CLM_PD_AMT_sum'})\n",
    "\n"
   ]
  },
  {
   "cell_type": "code",
   "execution_count": 158,
   "metadata": {},
   "outputs": [
    {
     "name": "stdout",
     "output_type": "stream",
     "text": [
      "BENE_SEX_IDENT_CD_max\n",
      "1    699644\n",
      "2    932873\n",
      "Name: DESYNPUF_ID, dtype: int64\n",
      "BENE_RACE_CD_max\n",
      "1    1377566\n",
      "2     160870\n",
      "3      59596\n",
      "5      34485\n",
      "Name: DESYNPUF_ID, dtype: int64\n"
     ]
    }
   ],
   "source": [
    "#validation cell\n",
    "#print(bene_car_inp_outp_df.head())\n",
    "print(bene_car_inp_outp_df.groupby('BENE_SEX_IDENT_CD_max').DESYNPUF_ID.count())\n",
    "print(bene_car_inp_outp_df.groupby('BENE_RACE_CD_max').DESYNPUF_ID.count())\n",
    "#print(bene_car_inp_outp_df.groupby(['SP_STATE_CODE_max','BENE_RACE_CD_max']).DESYNPUF_ID.count())"
   ]
  },
  {
   "cell_type": "markdown",
   "metadata": {},
   "source": [
    "### 4.b Add State Name ###"
   ]
  },
  {
   "cell_type": "code",
   "execution_count": 159,
   "metadata": {},
   "outputs": [],
   "source": [
    "#Now add state names\n",
    "us_state_df = pd.read_csv(\"/Users/nalinivineetha/Documents/MIDS/W200Python/PythonRoughWork/Project_2/files/us_states_codes.csv\")\n",
    "us_state_df.head()\n",
    "bene_car_inp_outp_state_df = pd.merge(bene_car_inp_outp_df, us_state_df, on='SP_STATE_CODE_max')\n",
    "\n",
    "#Now fill NaNs with 0\n",
    "values = {'car_CLM_ID_count':0, 'NCH_PMT_AMT_sum': 0, 'inp_CLM_ID_count': 0, 'inp_CLM_PMT_AMT_sum': 0, 'outp_CLM_ID_count': 0}\n",
    "bene_car_inp_outp_state_df.fillna(value=values,inplace=True)"
   ]
  },
  {
   "cell_type": "markdown",
   "metadata": {},
   "source": [
    "### 4.c Add Hospice Indicator if the beneficiary availed hospice service ###"
   ]
  },
  {
   "cell_type": "code",
   "execution_count": 160,
   "metadata": {},
   "outputs": [],
   "source": [
    "#Now add hospice indicator \n",
    "bene_car_inp_outp_state_df['HOSPICE_FLAG'] = np.where((bene_car_inp_outp_state_df['car_CLM_ID_count'] > 0)\n",
    "                                 |(bene_car_inp_outp_state_df['inp_CLM_ID_count'] > 0)\n",
    "                                 |(bene_car_inp_outp_state_df['outp_CLM_ID_count'] > 0)\n",
    "                                 ,1,0)\n",
    "#bene_car_inp_outp_state_df.head(1000)\n",
    "df_write_csv(bene_car_inp_outp_state_df,\"/Users/nalinivineetha/Documents/MIDS/W200Python/PythonRoughWork/Project_2/files/merged_files/bene_car_inp_outp_state.csv\")"
   ]
  },
  {
   "cell_type": "markdown",
   "metadata": {},
   "source": [
    "### 4.d Add County Name ###"
   ]
  },
  {
   "cell_type": "code",
   "execution_count": 161,
   "metadata": {},
   "outputs": [
    {
     "data": {
      "text/plain": [
       "County_name               object\n",
       "County_State_name         object\n",
       "BENE_COUNTY_CD_max        object\n",
       "FIPS_State_county_code     int64\n",
       "dtype: object"
      ]
     },
     "execution_count": 161,
     "metadata": {},
     "output_type": "execute_result"
    }
   ],
   "source": [
    "#Get county metadata\n",
    "us_state_county_df = pd.read_csv(\"/Users/nalinivineetha/Documents/MIDS/W200Python/PythonRoughWork/Project_2/files/us_states_county_codes.txt\")\n",
    "us_state_county_df.head()\n",
    "us_state_county_df['BENE_COUNTY_CD_max'] = us_state_county_df['BENE_COUNTY_CD_max'].apply(str)\n",
    "\n",
    "#bene_car_inp_outp_state_df = pd.merge(bene_car_inp_outp_df, us_state_df, on='SP_STATE_CODE_max')\n",
    "us_state_county_df.dtypes\n"
   ]
  },
  {
   "cell_type": "code",
   "execution_count": 162,
   "metadata": {},
   "outputs": [],
   "source": [
    "# process county as a 3 char string ( for joining to metadata)\n",
    "def get_3digit_county_cd(s):\n",
    "    \n",
    "    if int(s/10) == 0:\n",
    "        \n",
    "        return '00'+str(s)\n",
    "    elif int(s/100) == 0:\n",
    "        \n",
    "        return '0'+str(s)\n",
    "    else:\n",
    "        return str(s)\n",
    "\n",
    "bene_car_inp_outp_state_df['STR_COUNTY_CD'] = bene_car_inp_outp_state_df['BENE_COUNTY_CD_max'].apply(get_3digit_county_cd)\n",
    "\n",
    "bene_car_inp_outp_state_df['SSA_COUNTY_CD'] = bene_car_inp_outp_state_df['SP_STATE_CODE_max'].apply(str)+bene_car_inp_outp_state_df['STR_COUNTY_CD']\n",
    "#bene_car_inp_outp_state_df.head(100)\n"
   ]
  },
  {
   "cell_type": "code",
   "execution_count": 163,
   "metadata": {},
   "outputs": [],
   "source": [
    "#Now merge and process\n",
    "bene_car_inp_outp_state_county_df = pd.merge(bene_car_inp_outp_state_df, us_state_county_df,\\\n",
    "                                             left_on='SSA_COUNTY_CD', right_on='BENE_COUNTY_CD_max', how = 'left')\n",
    "bene_car_inp_outp_state_county_df['SSA_STATE_COUNTY'] = bene_car_inp_outp_state_county_df['County_State_name'] + '-' + \\\n",
    "                                                        bene_car_inp_outp_state_county_df['County_name']\n",
    "df_write_csv(bene_car_inp_outp_state_county_df,\"/Users/nalinivineetha/Documents/MIDS/W200Python/PythonRoughWork/Project_2/files/merged_files/bene_car_inp_outp_state_county_df.csv\")"
   ]
  },
  {
   "cell_type": "code",
   "execution_count": 164,
   "metadata": {},
   "outputs": [
    {
     "data": {
      "text/html": [
       "<div>\n",
       "<style scoped>\n",
       "    .dataframe tbody tr th:only-of-type {\n",
       "        vertical-align: middle;\n",
       "    }\n",
       "\n",
       "    .dataframe tbody tr th {\n",
       "        vertical-align: top;\n",
       "    }\n",
       "\n",
       "    .dataframe thead th {\n",
       "        text-align: right;\n",
       "    }\n",
       "</style>\n",
       "<table border=\"1\" class=\"dataframe\">\n",
       "  <thead>\n",
       "    <tr style=\"text-align: right;\">\n",
       "      <th></th>\n",
       "      <th>DESYNPUF_ID</th>\n",
       "      <th>BENE_BIRTH_DT_max</th>\n",
       "      <th>BENE_DEATH_DT</th>\n",
       "      <th>BENE_SEX_IDENT_CD_max</th>\n",
       "      <th>BENE_RACE_CD_max</th>\n",
       "      <th>SP_STATE_CODE_max</th>\n",
       "      <th>BENE_COUNTY_CD_max_x</th>\n",
       "      <th>BENE_HI_CVRAGE_TOT_MONS_max</th>\n",
       "      <th>BENE_SMI_CVRAGE_TOT_MONS_max</th>\n",
       "      <th>BENE_HOSPICE_CANDIDATE_sum</th>\n",
       "      <th>...</th>\n",
       "      <th>SP_State_iso2a</th>\n",
       "      <th>SP_State_full_name</th>\n",
       "      <th>HOSPICE_FLAG</th>\n",
       "      <th>STR_COUNTY_CD</th>\n",
       "      <th>SSA_COUNTY_CD</th>\n",
       "      <th>County_name</th>\n",
       "      <th>County_State_name</th>\n",
       "      <th>BENE_COUNTY_CD_max_y</th>\n",
       "      <th>FIPS_State_county_code</th>\n",
       "      <th>SSA_STATE_COUNTY</th>\n",
       "    </tr>\n",
       "  </thead>\n",
       "  <tbody>\n",
       "    <tr>\n",
       "      <th>0</th>\n",
       "      <td>00000B48BCF4AD29</td>\n",
       "      <td>1923-09-01</td>\n",
       "      <td>NaT</td>\n",
       "      <td>2</td>\n",
       "      <td>5</td>\n",
       "      <td>10</td>\n",
       "      <td>260</td>\n",
       "      <td>12</td>\n",
       "      <td>12</td>\n",
       "      <td>1</td>\n",
       "      <td>...</td>\n",
       "      <td>FL</td>\n",
       "      <td>Florida</td>\n",
       "      <td>0</td>\n",
       "      <td>260</td>\n",
       "      <td>10260</td>\n",
       "      <td>HERNANDO</td>\n",
       "      <td>FL</td>\n",
       "      <td>10260</td>\n",
       "      <td>12053.0</td>\n",
       "      <td>FL-HERNANDO</td>\n",
       "    </tr>\n",
       "    <tr>\n",
       "      <th>1</th>\n",
       "      <td>0001F04C2063C2F4</td>\n",
       "      <td>1943-08-01</td>\n",
       "      <td>NaT</td>\n",
       "      <td>1</td>\n",
       "      <td>1</td>\n",
       "      <td>10</td>\n",
       "      <td>490</td>\n",
       "      <td>12</td>\n",
       "      <td>12</td>\n",
       "      <td>1</td>\n",
       "      <td>...</td>\n",
       "      <td>FL</td>\n",
       "      <td>Florida</td>\n",
       "      <td>1</td>\n",
       "      <td>490</td>\n",
       "      <td>10490</td>\n",
       "      <td>PALM BEACH</td>\n",
       "      <td>FL</td>\n",
       "      <td>10490</td>\n",
       "      <td>12099.0</td>\n",
       "      <td>FL-PALM BEACH</td>\n",
       "    </tr>\n",
       "    <tr>\n",
       "      <th>2</th>\n",
       "      <td>0002C5C4EB7E1C1C</td>\n",
       "      <td>1929-04-01</td>\n",
       "      <td>NaT</td>\n",
       "      <td>2</td>\n",
       "      <td>1</td>\n",
       "      <td>10</td>\n",
       "      <td>260</td>\n",
       "      <td>12</td>\n",
       "      <td>12</td>\n",
       "      <td>1</td>\n",
       "      <td>...</td>\n",
       "      <td>FL</td>\n",
       "      <td>Florida</td>\n",
       "      <td>0</td>\n",
       "      <td>260</td>\n",
       "      <td>10260</td>\n",
       "      <td>HERNANDO</td>\n",
       "      <td>FL</td>\n",
       "      <td>10260</td>\n",
       "      <td>12053.0</td>\n",
       "      <td>FL-HERNANDO</td>\n",
       "    </tr>\n",
       "    <tr>\n",
       "      <th>3</th>\n",
       "      <td>0003F63CD84E54A3</td>\n",
       "      <td>1932-07-01</td>\n",
       "      <td>NaT</td>\n",
       "      <td>2</td>\n",
       "      <td>1</td>\n",
       "      <td>10</td>\n",
       "      <td>470</td>\n",
       "      <td>12</td>\n",
       "      <td>12</td>\n",
       "      <td>1</td>\n",
       "      <td>...</td>\n",
       "      <td>FL</td>\n",
       "      <td>Florida</td>\n",
       "      <td>0</td>\n",
       "      <td>470</td>\n",
       "      <td>10470</td>\n",
       "      <td>ORANGE</td>\n",
       "      <td>FL</td>\n",
       "      <td>10470</td>\n",
       "      <td>12095.0</td>\n",
       "      <td>FL-ORANGE</td>\n",
       "    </tr>\n",
       "    <tr>\n",
       "      <th>4</th>\n",
       "      <td>00045BB8F4C922A3</td>\n",
       "      <td>1934-06-01</td>\n",
       "      <td>NaT</td>\n",
       "      <td>1</td>\n",
       "      <td>5</td>\n",
       "      <td>10</td>\n",
       "      <td>50</td>\n",
       "      <td>12</td>\n",
       "      <td>12</td>\n",
       "      <td>1</td>\n",
       "      <td>...</td>\n",
       "      <td>FL</td>\n",
       "      <td>Florida</td>\n",
       "      <td>0</td>\n",
       "      <td>050</td>\n",
       "      <td>10050</td>\n",
       "      <td>BROWARD</td>\n",
       "      <td>FL</td>\n",
       "      <td>10050</td>\n",
       "      <td>12011.0</td>\n",
       "      <td>FL-BROWARD</td>\n",
       "    </tr>\n",
       "  </tbody>\n",
       "</table>\n",
       "<p>5 rows × 34 columns</p>\n",
       "</div>"
      ],
      "text/plain": [
       "        DESYNPUF_ID BENE_BIRTH_DT_max BENE_DEATH_DT  BENE_SEX_IDENT_CD_max  \\\n",
       "0  00000B48BCF4AD29        1923-09-01           NaT                      2   \n",
       "1  0001F04C2063C2F4        1943-08-01           NaT                      1   \n",
       "2  0002C5C4EB7E1C1C        1929-04-01           NaT                      2   \n",
       "3  0003F63CD84E54A3        1932-07-01           NaT                      2   \n",
       "4  00045BB8F4C922A3        1934-06-01           NaT                      1   \n",
       "\n",
       "   BENE_RACE_CD_max  SP_STATE_CODE_max  BENE_COUNTY_CD_max_x  \\\n",
       "0                 5                 10                   260   \n",
       "1                 1                 10                   490   \n",
       "2                 1                 10                   260   \n",
       "3                 1                 10                   470   \n",
       "4                 5                 10                    50   \n",
       "\n",
       "   BENE_HI_CVRAGE_TOT_MONS_max  BENE_SMI_CVRAGE_TOT_MONS_max  \\\n",
       "0                           12                            12   \n",
       "1                           12                            12   \n",
       "2                           12                            12   \n",
       "3                           12                            12   \n",
       "4                           12                            12   \n",
       "\n",
       "   BENE_HOSPICE_CANDIDATE_sum  ...  SP_State_iso2a  SP_State_full_name  \\\n",
       "0                           1  ...              FL             Florida   \n",
       "1                           1  ...              FL             Florida   \n",
       "2                           1  ...              FL             Florida   \n",
       "3                           1  ...              FL             Florida   \n",
       "4                           1  ...              FL             Florida   \n",
       "\n",
       "   HOSPICE_FLAG  STR_COUNTY_CD  SSA_COUNTY_CD  County_name  County_State_name  \\\n",
       "0             0            260          10260     HERNANDO                 FL   \n",
       "1             1            490          10490   PALM BEACH                 FL   \n",
       "2             0            260          10260     HERNANDO                 FL   \n",
       "3             0            470          10470       ORANGE                 FL   \n",
       "4             0            050          10050      BROWARD                 FL   \n",
       "\n",
       "   BENE_COUNTY_CD_max_y  FIPS_State_county_code  SSA_STATE_COUNTY  \n",
       "0                 10260                 12053.0       FL-HERNANDO  \n",
       "1                 10490                 12099.0     FL-PALM BEACH  \n",
       "2                 10260                 12053.0       FL-HERNANDO  \n",
       "3                 10470                 12095.0         FL-ORANGE  \n",
       "4                 10050                 12011.0        FL-BROWARD  \n",
       "\n",
       "[5 rows x 34 columns]"
      ]
     },
     "execution_count": 164,
     "metadata": {},
     "output_type": "execute_result"
    }
   ],
   "source": [
    "bene_car_inp_outp_state_county_df.head()"
   ]
  },
  {
   "cell_type": "markdown",
   "metadata": {},
   "source": [
    "## 5.Graph the data and draw insights ##\n",
    "\n",
    "\n",
    "### 5.a Get the normalized heatmap of count of patients by state and race ###"
   ]
  },
  {
   "cell_type": "code",
   "execution_count": 165,
   "metadata": {},
   "outputs": [
    {
     "data": {
      "text/html": [
       "<div>\n",
       "<style scoped>\n",
       "    .dataframe tbody tr th:only-of-type {\n",
       "        vertical-align: middle;\n",
       "    }\n",
       "\n",
       "    .dataframe tbody tr th {\n",
       "        vertical-align: top;\n",
       "    }\n",
       "\n",
       "    .dataframe thead th {\n",
       "        text-align: right;\n",
       "    }\n",
       "</style>\n",
       "<table border=\"1\" class=\"dataframe\">\n",
       "  <thead>\n",
       "    <tr style=\"text-align: right;\">\n",
       "      <th></th>\n",
       "      <th>DESYNPUF_ID</th>\n",
       "      <th>BENE_BIRTH_DT_max</th>\n",
       "      <th>BENE_DEATH_DT</th>\n",
       "      <th>BENE_SEX_IDENT_CD_max</th>\n",
       "      <th>BENE_RACE_CD_max</th>\n",
       "      <th>SP_STATE_CODE_max</th>\n",
       "      <th>BENE_COUNTY_CD_max_x</th>\n",
       "      <th>BENE_HI_CVRAGE_TOT_MONS_max</th>\n",
       "      <th>BENE_SMI_CVRAGE_TOT_MONS_max</th>\n",
       "      <th>BENE_HOSPICE_CANDIDATE_sum</th>\n",
       "      <th>...</th>\n",
       "      <th>SP_State_iso2a</th>\n",
       "      <th>SP_State_full_name</th>\n",
       "      <th>HOSPICE_FLAG</th>\n",
       "      <th>STR_COUNTY_CD</th>\n",
       "      <th>SSA_COUNTY_CD</th>\n",
       "      <th>County_name</th>\n",
       "      <th>County_State_name</th>\n",
       "      <th>BENE_COUNTY_CD_max_y</th>\n",
       "      <th>FIPS_State_county_code</th>\n",
       "      <th>SSA_STATE_COUNTY</th>\n",
       "    </tr>\n",
       "  </thead>\n",
       "  <tbody>\n",
       "    <tr>\n",
       "      <th>1</th>\n",
       "      <td>0001F04C2063C2F4</td>\n",
       "      <td>1943-08-01</td>\n",
       "      <td>NaT</td>\n",
       "      <td>1</td>\n",
       "      <td>1</td>\n",
       "      <td>10</td>\n",
       "      <td>490</td>\n",
       "      <td>12</td>\n",
       "      <td>12</td>\n",
       "      <td>1</td>\n",
       "      <td>...</td>\n",
       "      <td>FL</td>\n",
       "      <td>Florida</td>\n",
       "      <td>1</td>\n",
       "      <td>490</td>\n",
       "      <td>10490</td>\n",
       "      <td>PALM BEACH</td>\n",
       "      <td>FL</td>\n",
       "      <td>10490</td>\n",
       "      <td>12099.0</td>\n",
       "      <td>FL-PALM BEACH</td>\n",
       "    </tr>\n",
       "    <tr>\n",
       "      <th>2</th>\n",
       "      <td>0002C5C4EB7E1C1C</td>\n",
       "      <td>1929-04-01</td>\n",
       "      <td>NaT</td>\n",
       "      <td>2</td>\n",
       "      <td>1</td>\n",
       "      <td>10</td>\n",
       "      <td>260</td>\n",
       "      <td>12</td>\n",
       "      <td>12</td>\n",
       "      <td>1</td>\n",
       "      <td>...</td>\n",
       "      <td>FL</td>\n",
       "      <td>Florida</td>\n",
       "      <td>0</td>\n",
       "      <td>260</td>\n",
       "      <td>10260</td>\n",
       "      <td>HERNANDO</td>\n",
       "      <td>FL</td>\n",
       "      <td>10260</td>\n",
       "      <td>12053.0</td>\n",
       "      <td>FL-HERNANDO</td>\n",
       "    </tr>\n",
       "    <tr>\n",
       "      <th>3</th>\n",
       "      <td>0003F63CD84E54A3</td>\n",
       "      <td>1932-07-01</td>\n",
       "      <td>NaT</td>\n",
       "      <td>2</td>\n",
       "      <td>1</td>\n",
       "      <td>10</td>\n",
       "      <td>470</td>\n",
       "      <td>12</td>\n",
       "      <td>12</td>\n",
       "      <td>1</td>\n",
       "      <td>...</td>\n",
       "      <td>FL</td>\n",
       "      <td>Florida</td>\n",
       "      <td>0</td>\n",
       "      <td>470</td>\n",
       "      <td>10470</td>\n",
       "      <td>ORANGE</td>\n",
       "      <td>FL</td>\n",
       "      <td>10470</td>\n",
       "      <td>12095.0</td>\n",
       "      <td>FL-ORANGE</td>\n",
       "    </tr>\n",
       "    <tr>\n",
       "      <th>5</th>\n",
       "      <td>0004C333D753EB15</td>\n",
       "      <td>1936-04-01</td>\n",
       "      <td>NaT</td>\n",
       "      <td>2</td>\n",
       "      <td>1</td>\n",
       "      <td>10</td>\n",
       "      <td>40</td>\n",
       "      <td>12</td>\n",
       "      <td>12</td>\n",
       "      <td>1</td>\n",
       "      <td>...</td>\n",
       "      <td>FL</td>\n",
       "      <td>Florida</td>\n",
       "      <td>0</td>\n",
       "      <td>040</td>\n",
       "      <td>10040</td>\n",
       "      <td>BREVARD</td>\n",
       "      <td>FL</td>\n",
       "      <td>10040</td>\n",
       "      <td>12009.0</td>\n",
       "      <td>FL-BREVARD</td>\n",
       "    </tr>\n",
       "    <tr>\n",
       "      <th>6</th>\n",
       "      <td>0004FB2ED3823AA8</td>\n",
       "      <td>1941-06-01</td>\n",
       "      <td>NaT</td>\n",
       "      <td>2</td>\n",
       "      <td>1</td>\n",
       "      <td>10</td>\n",
       "      <td>340</td>\n",
       "      <td>12</td>\n",
       "      <td>12</td>\n",
       "      <td>1</td>\n",
       "      <td>...</td>\n",
       "      <td>FL</td>\n",
       "      <td>Florida</td>\n",
       "      <td>0</td>\n",
       "      <td>340</td>\n",
       "      <td>10340</td>\n",
       "      <td>LAKE</td>\n",
       "      <td>FL</td>\n",
       "      <td>10340</td>\n",
       "      <td>12069.0</td>\n",
       "      <td>FL-LAKE</td>\n",
       "    </tr>\n",
       "  </tbody>\n",
       "</table>\n",
       "<p>5 rows × 34 columns</p>\n",
       "</div>"
      ],
      "text/plain": [
       "        DESYNPUF_ID BENE_BIRTH_DT_max BENE_DEATH_DT  BENE_SEX_IDENT_CD_max  \\\n",
       "1  0001F04C2063C2F4        1943-08-01           NaT                      1   \n",
       "2  0002C5C4EB7E1C1C        1929-04-01           NaT                      2   \n",
       "3  0003F63CD84E54A3        1932-07-01           NaT                      2   \n",
       "5  0004C333D753EB15        1936-04-01           NaT                      2   \n",
       "6  0004FB2ED3823AA8        1941-06-01           NaT                      2   \n",
       "\n",
       "   BENE_RACE_CD_max  SP_STATE_CODE_max  BENE_COUNTY_CD_max_x  \\\n",
       "1                 1                 10                   490   \n",
       "2                 1                 10                   260   \n",
       "3                 1                 10                   470   \n",
       "5                 1                 10                    40   \n",
       "6                 1                 10                   340   \n",
       "\n",
       "   BENE_HI_CVRAGE_TOT_MONS_max  BENE_SMI_CVRAGE_TOT_MONS_max  \\\n",
       "1                           12                            12   \n",
       "2                           12                            12   \n",
       "3                           12                            12   \n",
       "5                           12                            12   \n",
       "6                           12                            12   \n",
       "\n",
       "   BENE_HOSPICE_CANDIDATE_sum  ...  SP_State_iso2a  SP_State_full_name  \\\n",
       "1                           1  ...              FL             Florida   \n",
       "2                           1  ...              FL             Florida   \n",
       "3                           1  ...              FL             Florida   \n",
       "5                           1  ...              FL             Florida   \n",
       "6                           1  ...              FL             Florida   \n",
       "\n",
       "   HOSPICE_FLAG  STR_COUNTY_CD  SSA_COUNTY_CD  County_name  County_State_name  \\\n",
       "1             1            490          10490   PALM BEACH                 FL   \n",
       "2             0            260          10260     HERNANDO                 FL   \n",
       "3             0            470          10470       ORANGE                 FL   \n",
       "5             0            040          10040      BREVARD                 FL   \n",
       "6             0            340          10340         LAKE                 FL   \n",
       "\n",
       "   BENE_COUNTY_CD_max_y  FIPS_State_county_code  SSA_STATE_COUNTY  \n",
       "1                 10490                 12099.0     FL-PALM BEACH  \n",
       "2                 10260                 12053.0       FL-HERNANDO  \n",
       "3                 10470                 12095.0         FL-ORANGE  \n",
       "5                 10040                 12009.0        FL-BREVARD  \n",
       "6                 10340                 12069.0           FL-LAKE  \n",
       "\n",
       "[5 rows x 34 columns]"
      ]
     },
     "execution_count": 165,
     "metadata": {},
     "output_type": "execute_result"
    }
   ],
   "source": [
    "#now aggregate and normalize \n",
    "by_country = bene_car_inp_outp_state_county_df.groupby('BENE_RACE_CD_max')\n",
    "sample_group = by_country.get_group(1)\n",
    "sample_group.head()\n"
   ]
  },
  {
   "cell_type": "code",
   "execution_count": 191,
   "metadata": {},
   "outputs": [
    {
     "data": {
      "text/plain": [
       "['California',\n",
       " 'Florida',\n",
       " 'Texas',\n",
       " 'New York',\n",
       " 'Pennsylvania',\n",
       " 'Illinois',\n",
       " 'Ohio',\n",
       " 'Michigan',\n",
       " 'North Carolina',\n",
       " 'New Jersey']"
      ]
     },
     "execution_count": 191,
     "metadata": {},
     "output_type": "execute_result"
    }
   ],
   "source": [
    "top_states = bene_car_inp_outp_state_county_df.SP_State_full_name.value_counts().index.values[0:10]\n",
    "list(top_states)"
   ]
  },
  {
   "cell_type": "code",
   "execution_count": 167,
   "metadata": {},
   "outputs": [
    {
     "data": {
      "text/html": [
       "<div>\n",
       "<style scoped>\n",
       "    .dataframe tbody tr th:only-of-type {\n",
       "        vertical-align: middle;\n",
       "    }\n",
       "\n",
       "    .dataframe tbody tr th {\n",
       "        vertical-align: top;\n",
       "    }\n",
       "\n",
       "    .dataframe thead th {\n",
       "        text-align: right;\n",
       "    }\n",
       "</style>\n",
       "<table border=\"1\" class=\"dataframe\">\n",
       "  <thead>\n",
       "    <tr style=\"text-align: right;\">\n",
       "      <th>BENE_RACE_CD_max</th>\n",
       "      <th>1</th>\n",
       "      <th>2</th>\n",
       "      <th>3</th>\n",
       "      <th>5</th>\n",
       "    </tr>\n",
       "    <tr>\n",
       "      <th>SP_State_full_name</th>\n",
       "      <th></th>\n",
       "      <th></th>\n",
       "      <th></th>\n",
       "      <th></th>\n",
       "    </tr>\n",
       "  </thead>\n",
       "  <tbody>\n",
       "    <tr>\n",
       "      <th>California</th>\n",
       "      <td>101733</td>\n",
       "      <td>8574</td>\n",
       "      <td>18218</td>\n",
       "      <td>8657</td>\n",
       "    </tr>\n",
       "    <tr>\n",
       "      <th>Florida</th>\n",
       "      <td>97753</td>\n",
       "      <td>9596</td>\n",
       "      <td>2045</td>\n",
       "      <td>5301</td>\n",
       "    </tr>\n",
       "    <tr>\n",
       "      <th>Texas</th>\n",
       "      <td>86043</td>\n",
       "      <td>10878</td>\n",
       "      <td>2627</td>\n",
       "      <td>6085</td>\n",
       "    </tr>\n",
       "    <tr>\n",
       "      <th>New York</th>\n",
       "      <td>78736</td>\n",
       "      <td>11357</td>\n",
       "      <td>4964</td>\n",
       "      <td>3413</td>\n",
       "    </tr>\n",
       "    <tr>\n",
       "      <th>Pennsylvania</th>\n",
       "      <td>65322</td>\n",
       "      <td>5120</td>\n",
       "      <td>1049</td>\n",
       "      <td>375</td>\n",
       "    </tr>\n",
       "    <tr>\n",
       "      <th>Illinois</th>\n",
       "      <td>58030</td>\n",
       "      <td>8174</td>\n",
       "      <td>2005</td>\n",
       "      <td>980</td>\n",
       "    </tr>\n",
       "    <tr>\n",
       "      <th>Ohio</th>\n",
       "      <td>57843</td>\n",
       "      <td>6096</td>\n",
       "      <td>802</td>\n",
       "      <td>109</td>\n",
       "    </tr>\n",
       "    <tr>\n",
       "      <th>Michigan</th>\n",
       "      <td>51137</td>\n",
       "      <td>7130</td>\n",
       "      <td>1051</td>\n",
       "      <td>205</td>\n",
       "    </tr>\n",
       "    <tr>\n",
       "      <th>North Carolina</th>\n",
       "      <td>43979</td>\n",
       "      <td>10138</td>\n",
       "      <td>969</td>\n",
       "      <td>120</td>\n",
       "    </tr>\n",
       "    <tr>\n",
       "      <th>New Jersey</th>\n",
       "      <td>41295</td>\n",
       "      <td>5365</td>\n",
       "      <td>1818</td>\n",
       "      <td>1280</td>\n",
       "    </tr>\n",
       "  </tbody>\n",
       "</table>\n",
       "</div>"
      ],
      "text/plain": [
       "BENE_RACE_CD_max         1      2      3     5\n",
       "SP_State_full_name                            \n",
       "California          101733   8574  18218  8657\n",
       "Florida              97753   9596   2045  5301\n",
       "Texas                86043  10878   2627  6085\n",
       "New York             78736  11357   4964  3413\n",
       "Pennsylvania         65322   5120   1049   375\n",
       "Illinois             58030   8174   2005   980\n",
       "Ohio                 57843   6096    802   109\n",
       "Michigan             51137   7130   1051   205\n",
       "North Carolina       43979  10138    969   120\n",
       "New Jersey           41295   5365   1818  1280"
      ]
     },
     "execution_count": 167,
     "metadata": {},
     "output_type": "execute_result"
    }
   ],
   "source": [
    "#By state by race hospice eligible patients\n",
    "# def norm_race_by_state(group):\n",
    "#     #return pd.DataFrame(group.BENE_RACE_CD_max.value_counts(normalize = True)).fillna(0)\n",
    "#     return group.BENE_RACE_CD_max.value_counts(normalize = True).fillna(0)\n",
    "\n",
    "# def race_by_state(group):\n",
    "#     #return pd.DataFrame(group.BENE_RACE_CD_max.value_counts(normalize = True)).fillna(0)\n",
    "#     return group.BENE_RACE_CD_max.value_counts().fillna(0)\n",
    "\n",
    "def norm_race_by_state(group):\n",
    "    #return pd.DataFrame(group.BENE_RACE_CD_max.value_counts(normalize = True)).fillna(0)\n",
    "    return group.SP_State_full_name.value_counts(normalize = True)[top_states].fillna(0)\n",
    "\n",
    "def race_by_state(group):\n",
    "    #return pd.DataFrame(group.BENE_RACE_CD_max.value_counts(normalize = True)).fillna(0)\n",
    "    return group.SP_State_full_name.value_counts()[top_states].fillna(0)\n",
    "\n",
    "#norm_detail(sample_group)\n",
    "new_df_norm = by_country.apply(norm_race_by_state).fillna(0).T\n",
    "new_df = by_country.apply(race_by_state).fillna(0).T\n",
    "new_df\n"
   ]
  },
  {
   "cell_type": "code",
   "execution_count": 168,
   "metadata": {},
   "outputs": [
    {
     "data": {
      "text/plain": [
       "<matplotlib.axes._subplots.AxesSubplot at 0x14a2abeb8>"
      ]
     },
     "execution_count": 168,
     "metadata": {},
     "output_type": "execute_result"
    },
    {
     "data": {
      "image/png": "[encoded data removed]",
      "text/plain": [
       "<Figure size 576x1008 with 2 Axes>"
      ]
     },
     "metadata": {
      "needs_background": "light"
     },
     "output_type": "display_data"
    }
   ],
   "source": [
    "import seaborn as sns\n",
    "plt.figure(figsize=(8, 14))\n",
    "#sns.heatmap(new_df_norm, annot=True, cmap = 'Blues', alpha = .8)\n",
    "sns.heatmap(new_df_norm, annot=True, cmap = 'Blues', alpha = .8)"
   ]
  },
  {
   "cell_type": "code",
   "execution_count": 169,
   "metadata": {},
   "outputs": [
    {
     "data": {
      "text/plain": [
       "<matplotlib.axes._subplots.AxesSubplot at 0x14a2abef0>"
      ]
     },
     "execution_count": 169,
     "metadata": {},
     "output_type": "execute_result"
    },
    {
     "data": {
      "image/png": "[encoded data removed]",
      "text/plain": [
       "<Figure size 576x1008 with 2 Axes>"
      ]
     },
     "metadata": {
      "needs_background": "light"
     },
     "output_type": "display_data"
    }
   ],
   "source": [
    "plt.figure(figsize=(8, 14))\n",
    "#sns.heatmap(new_df_norm, annot=True, cmap = 'Blues', alpha = .8)\n",
    "sns.heatmap(new_df, annot=True, cmap = 'Blues', alpha = .8)"
   ]
  },
  {
   "cell_type": "code",
   "execution_count": 170,
   "metadata": {},
   "outputs": [
    {
     "data": {
      "text/html": [
       "<div>\n",
       "<style scoped>\n",
       "    .dataframe tbody tr th:only-of-type {\n",
       "        vertical-align: middle;\n",
       "    }\n",
       "\n",
       "    .dataframe tbody tr th {\n",
       "        vertical-align: top;\n",
       "    }\n",
       "\n",
       "    .dataframe thead th {\n",
       "        text-align: right;\n",
       "    }\n",
       "</style>\n",
       "<table border=\"1\" class=\"dataframe\">\n",
       "  <thead>\n",
       "    <tr style=\"text-align: right;\">\n",
       "      <th>BENE_RACE_CD_max</th>\n",
       "      <th>1</th>\n",
       "      <th>2</th>\n",
       "      <th>3</th>\n",
       "      <th>5</th>\n",
       "    </tr>\n",
       "    <tr>\n",
       "      <th>SP_State_full_name</th>\n",
       "      <th></th>\n",
       "      <th></th>\n",
       "      <th></th>\n",
       "      <th></th>\n",
       "    </tr>\n",
       "  </thead>\n",
       "  <tbody>\n",
       "    <tr>\n",
       "      <th>California</th>\n",
       "      <td>101733</td>\n",
       "      <td>8574</td>\n",
       "      <td>18218</td>\n",
       "      <td>8657</td>\n",
       "    </tr>\n",
       "    <tr>\n",
       "      <th>Florida</th>\n",
       "      <td>97753</td>\n",
       "      <td>9596</td>\n",
       "      <td>2045</td>\n",
       "      <td>5301</td>\n",
       "    </tr>\n",
       "    <tr>\n",
       "      <th>Texas</th>\n",
       "      <td>86043</td>\n",
       "      <td>10878</td>\n",
       "      <td>2627</td>\n",
       "      <td>6085</td>\n",
       "    </tr>\n",
       "    <tr>\n",
       "      <th>New York</th>\n",
       "      <td>78736</td>\n",
       "      <td>11357</td>\n",
       "      <td>4964</td>\n",
       "      <td>3413</td>\n",
       "    </tr>\n",
       "    <tr>\n",
       "      <th>Pennsylvania</th>\n",
       "      <td>65322</td>\n",
       "      <td>5120</td>\n",
       "      <td>1049</td>\n",
       "      <td>375</td>\n",
       "    </tr>\n",
       "    <tr>\n",
       "      <th>Illinois</th>\n",
       "      <td>58030</td>\n",
       "      <td>8174</td>\n",
       "      <td>2005</td>\n",
       "      <td>980</td>\n",
       "    </tr>\n",
       "    <tr>\n",
       "      <th>Ohio</th>\n",
       "      <td>57843</td>\n",
       "      <td>6096</td>\n",
       "      <td>802</td>\n",
       "      <td>109</td>\n",
       "    </tr>\n",
       "    <tr>\n",
       "      <th>Michigan</th>\n",
       "      <td>51137</td>\n",
       "      <td>7130</td>\n",
       "      <td>1051</td>\n",
       "      <td>205</td>\n",
       "    </tr>\n",
       "    <tr>\n",
       "      <th>North Carolina</th>\n",
       "      <td>43979</td>\n",
       "      <td>10138</td>\n",
       "      <td>969</td>\n",
       "      <td>120</td>\n",
       "    </tr>\n",
       "    <tr>\n",
       "      <th>New Jersey</th>\n",
       "      <td>41295</td>\n",
       "      <td>5365</td>\n",
       "      <td>1818</td>\n",
       "      <td>1280</td>\n",
       "    </tr>\n",
       "  </tbody>\n",
       "</table>\n",
       "</div>"
      ],
      "text/plain": [
       "BENE_RACE_CD_max         1      2      3     5\n",
       "SP_State_full_name                            \n",
       "California          101733   8574  18218  8657\n",
       "Florida              97753   9596   2045  5301\n",
       "Texas                86043  10878   2627  6085\n",
       "New York             78736  11357   4964  3413\n",
       "Pennsylvania         65322   5120   1049   375\n",
       "Illinois             58030   8174   2005   980\n",
       "Ohio                 57843   6096    802   109\n",
       "Michigan             51137   7130   1051   205\n",
       "North Carolina       43979  10138    969   120\n",
       "New Jersey           41295   5365   1818  1280"
      ]
     },
     "execution_count": 170,
     "metadata": {},
     "output_type": "execute_result"
    }
   ],
   "source": [
    "by_country_hospice = bene_car_inp_outp_state_county_df[bene_car_inp_outp_state_county_df.HOSPICE_FLAG ==1].groupby('BENE_RACE_CD_max')\n",
    "sample_group = by_country_hospice.get_group(1)\n",
    "sample_group.head()\n",
    "new_df_norm = by_country_hospice.apply(norm_race_by_state).fillna(0).T\n",
    "new_df = by_country.apply(race_by_state).fillna(0).T\n",
    "new_df\n"
   ]
  },
  {
   "cell_type": "code",
   "execution_count": 171,
   "metadata": {},
   "outputs": [
    {
     "data": {
      "text/plain": [
       "<matplotlib.axes._subplots.AxesSubplot at 0x149319a20>"
      ]
     },
     "execution_count": 171,
     "metadata": {},
     "output_type": "execute_result"
    },
    {
     "data": {
      "image/png": "[encoded data removed]",
      "text/plain": [
       "<Figure size 576x1008 with 2 Axes>"
      ]
     },
     "metadata": {
      "needs_background": "light"
     },
     "output_type": "display_data"
    }
   ],
   "source": [
    "import seaborn as sns\n",
    "plt.figure(figsize=(8, 14))\n",
    "sns.heatmap(new_df, annot=True, cmap = 'Blues', alpha = .8)\n"
   ]
  },
  {
   "cell_type": "code",
   "execution_count": 172,
   "metadata": {},
   "outputs": [
    {
     "data": {
      "text/plain": [
       "<matplotlib.axes._subplots.AxesSubplot at 0x13d66ecf8>"
      ]
     },
     "execution_count": 172,
     "metadata": {},
     "output_type": "execute_result"
    },
    {
     "data": {
      "image/png": "[encoded data removed]",
      "text/plain": [
       "<Figure size 576x1008 with 2 Axes>"
      ]
     },
     "metadata": {
      "needs_background": "light"
     },
     "output_type": "display_data"
    }
   ],
   "source": [
    "import seaborn as sns\n",
    "plt.figure(figsize=(8, 14))\n",
    "sns.heatmap(new_df_norm, annot=True, cmap = 'Blues', alpha = .8)"
   ]
  },
  {
   "cell_type": "code",
   "execution_count": 175,
   "metadata": {},
   "outputs": [],
   "source": [
    "# Do the same for california counties  -  eligible, availed\n",
    "bciosc_df = bene_car_inp_outp_state_county_df.copy()\n",
    "top_counties = bciosc_df[bciosc_df.SP_State_full_name == 'California'].County_name.value_counts().index.values[0:10]\n",
    "\n",
    "def norm_race_by_county(group):\n",
    "    #return pd.DataFrame(group.BENE_RACE_CD_max.value_counts(normalize = True)).fillna(0)\n",
    "    return group.County_name.value_counts(normalize = True)[top_counties].fillna(0)\n",
    "\n",
    "def race_by_county(group):\n",
    "    #return pd.DataFrame(group.BENE_RACE_CD_max.value_counts(normalize = True)).fillna(0)\n",
    "    return group.County_name.value_counts()[top_counties].fillna(0)\n"
   ]
  },
  {
   "cell_type": "code",
   "execution_count": 176,
   "metadata": {},
   "outputs": [
    {
     "data": {
      "text/html": [
       "<div>\n",
       "<style scoped>\n",
       "    .dataframe tbody tr th:only-of-type {\n",
       "        vertical-align: middle;\n",
       "    }\n",
       "\n",
       "    .dataframe tbody tr th {\n",
       "        vertical-align: top;\n",
       "    }\n",
       "\n",
       "    .dataframe thead th {\n",
       "        text-align: right;\n",
       "    }\n",
       "</style>\n",
       "<table border=\"1\" class=\"dataframe\">\n",
       "  <thead>\n",
       "    <tr style=\"text-align: right;\">\n",
       "      <th>BENE_RACE_CD_max</th>\n",
       "      <th>1</th>\n",
       "      <th>2</th>\n",
       "      <th>3</th>\n",
       "      <th>5</th>\n",
       "    </tr>\n",
       "    <tr>\n",
       "      <th>County_name</th>\n",
       "      <th></th>\n",
       "      <th></th>\n",
       "      <th></th>\n",
       "      <th></th>\n",
       "    </tr>\n",
       "  </thead>\n",
       "  <tbody>\n",
       "    <tr>\n",
       "      <th>LOS ANGELES</th>\n",
       "      <td>24887</td>\n",
       "      <td>2061</td>\n",
       "      <td>4474</td>\n",
       "      <td>2119</td>\n",
       "    </tr>\n",
       "    <tr>\n",
       "      <th>SAN DIEGO</th>\n",
       "      <td>8604</td>\n",
       "      <td>752</td>\n",
       "      <td>1530</td>\n",
       "      <td>738</td>\n",
       "    </tr>\n",
       "    <tr>\n",
       "      <th>ORANGE</th>\n",
       "      <td>14600</td>\n",
       "      <td>1417</td>\n",
       "      <td>1675</td>\n",
       "      <td>948</td>\n",
       "    </tr>\n",
       "    <tr>\n",
       "      <th>RIVERSIDE</th>\n",
       "      <td>5799</td>\n",
       "      <td>464</td>\n",
       "      <td>1019</td>\n",
       "      <td>517</td>\n",
       "    </tr>\n",
       "    <tr>\n",
       "      <th>SAN BERNARDINO</th>\n",
       "      <td>4578</td>\n",
       "      <td>404</td>\n",
       "      <td>798</td>\n",
       "      <td>352</td>\n",
       "    </tr>\n",
       "    <tr>\n",
       "      <th>SANTA CLARA</th>\n",
       "      <td>4471</td>\n",
       "      <td>395</td>\n",
       "      <td>793</td>\n",
       "      <td>405</td>\n",
       "    </tr>\n",
       "    <tr>\n",
       "      <th>SACRAMENTO</th>\n",
       "      <td>4033</td>\n",
       "      <td>337</td>\n",
       "      <td>669</td>\n",
       "      <td>368</td>\n",
       "    </tr>\n",
       "    <tr>\n",
       "      <th>ALAMEDA</th>\n",
       "      <td>3905</td>\n",
       "      <td>344</td>\n",
       "      <td>723</td>\n",
       "      <td>305</td>\n",
       "    </tr>\n",
       "    <tr>\n",
       "      <th>CONTRA COSTA</th>\n",
       "      <td>3177</td>\n",
       "      <td>257</td>\n",
       "      <td>539</td>\n",
       "      <td>271</td>\n",
       "    </tr>\n",
       "    <tr>\n",
       "      <th>SAN FRANCISCO</th>\n",
       "      <td>2790</td>\n",
       "      <td>243</td>\n",
       "      <td>490</td>\n",
       "      <td>237</td>\n",
       "    </tr>\n",
       "  </tbody>\n",
       "</table>\n",
       "</div>"
      ],
      "text/plain": [
       "BENE_RACE_CD_max      1     2     3     5\n",
       "County_name                              \n",
       "LOS ANGELES       24887  2061  4474  2119\n",
       "SAN DIEGO          8604   752  1530   738\n",
       "ORANGE            14600  1417  1675   948\n",
       "RIVERSIDE          5799   464  1019   517\n",
       "SAN BERNARDINO     4578   404   798   352\n",
       "SANTA CLARA        4471   395   793   405\n",
       "SACRAMENTO         4033   337   669   368\n",
       "ALAMEDA            3905   344   723   305\n",
       "CONTRA COSTA       3177   257   539   271\n",
       "SAN FRANCISCO      2790   243   490   237"
      ]
     },
     "execution_count": 176,
     "metadata": {},
     "output_type": "execute_result"
    }
   ],
   "source": [
    "by_county_hospice = bciosc_df[(bciosc_df.HOSPICE_FLAG ==1) & (bciosc_df.SP_State_full_name == 'California')].groupby('BENE_RACE_CD_max')\n",
    "sample_group = by_country_hospice.get_group(1)\n",
    "sample_group.head()\n",
    "new_df_norm = by_country_hospice.apply(norm_race_by_county).fillna(0).T\n",
    "new_df = by_country.apply(race_by_county).fillna(0).T\n",
    "new_df"
   ]
  },
  {
   "cell_type": "code",
   "execution_count": 177,
   "metadata": {},
   "outputs": [
    {
     "data": {
      "text/plain": [
       "<matplotlib.axes._subplots.AxesSubplot at 0x13ed48908>"
      ]
     },
     "execution_count": 177,
     "metadata": {},
     "output_type": "execute_result"
    },
    {
     "data": {
      "image/png": "[encoded data removed]",
      "text/plain": [
       "<Figure size 576x1008 with 2 Axes>"
      ]
     },
     "metadata": {
      "needs_background": "light"
     },
     "output_type": "display_data"
    }
   ],
   "source": [
    "import seaborn as sns\n",
    "plt.figure(figsize=(8, 14))\n",
    "sns.heatmap(new_df_norm, annot=True, cmap = 'Blues', alpha = .8)"
   ]
  },
  {
   "cell_type": "markdown",
   "metadata": {},
   "source": [
    "### 4.d Aggregate group by country, race and gender ###"
   ]
  },
  {
   "cell_type": "code",
   "execution_count": 267,
   "metadata": {},
   "outputs": [
    {
     "data": {
      "text/plain": [
       "array(['California', 'Florida', 'Texas', 'New York', 'Pennsylvania',\n",
       "       'Illinois', 'Ohio', 'Michigan', 'North Carolina', 'New Jersey'],\n",
       "      dtype=object)"
      ]
     },
     "execution_count": 267,
     "metadata": {},
     "output_type": "execute_result"
    }
   ],
   "source": [
    "# Total beneficiary and hospice beneficiary numbers by state\n",
    "top_states_2 = bciosc_df.groupby('SP_State_full_name').HOSPICE_FLAG.sum().sort_values(ascending = False).index.values[0:10]\n",
    "top_states_2\n",
    "# bene_country_group_by = (bciosc_df.groupby('SP_State_full_name').agg(\n",
    "#     {\n",
    "#      'DESYNPUF_ID':'count',\n",
    "#      'HOSPICE_FLAG':'sum'\n",
    "#     }\n",
    "#     )\n",
    "#              .reset_index()\n",
    "#              .rename(columns={'DESYNPUF_ID':'DESYNPUF_ID_count',\n",
    "#                               'HOSPICE_FLAG':'HOSPICE_FLAG_sum'\n",
    "#                              }))\n",
    "\n",
    "# bene_country_group_by['percent_hospice'] = bene_country_group_by['HOSPICE_FLAG_sum']*100/bene_country_group_by['DESYNPUF_ID_count']\n",
    "# bene_country_group_by = bene_country_group_by.loc[bene_country_group_by['SP_State_full_name'].isin(list(top_states))].sort_values(by = 'DESYNPUF_ID_count', ascending=False)\n",
    "# bene_country_group_by.head(100)\n",
    "\n",
    "#list(top_states)\n",
    "#df_write_csv(bene_country_group_by,\"/Users/nalinivineetha/Documents/MIDS/W200Python/PythonRoughWork/Project_2/files/beneficiary/bene_cohort_country_groupby.csv\")"
   ]
  },
  {
   "cell_type": "code",
   "execution_count": 237,
   "metadata": {},
   "outputs": [
    {
     "data": {
      "text/plain": [
       "<matplotlib.axes._subplots.AxesSubplot at 0x14dcad8d0>"
      ]
     },
     "execution_count": 237,
     "metadata": {},
     "output_type": "execute_result"
    },
    {
     "data": {
      "image/png": "[encoded data removed]",
      "text/plain": [
       "<Figure size 1152x1440 with 1 Axes>"
      ]
     },
     "metadata": {
      "needs_background": "light"
     },
     "output_type": "display_data"
    }
   ],
   "source": [
    "import seaborn as sns\n",
    "plt.figure(figsize=(16, 20))\n",
    "sns.barplot(x = 'SP_State_full_name', y = 'percent_hospice', data = bene_country_group_by)\n"
   ]
  },
  {
   "cell_type": "code",
   "execution_count": 234,
   "metadata": {},
   "outputs": [
    {
     "data": {
      "text/plain": [
       "<Figure size 2160x2880 with 0 Axes>"
      ]
     },
     "metadata": {},
     "output_type": "display_data"
    },
    {
     "data": {
      "image/png": "[encoded data removed]",
      "text/plain": [
       "<Figure size 432x288 with 1 Axes>"
      ]
     },
     "metadata": {
      "needs_background": "light"
     },
     "output_type": "display_data"
    }
   ],
   "source": [
    "import matplotlib.pyplot as plt \n",
    "plt.figure(figsize=(30, 40))\n",
    "\n",
    "#bene_country_group_by.plot(x=\"SP_State_full_name\", y=['HOSPICE_FLAG_sum','DESYNPUF_ID_count'], logy = True,kind=\"bar\")\n",
    "\n",
    "ax = bene_country_group_by.plot(x=\"SP_State_full_name\", y=\"DESYNPUF_ID_count\", kind=\"bar\",logy = True,label = \"Eligible Patients\")\n",
    "bene_country_group_by.plot(x=\"SP_State_full_name\", y=\"HOSPICE_FLAG_sum\", kind=\"bar\", ax=ax, color=\"C2\",logy = True,label = \"% Hospice Patients\")\n",
    "\n",
    "ax.set_title(\"% of Palliative Care Patients\")\n",
    "ax.set_ylabel(\"Count Of Patients\")\n",
    "ax.set_xlabel(\"Top US States By Medicare Data\")\n",
    "\n",
    "pass\n"
   ]
  },
  {
   "cell_type": "code",
   "execution_count": 240,
   "metadata": {},
   "outputs": [],
   "source": [
    "# Total beneficiary and hospice beneficiary numbers by race\n",
    "\n",
    "bene_state_race_group_by = (bciosc_df.groupby(['SP_State_full_name','BENE_RACE_CD_max']).agg(\n",
    "    {\n",
    "     'DESYNPUF_ID':'count',\n",
    "     'HOSPICE_FLAG':'sum'\n",
    "    }\n",
    "    )\n",
    "             .reset_index()\n",
    "             .rename(columns={'DESYNPUF_ID':'DESYNPUF_ID_count',\n",
    "                              'HOSPICE_FLAG':'HOSPICE_FLAG_sum'\n",
    "                             }))\n",
    "bene_state_race_group_by['NORM_TOT'] = (bene_state_race_group_by['DESYNPUF_ID_count']-bene_state_race_group_by['DESYNPUF_ID_count'].min())/(bene_state_race_group_by['DESYNPUF_ID_count'].max()-bene_state_race_group_by['DESYNPUF_ID_count'].min())\n",
    "bene_state_race_group_by['NORM_HOSPICE_TOT'] = (bene_state_race_group_by['HOSPICE_FLAG_sum']-bene_state_race_group_by['HOSPICE_FLAG_sum'].min())/(bene_state_race_group_by['HOSPICE_FLAG_sum'].max()-bene_state_race_group_by['HOSPICE_FLAG_sum'].min())\n",
    "\n",
    "bene_state_race_group_by['percent_hospice'] = bene_state_race_group_by['HOSPICE_FLAG_sum']*100/bene_state_race_group_by['DESYNPUF_ID_count']\n",
    "bene_state_race_group_by['norm_percent_hospice'] = bene_state_race_group_by['NORM_HOSPICE_TOT']*100/bene_state_race_group_by['NORM_TOT']\n",
    "bene_state_race_group_by = bene_state_race_group_by.loc[bene_state_race_group_by['SP_State_full_name'].isin(list(top_states))]\n",
    "#d"
   ]
  },
  {
   "cell_type": "code",
   "execution_count": 264,
   "metadata": {},
   "outputs": [
    {
     "data": {
      "text/html": [
       "<div>\n",
       "<style scoped>\n",
       "    .dataframe tbody tr th:only-of-type {\n",
       "        vertical-align: middle;\n",
       "    }\n",
       "\n",
       "    .dataframe tbody tr th {\n",
       "        vertical-align: top;\n",
       "    }\n",
       "\n",
       "    .dataframe thead th {\n",
       "        text-align: right;\n",
       "    }\n",
       "</style>\n",
       "<table border=\"1\" class=\"dataframe\">\n",
       "  <thead>\n",
       "    <tr style=\"text-align: right;\">\n",
       "      <th>BENE_RACE_CD_max</th>\n",
       "      <th>1</th>\n",
       "      <th>2</th>\n",
       "      <th>3</th>\n",
       "      <th>5</th>\n",
       "    </tr>\n",
       "    <tr>\n",
       "      <th>SP_State_full_name</th>\n",
       "      <th></th>\n",
       "      <th></th>\n",
       "      <th></th>\n",
       "      <th></th>\n",
       "    </tr>\n",
       "  </thead>\n",
       "  <tbody>\n",
       "    <tr>\n",
       "      <th>California</th>\n",
       "      <td>98.105360</td>\n",
       "      <td>85.553640</td>\n",
       "      <td>100.519542</td>\n",
       "      <td>99.941717</td>\n",
       "    </tr>\n",
       "    <tr>\n",
       "      <th>Florida</th>\n",
       "      <td>104.071570</td>\n",
       "      <td>103.635063</td>\n",
       "      <td>106.999228</td>\n",
       "      <td>95.813321</td>\n",
       "    </tr>\n",
       "    <tr>\n",
       "      <th>Illinois</th>\n",
       "      <td>104.467163</td>\n",
       "      <td>105.561066</td>\n",
       "      <td>85.665898</td>\n",
       "      <td>108.153286</td>\n",
       "    </tr>\n",
       "    <tr>\n",
       "      <th>Michigan</th>\n",
       "      <td>104.989025</td>\n",
       "      <td>114.426824</td>\n",
       "      <td>105.314563</td>\n",
       "      <td>162.105615</td>\n",
       "    </tr>\n",
       "    <tr>\n",
       "      <th>New Jersey</th>\n",
       "      <td>103.884916</td>\n",
       "      <td>113.077961</td>\n",
       "      <td>84.132457</td>\n",
       "      <td>119.549720</td>\n",
       "    </tr>\n",
       "    <tr>\n",
       "      <th>New York</th>\n",
       "      <td>105.444624</td>\n",
       "      <td>99.568966</td>\n",
       "      <td>95.214997</td>\n",
       "      <td>99.919981</td>\n",
       "    </tr>\n",
       "    <tr>\n",
       "      <th>North Carolina</th>\n",
       "      <td>102.141245</td>\n",
       "      <td>109.224576</td>\n",
       "      <td>99.660588</td>\n",
       "      <td>79.679031</td>\n",
       "    </tr>\n",
       "    <tr>\n",
       "      <th>Ohio</th>\n",
       "      <td>104.317252</td>\n",
       "      <td>111.085174</td>\n",
       "      <td>85.206764</td>\n",
       "      <td>109.837917</td>\n",
       "    </tr>\n",
       "    <tr>\n",
       "      <th>Pennsylvania</th>\n",
       "      <td>103.132625</td>\n",
       "      <td>101.038865</td>\n",
       "      <td>103.270722</td>\n",
       "      <td>81.922007</td>\n",
       "    </tr>\n",
       "    <tr>\n",
       "      <th>Texas</th>\n",
       "      <td>107.745097</td>\n",
       "      <td>113.679618</td>\n",
       "      <td>83.275970</td>\n",
       "      <td>103.557853</td>\n",
       "    </tr>\n",
       "  </tbody>\n",
       "</table>\n",
       "</div>"
      ],
      "text/plain": [
       "BENE_RACE_CD_max             1           2           3           5\n",
       "SP_State_full_name                                                \n",
       "California           98.105360   85.553640  100.519542   99.941717\n",
       "Florida             104.071570  103.635063  106.999228   95.813321\n",
       "Illinois            104.467163  105.561066   85.665898  108.153286\n",
       "Michigan            104.989025  114.426824  105.314563  162.105615\n",
       "New Jersey          103.884916  113.077961   84.132457  119.549720\n",
       "New York            105.444624   99.568966   95.214997   99.919981\n",
       "North Carolina      102.141245  109.224576   99.660588   79.679031\n",
       "Ohio                104.317252  111.085174   85.206764  109.837917\n",
       "Pennsylvania        103.132625  101.038865  103.270722   81.922007\n",
       "Texas               107.745097  113.679618   83.275970  103.557853"
      ]
     },
     "execution_count": 264,
     "metadata": {},
     "output_type": "execute_result"
    },
    {
     "data": {
      "image/png": "[encoded data removed]",
      "text/plain": [
       "<Figure size 720x504 with 1 Axes>"
      ]
     },
     "metadata": {
      "needs_background": "light"
     },
     "output_type": "display_data"
    }
   ],
   "source": [
    "pivot_df = bene_state_race_group_by.pivot(index='SP_State_full_name', \n",
    "                                          columns='BENE_RACE_CD_max', values='norm_percent_hospice')\n",
    "colors = [\"C6\",\"C2\",\"C3\",\"C4\"]\n",
    "labels = [{1:\"White\",2:\"Black\",3:\"Hispanic\",5:\"Other\"}]\n",
    "pivot_df.plot.bar(stacked=True, color=colors, figsize=(10,7),title='% of Hospice availed Patients within Race',xlabel = )\n",
    "#bene_state_race_group_by.plot(x=\"SP_State_full_name\", y=['BENE_RACE_CD_max'], kind=\"bar\")\n",
    "pivot_df"
   ]
  },
  {
   "cell_type": "code",
   "execution_count": 184,
   "metadata": {},
   "outputs": [
    {
     "data": {
      "text/html": [
       "<div>\n",
       "<style scoped>\n",
       "    .dataframe tbody tr th:only-of-type {\n",
       "        vertical-align: middle;\n",
       "    }\n",
       "\n",
       "    .dataframe tbody tr th {\n",
       "        vertical-align: top;\n",
       "    }\n",
       "\n",
       "    .dataframe thead th {\n",
       "        text-align: right;\n",
       "    }\n",
       "</style>\n",
       "<table border=\"1\" class=\"dataframe\">\n",
       "  <thead>\n",
       "    <tr style=\"text-align: right;\">\n",
       "      <th></th>\n",
       "      <th>BENE_RACE_CD_max</th>\n",
       "      <th>DESYNPUF_ID_count</th>\n",
       "      <th>HOSPICE_FLAG_sum</th>\n",
       "      <th>NORM_TOT</th>\n",
       "      <th>NORM_HOSPICE_TOT</th>\n",
       "      <th>percent_hospice</th>\n",
       "      <th>norm_percent_hospice</th>\n",
       "    </tr>\n",
       "  </thead>\n",
       "  <tbody>\n",
       "    <tr>\n",
       "      <th>0</th>\n",
       "      <td>1</td>\n",
       "      <td>1377566</td>\n",
       "      <td>59735</td>\n",
       "      <td>1.000000</td>\n",
       "      <td>1.000000</td>\n",
       "      <td>4.336271</td>\n",
       "      <td>100.000000</td>\n",
       "    </tr>\n",
       "    <tr>\n",
       "      <th>1</th>\n",
       "      <td>2</td>\n",
       "      <td>160870</td>\n",
       "      <td>7047</td>\n",
       "      <td>0.094101</td>\n",
       "      <td>0.095826</td>\n",
       "      <td>4.380556</td>\n",
       "      <td>101.833849</td>\n",
       "    </tr>\n",
       "    <tr>\n",
       "      <th>2</th>\n",
       "      <td>3</td>\n",
       "      <td>59596</td>\n",
       "      <td>2375</td>\n",
       "      <td>0.018697</td>\n",
       "      <td>0.015651</td>\n",
       "      <td>3.985167</td>\n",
       "      <td>83.709185</td>\n",
       "    </tr>\n",
       "    <tr>\n",
       "      <th>3</th>\n",
       "      <td>5</td>\n",
       "      <td>34485</td>\n",
       "      <td>1463</td>\n",
       "      <td>0.000000</td>\n",
       "      <td>0.000000</td>\n",
       "      <td>4.242424</td>\n",
       "      <td>NaN</td>\n",
       "    </tr>\n",
       "  </tbody>\n",
       "</table>\n",
       "</div>"
      ],
      "text/plain": [
       "   BENE_RACE_CD_max  DESYNPUF_ID_count  HOSPICE_FLAG_sum  NORM_TOT  \\\n",
       "0                 1            1377566             59735  1.000000   \n",
       "1                 2             160870              7047  0.094101   \n",
       "2                 3              59596              2375  0.018697   \n",
       "3                 5              34485              1463  0.000000   \n",
       "\n",
       "   NORM_HOSPICE_TOT  percent_hospice  norm_percent_hospice  \n",
       "0          1.000000         4.336271            100.000000  \n",
       "1          0.095826         4.380556            101.833849  \n",
       "2          0.015651         3.985167             83.709185  \n",
       "3          0.000000         4.242424                   NaN  "
      ]
     },
     "execution_count": 184,
     "metadata": {},
     "output_type": "execute_result"
    }
   ],
   "source": [
    "# Total beneficiary and hospice beneficiary numbers by race\n",
    "bene_race_group_by = (bciosc_df.groupby('BENE_RACE_CD_max').agg(\n",
    "    {\n",
    "     'DESYNPUF_ID':'count',\n",
    "     'HOSPICE_FLAG':'sum'\n",
    "    }\n",
    "    )\n",
    "             .reset_index()\n",
    "             .rename(columns={'DESYNPUF_ID':'DESYNPUF_ID_count',\n",
    "                              'HOSPICE_FLAG':'HOSPICE_FLAG_sum'\n",
    "                             }))\n",
    "bene_race_group_by['NORM_TOT'] = (bene_race_group_by['DESYNPUF_ID_count']-bene_race_group_by['DESYNPUF_ID_count'].min())/(bene_race_group_by['DESYNPUF_ID_count'].max()-bene_race_group_by['DESYNPUF_ID_count'].min())\n",
    "bene_race_group_by['NORM_HOSPICE_TOT'] = (bene_race_group_by['HOSPICE_FLAG_sum']-bene_race_group_by['HOSPICE_FLAG_sum'].min())/(bene_race_group_by['HOSPICE_FLAG_sum'].max()-bene_race_group_by['HOSPICE_FLAG_sum'].min())\n",
    "\n",
    "bene_race_group_by['percent_hospice'] = bene_race_group_by['HOSPICE_FLAG_sum']*100/bene_race_group_by['DESYNPUF_ID_count']\n",
    "bene_race_group_by['norm_percent_hospice'] = bene_race_group_by['NORM_HOSPICE_TOT']*100/bene_race_group_by['NORM_TOT']\n",
    "bene_race_group_by\n",
    "#df_write_csv(bene_race_group_by,\"/Users/nalinivineetha/Documents/MIDS/W200Python/PythonRoughWork/Project_2/files/beneficiary/bene_cohort_race_groupby.csv\")"
   ]
  },
  {
   "cell_type": "code",
   "execution_count": 183,
   "metadata": {},
   "outputs": [
    {
     "data": {
      "text/html": [
       "<div>\n",
       "<style scoped>\n",
       "    .dataframe tbody tr th:only-of-type {\n",
       "        vertical-align: middle;\n",
       "    }\n",
       "\n",
       "    .dataframe tbody tr th {\n",
       "        vertical-align: top;\n",
       "    }\n",
       "\n",
       "    .dataframe thead th {\n",
       "        text-align: right;\n",
       "    }\n",
       "</style>\n",
       "<table border=\"1\" class=\"dataframe\">\n",
       "  <thead>\n",
       "    <tr style=\"text-align: right;\">\n",
       "      <th></th>\n",
       "      <th>BENE_SEX_IDENT_CD_max</th>\n",
       "      <th>DESYNPUF_ID_count</th>\n",
       "      <th>HOSPICE_FLAG_sum</th>\n",
       "      <th>percent_hospice</th>\n",
       "    </tr>\n",
       "  </thead>\n",
       "  <tbody>\n",
       "    <tr>\n",
       "      <th>0</th>\n",
       "      <td>1</td>\n",
       "      <td>699644</td>\n",
       "      <td>29877</td>\n",
       "      <td>4.270315</td>\n",
       "    </tr>\n",
       "    <tr>\n",
       "      <th>1</th>\n",
       "      <td>2</td>\n",
       "      <td>932873</td>\n",
       "      <td>40743</td>\n",
       "      <td>4.367476</td>\n",
       "    </tr>\n",
       "  </tbody>\n",
       "</table>\n",
       "</div>"
      ],
      "text/plain": [
       "   BENE_SEX_IDENT_CD_max  DESYNPUF_ID_count  HOSPICE_FLAG_sum  percent_hospice\n",
       "0                      1             699644             29877         4.270315\n",
       "1                      2             932873             40743         4.367476"
      ]
     },
     "execution_count": 183,
     "metadata": {},
     "output_type": "execute_result"
    }
   ],
   "source": [
    "# Total beneficiary and hospice beneficiary numbers by gender\n",
    "bene_gender_group_by = (bciosc_df.groupby('BENE_SEX_IDENT_CD_max').agg(\n",
    "    {\n",
    "     'DESYNPUF_ID':'count',\n",
    "     'HOSPICE_FLAG':'sum'\n",
    "    }\n",
    "    )\n",
    "             .reset_index()\n",
    "             .rename(columns={'DESYNPUF_ID':'DESYNPUF_ID_count',\n",
    "                              'HOSPICE_FLAG':'HOSPICE_FLAG_sum'\n",
    "                             }))\n",
    "\n",
    "bene_gender_group_by['percent_hospice'] = bene_gender_group_by['HOSPICE_FLAG_sum']*100/bene_gender_group_by['DESYNPUF_ID_count']\n",
    "bene_gender_group_by\n",
    "#df_write_csv(bene_gender_group_by,\"/Users/nalinivineetha/Documents/MIDS/W200Python/PythonRoughWork/Project_2/files/beneficiary/bene_cohort_gender_groupby.csv\")"
   ]
  }
 ],
 "metadata": {
  "kernelspec": {
   "display_name": "Python 3",
   "language": "python",
   "name": "python3"
  },
  "language_info": {
   "codemirror_mode": {
    "name": "ipython",
    "version": 3
   },
   "file_extension": ".py",
   "mimetype": "text/x-python",
   "name": "python",
   "nbconvert_exporter": "python",
   "pygments_lexer": "ipython3",
   "version": "3.7.3"
  }
 },
 "nbformat": 4,
 "nbformat_minor": 2
}
