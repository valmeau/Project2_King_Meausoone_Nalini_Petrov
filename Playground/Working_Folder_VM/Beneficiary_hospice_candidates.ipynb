{
 "cells": [
  {
   "cell_type": "markdown",
   "metadata": {},
   "source": [
    "### enhancement to the main notebook, analyzing only beneficiaries that are hospice candidates ###\n"
   ]
  },
  {
   "cell_type": "code",
   "execution_count": 4,
   "metadata": {},
   "outputs": [
    {
     "name": "stdout",
     "output_type": "stream",
     "text": [
      "3.7.3 (default, Mar 27 2019, 16:54:48) \n",
      "[Clang 4.0.1 (tags/RELEASE_401/final)]\n",
      "1.16.4\n",
      "0.24.2\n"
     ]
    }
   ],
   "source": [
    "import glob\n",
    "%matplotlib inline\n",
    "import sys\n",
    "print(sys.version)\n",
    "import numpy as np\n",
    "print(np.__version__)\n",
    "import pandas as pd\n",
    "print(pd.__version__)\n",
    "import matplotlib.pyplot as plt\n"
   ]
  },
  {
   "cell_type": "code",
   "execution_count": 5,
   "metadata": {},
   "outputs": [],
   "source": [
    "def df_write_csv(df, path):\n",
    "    \n",
    "    df.to_csv(path_or_buf = path, index=False)"
   ]
  },
  {
   "cell_type": "code",
   "execution_count": 6,
   "metadata": {},
   "outputs": [
    {
     "data": {
      "text/html": [
       "<div>\n",
       "<style scoped>\n",
       "    .dataframe tbody tr th:only-of-type {\n",
       "        vertical-align: middle;\n",
       "    }\n",
       "\n",
       "    .dataframe tbody tr th {\n",
       "        vertical-align: top;\n",
       "    }\n",
       "\n",
       "    .dataframe thead th {\n",
       "        text-align: right;\n",
       "    }\n",
       "</style>\n",
       "<table border=\"1\" class=\"dataframe\">\n",
       "  <thead>\n",
       "    <tr style=\"text-align: right;\">\n",
       "      <th></th>\n",
       "      <th>DESYNPUF_ID</th>\n",
       "      <th>BENE_BIRTH_DT</th>\n",
       "      <th>BENE_DEATH_DT</th>\n",
       "      <th>BENE_SEX_IDENT_CD</th>\n",
       "      <th>BENE_RACE_CD</th>\n",
       "      <th>BENE_ESRD_IND</th>\n",
       "      <th>SP_STATE_CODE</th>\n",
       "      <th>BENE_COUNTY_CD</th>\n",
       "      <th>BENE_HI_CVRAGE_TOT_MONS</th>\n",
       "      <th>BENE_SMI_CVRAGE_TOT_MONS</th>\n",
       "      <th>...</th>\n",
       "      <th>SP_STRKETIA</th>\n",
       "      <th>MEDREIMB_IP</th>\n",
       "      <th>BENRES_IP</th>\n",
       "      <th>PPPYMT_IP</th>\n",
       "      <th>MEDREIMB_OP</th>\n",
       "      <th>BENRES_OP</th>\n",
       "      <th>PPPYMT_OP</th>\n",
       "      <th>MEDREIMB_CAR</th>\n",
       "      <th>BENRES_CAR</th>\n",
       "      <th>PPPYMT_CAR</th>\n",
       "    </tr>\n",
       "  </thead>\n",
       "  <tbody>\n",
       "    <tr>\n",
       "      <th>0</th>\n",
       "      <td>000102649ED5601B</td>\n",
       "      <td>1931-10-01</td>\n",
       "      <td>NaN</td>\n",
       "      <td>2</td>\n",
       "      <td>1</td>\n",
       "      <td>0</td>\n",
       "      <td>49</td>\n",
       "      <td>290</td>\n",
       "      <td>12</td>\n",
       "      <td>12</td>\n",
       "      <td>...</td>\n",
       "      <td>1</td>\n",
       "      <td>0.0</td>\n",
       "      <td>0.0</td>\n",
       "      <td>0.0</td>\n",
       "      <td>360.0</td>\n",
       "      <td>90.0</td>\n",
       "      <td>0.0</td>\n",
       "      <td>860.0</td>\n",
       "      <td>170.0</td>\n",
       "      <td>0.0</td>\n",
       "    </tr>\n",
       "    <tr>\n",
       "      <th>1</th>\n",
       "      <td>0002278C944E240A</td>\n",
       "      <td>1936-09-01</td>\n",
       "      <td>NaN</td>\n",
       "      <td>2</td>\n",
       "      <td>1</td>\n",
       "      <td>Y</td>\n",
       "      <td>34</td>\n",
       "      <td>250</td>\n",
       "      <td>12</td>\n",
       "      <td>12</td>\n",
       "      <td>...</td>\n",
       "      <td>2</td>\n",
       "      <td>0.0</td>\n",
       "      <td>0.0</td>\n",
       "      <td>0.0</td>\n",
       "      <td>2590.0</td>\n",
       "      <td>1530.0</td>\n",
       "      <td>0.0</td>\n",
       "      <td>5000.0</td>\n",
       "      <td>1230.0</td>\n",
       "      <td>0.0</td>\n",
       "    </tr>\n",
       "    <tr>\n",
       "      <th>2</th>\n",
       "      <td>000330E625C93700</td>\n",
       "      <td>1933-09-01</td>\n",
       "      <td>NaN</td>\n",
       "      <td>2</td>\n",
       "      <td>1</td>\n",
       "      <td>0</td>\n",
       "      <td>4</td>\n",
       "      <td>420</td>\n",
       "      <td>12</td>\n",
       "      <td>12</td>\n",
       "      <td>...</td>\n",
       "      <td>2</td>\n",
       "      <td>0.0</td>\n",
       "      <td>0.0</td>\n",
       "      <td>0.0</td>\n",
       "      <td>0.0</td>\n",
       "      <td>0.0</td>\n",
       "      <td>0.0</td>\n",
       "      <td>270.0</td>\n",
       "      <td>150.0</td>\n",
       "      <td>0.0</td>\n",
       "    </tr>\n",
       "    <tr>\n",
       "      <th>3</th>\n",
       "      <td>000374D5E110EDA6</td>\n",
       "      <td>1936-08-01</td>\n",
       "      <td>NaN</td>\n",
       "      <td>2</td>\n",
       "      <td>1</td>\n",
       "      <td>0</td>\n",
       "      <td>5</td>\n",
       "      <td>90</td>\n",
       "      <td>12</td>\n",
       "      <td>12</td>\n",
       "      <td>...</td>\n",
       "      <td>2</td>\n",
       "      <td>0.0</td>\n",
       "      <td>0.0</td>\n",
       "      <td>0.0</td>\n",
       "      <td>60.0</td>\n",
       "      <td>30.0</td>\n",
       "      <td>0.0</td>\n",
       "      <td>1090.0</td>\n",
       "      <td>360.0</td>\n",
       "      <td>0.0</td>\n",
       "    </tr>\n",
       "    <tr>\n",
       "      <th>4</th>\n",
       "      <td>0003950E4B4FEC8D</td>\n",
       "      <td>1940-11-01</td>\n",
       "      <td>NaN</td>\n",
       "      <td>2</td>\n",
       "      <td>2</td>\n",
       "      <td>0</td>\n",
       "      <td>19</td>\n",
       "      <td>420</td>\n",
       "      <td>12</td>\n",
       "      <td>12</td>\n",
       "      <td>...</td>\n",
       "      <td>2</td>\n",
       "      <td>0.0</td>\n",
       "      <td>0.0</td>\n",
       "      <td>0.0</td>\n",
       "      <td>3690.0</td>\n",
       "      <td>420.0</td>\n",
       "      <td>0.0</td>\n",
       "      <td>3590.0</td>\n",
       "      <td>960.0</td>\n",
       "      <td>0.0</td>\n",
       "    </tr>\n",
       "  </tbody>\n",
       "</table>\n",
       "<p>5 rows × 32 columns</p>\n",
       "</div>"
      ],
      "text/plain": [
       "        DESYNPUF_ID BENE_BIRTH_DT BENE_DEATH_DT  BENE_SEX_IDENT_CD  \\\n",
       "0  000102649ED5601B    1931-10-01           NaN                  2   \n",
       "1  0002278C944E240A    1936-09-01           NaN                  2   \n",
       "2  000330E625C93700    1933-09-01           NaN                  2   \n",
       "3  000374D5E110EDA6    1936-08-01           NaN                  2   \n",
       "4  0003950E4B4FEC8D    1940-11-01           NaN                  2   \n",
       "\n",
       "   BENE_RACE_CD BENE_ESRD_IND  SP_STATE_CODE  BENE_COUNTY_CD  \\\n",
       "0             1             0             49             290   \n",
       "1             1             Y             34             250   \n",
       "2             1             0              4             420   \n",
       "3             1             0              5              90   \n",
       "4             2             0             19             420   \n",
       "\n",
       "   BENE_HI_CVRAGE_TOT_MONS  BENE_SMI_CVRAGE_TOT_MONS  ...  SP_STRKETIA  \\\n",
       "0                       12                        12  ...            1   \n",
       "1                       12                        12  ...            2   \n",
       "2                       12                        12  ...            2   \n",
       "3                       12                        12  ...            2   \n",
       "4                       12                        12  ...            2   \n",
       "\n",
       "   MEDREIMB_IP  BENRES_IP  PPPYMT_IP  MEDREIMB_OP  BENRES_OP  PPPYMT_OP  \\\n",
       "0          0.0        0.0        0.0        360.0       90.0        0.0   \n",
       "1          0.0        0.0        0.0       2590.0     1530.0        0.0   \n",
       "2          0.0        0.0        0.0          0.0        0.0        0.0   \n",
       "3          0.0        0.0        0.0         60.0       30.0        0.0   \n",
       "4          0.0        0.0        0.0       3690.0      420.0        0.0   \n",
       "\n",
       "   MEDREIMB_CAR  BENRES_CAR  PPPYMT_CAR  \n",
       "0         860.0       170.0         0.0  \n",
       "1        5000.0      1230.0         0.0  \n",
       "2         270.0       150.0         0.0  \n",
       "3        1090.0       360.0         0.0  \n",
       "4        3590.0       960.0         0.0  \n",
       "\n",
       "[5 rows x 32 columns]"
      ]
     },
     "execution_count": 6,
     "metadata": {},
     "output_type": "execute_result"
    }
   ],
   "source": [
    "bene_df = pd.read_csv(\"../Working_Folder_VM/bene_cohort.csv\")\n",
    "bene_df.head()"
   ]
  },
  {
   "cell_type": "code",
   "execution_count": 7,
   "metadata": {},
   "outputs": [],
   "source": [
    "bene_df['BENE_COUNT_OCCURENCE'] = 1\n",
    "bene_df['BENE_HOSPICE_CANDIDATE'] = np.where((bene_df['SP_ALZHDMTA'] == 1)\n",
    "                                 |(bene_df['SP_CHF'] == 1)\n",
    "                                 |(bene_df['SP_CHRNKIDN'] == 1)\n",
    "                                 |(bene_df['SP_CNCR'] == 1)\n",
    "                                 |(bene_df['SP_COPD'] == 1)\n",
    "                                 |(bene_df['SP_ISCHMCHT'] == 1)\n",
    "                                 |(bene_df['SP_STRKETIA'] == 1)\n",
    "                                 ,1,0)\n",
    "\n",
    "bene_df[\"BENE_BIRTH_DT\"] = pd.to_datetime(bene_df[\"BENE_BIRTH_DT\"], format=\"%Y-%m-%d\")\n",
    "bene_df[\"BENE_DEATH_DT\"] = pd.to_datetime(bene_df[\"BENE_DEATH_DT\"], format=\"%Y-%m-%d\")\n",
    "\n",
    "bene_df_hospice = bene_df[bene_df.BENE_HOSPICE_CANDIDATE == 1]\n",
    "bene_df_hospice = bene_df_hospice[(bene_df_hospice.BENE_HI_CVRAGE_TOT_MONS == 12) & (bene_df_hospice.BENE_SMI_CVRAGE_TOT_MONS == 12)]\n",
    "\n"
   ]
  },
  {
   "cell_type": "code",
   "execution_count": 8,
   "metadata": {},
   "outputs": [
    {
     "data": {
      "text/plain": [
       "DESYNPUF_ID                         object\n",
       "BENE_BIRTH_DT               datetime64[ns]\n",
       "BENE_DEATH_DT               datetime64[ns]\n",
       "BENE_SEX_IDENT_CD                    int64\n",
       "BENE_RACE_CD                         int64\n",
       "BENE_ESRD_IND                       object\n",
       "SP_STATE_CODE                        int64\n",
       "BENE_COUNTY_CD                       int64\n",
       "BENE_HI_CVRAGE_TOT_MONS              int64\n",
       "BENE_SMI_CVRAGE_TOT_MONS             int64\n",
       "BENE_HMO_CVRAGE_TOT_MONS             int64\n",
       "PLAN_CVRG_MOS_NUM                    int64\n",
       "SP_ALZHDMTA                          int64\n",
       "SP_CHF                               int64\n",
       "SP_CHRNKIDN                          int64\n",
       "SP_CNCR                              int64\n",
       "SP_COPD                              int64\n",
       "SP_DEPRESSN                          int64\n",
       "SP_DIABETES                          int64\n",
       "SP_ISCHMCHT                          int64\n",
       "SP_OSTEOPRS                          int64\n",
       "SP_RA_OA                             int64\n",
       "SP_STRKETIA                          int64\n",
       "MEDREIMB_IP                        float64\n",
       "BENRES_IP                          float64\n",
       "PPPYMT_IP                          float64\n",
       "MEDREIMB_OP                        float64\n",
       "BENRES_OP                          float64\n",
       "PPPYMT_OP                          float64\n",
       "MEDREIMB_CAR                       float64\n",
       "BENRES_CAR                         float64\n",
       "PPPYMT_CAR                         float64\n",
       "BENE_COUNT_OCCURENCE                 int64\n",
       "BENE_HOSPICE_CANDIDATE               int64\n",
       "dtype: object"
      ]
     },
     "execution_count": 8,
     "metadata": {},
     "output_type": "execute_result"
    }
   ],
   "source": [
    "bene_df_hospice.dtypes"
   ]
  },
  {
   "cell_type": "code",
   "execution_count": 20,
   "metadata": {},
   "outputs": [],
   "source": [
    "bene_hospice_aggr = (bene_df_hospice.groupby('DESYNPUF_ID').agg(\n",
    "    {\n",
    "     'BENE_BIRTH_DT':'max',\n",
    "     'BENE_DEATH_DT':'max',\n",
    "     'BENE_SEX_IDENT_CD':'max',\n",
    "     'BENE_RACE_CD': 'max',\n",
    "     'SP_STATE_CODE': 'max',\n",
    "     'BENE_COUNTY_CD': 'max',\n",
    "     'BENE_HI_CVRAGE_TOT_MONS':'max',\n",
    "     'BENE_SMI_CVRAGE_TOT_MONS':'max',\n",
    "     'BENE_COUNT_OCCURENCE':'sum',\n",
    "     'BENE_HOSPICE_CANDIDATE': 'sum'\n",
    "    }\n",
    "    )\n",
    "             .reset_index()\n",
    "             .rename(columns={'BENE_BIRTH_DT':'BENE_BIRTH_DT_max',\n",
    "                              'BENE_SEX_IDENT_CD':'BENE_SEX_IDENT_CD_max',\n",
    "                              'BENE_RACE_CD': 'BENE_RACE_CD_max',\n",
    "                              'SP_STATE_CODE': 'SP_STATE_CODE_max',\n",
    "                              'BENE_HI_CVRAGE_TOT_MONS':'BENE_HI_CVRAGE_TOT_MONS_max',\n",
    "                              'BENE_SMI_CVRAGE_TOT_MONS':'BENE_SMI_CVRAGE_TOT_MONS_max',\n",
    "                              'BENE_COUNTY_CD':'BENE_COUNTY_CD_max',\n",
    "                              'BENE_HOSPICE_CANDIDATE': 'BENE_HOSPICE_CANDIDATE_sum'\n",
    "                             }))\n",
    "\n"
   ]
  },
  {
   "cell_type": "code",
   "execution_count": 21,
   "metadata": {},
   "outputs": [],
   "source": [
    "#get carrier, inpatient and outpatient aggregates \n",
    "car_aggr = pd.read_csv(\"../Working_Folder_VM/car_cohort_aggr.csv\")\n",
    "inp_aggr = pd.read_csv(\"../Working_Folder_VM/inp_cohort_aggr.csv\")\n",
    "outp_aggr = pd.read_csv(\"../Working_Folder_VM/outp_cohort_aggr.csv\")\n"
   ]
  },
  {
   "cell_type": "code",
   "execution_count": 22,
   "metadata": {},
   "outputs": [],
   "source": [
    "#now merge beneficiary, carrier claims, inpatient and outpatient by left join \n",
    "bene_car_df = pd.merge(bene_hospice_aggr, car_aggr, on='DESYNPUF_ID', how = 'left')\n",
    "bene_car_inp_df = pd.merge(bene_car_df, inp_aggr, on='DESYNPUF_ID', how = 'left')\n",
    "bene_car_inp_outp_df = pd.merge(bene_car_inp_df, outp_aggr, on='DESYNPUF_ID', how = 'left')\n",
    "#should've differentiated inpatient and outpatient columns while creating those dataframes. Ah well!\n",
    "bene_car_inp_outp_df = bene_car_inp_outp_df.rename(columns= {'CLM_ID_count_x': 'car_CLM_ID_count',\n",
    "                                                            'CLM_ID_count_y': 'inp_CLM_ID_count',\n",
    "                                                            'CLM_PMT_AMT_sum_x': 'inp_CLM_PMT_AMT_sum',\n",
    "                                                            'NCH_PRMRY_PYR_CLM_PD_AMT_sum_x': 'inp_NCH_PRMRY_PYR_CLM_PD_AMT_sum',\n",
    "                                                            'CLM_ID_count': 'outp_CLM_ID_count',\n",
    "                                                            'CLM_PMT_AMT_sum_y': 'outp_CLM_PMT_AMT_sum',\n",
    "                                                            'NCH_PRMRY_PYR_CLM_PD_AMT_sum_y':'outp_NCH_PRMRY_PYR_CLM_PD_AMT_sum'})\n",
    "\n"
   ]
  },
  {
   "cell_type": "code",
   "execution_count": 24,
   "metadata": {},
   "outputs": [
    {
     "name": "stdout",
     "output_type": "stream",
     "text": [
      "BENE_SEX_IDENT_CD_max\n",
      "1    350009\n",
      "2    465993\n",
      "Name: DESYNPUF_ID, dtype: int64\n",
      "BENE_RACE_CD_max\n",
      "1    688522\n",
      "2     80409\n",
      "3     29826\n",
      "5     17245\n",
      "Name: DESYNPUF_ID, dtype: int64\n"
     ]
    }
   ],
   "source": [
    "bene_car_inp_outp_df.head()\n",
    "print(bene_car_inp_outp_df.groupby('BENE_SEX_IDENT_CD_max').DESYNPUF_ID.count())\n",
    "print(bene_car_inp_outp_df.groupby('BENE_RACE_CD_max').DESYNPUF_ID.count())\n"
   ]
  },
  {
   "cell_type": "code",
   "execution_count": 25,
   "metadata": {},
   "outputs": [],
   "source": [
    "#Now add state names\n",
    "us_state_df = pd.read_csv(\"../Datasets/us_states_codes.csv\")\n",
    "us_state_df.head()\n",
    "bene_car_inp_outp_state_df = pd.merge(bene_car_inp_outp_df, us_state_df, on='SP_STATE_CODE_max')\n",
    "\n",
    "#Now fill NaNs with 0\n",
    "values = {'car_CLM_ID_count':0, 'NCH_PMT_AMT_sum': 0, 'inp_CLM_ID_count': 0, 'inp_CLM_PMT_AMT_sum': 0, 'outp_CLM_ID_count': 0}\n",
    "bene_car_inp_outp_state_df.fillna(value=values,inplace=True)"
   ]
  },
  {
   "cell_type": "code",
   "execution_count": 26,
   "metadata": {},
   "outputs": [],
   "source": [
    "#Now add hospice indicator \n",
    "bene_car_inp_outp_state_df['HOSPICE_FLAG'] = np.where((bene_car_inp_outp_state_df['car_CLM_ID_count'] > 0)\n",
    "                                 |(bene_car_inp_outp_state_df['inp_CLM_ID_count'] > 0)\n",
    "                                 |(bene_car_inp_outp_state_df['outp_CLM_ID_count'] > 0)\n",
    "                                 ,1,0)"
   ]
  },
  {
   "cell_type": "code",
   "execution_count": 27,
   "metadata": {},
   "outputs": [],
   "source": [
    "# Total beneficiary and hospice beneficiary numbers by state\n",
    "bene_country_group_by = (bene_car_inp_outp_state_df.groupby('SP_State_full_name').agg(\n",
    "    {\n",
    "     'DESYNPUF_ID':'count',\n",
    "     'HOSPICE_FLAG':'sum'\n",
    "    }\n",
    "    )\n",
    "             .reset_index()\n",
    "             .rename(columns={'DESYNPUF_ID':'DESYNPUF_ID_count',\n",
    "                              'HOSPICE_FLAG':'HOSPICE_FLAG_sum'\n",
    "                             }))\n",
    "\n",
    "bene_country_group_by['percent_hospice'] = bene_country_group_by['HOSPICE_FLAG_sum']/bene_country_group_by['DESYNPUF_ID_count']\n",
    "\n",
    "df_write_csv(bene_country_group_by,\"../Working_Folder_VM/bene_hospice_cohort_country_groupby.csv\")"
   ]
  },
  {
   "cell_type": "markdown",
   "metadata": {},
   "source": [
    "### Valerie exploration"
   ]
  },
  {
   "cell_type": "code",
   "execution_count": 28,
   "metadata": {},
   "outputs": [
    {
     "data": {
      "text/plain": [
       "DESYNPUF_ID                                  object\n",
       "BENE_BIRTH_DT_max                    datetime64[ns]\n",
       "BENE_DEATH_DT                        datetime64[ns]\n",
       "BENE_SEX_IDENT_CD_max                         int64\n",
       "BENE_RACE_CD_max                              int64\n",
       "SP_STATE_CODE_max                             int64\n",
       "BENE_COUNTY_CD_max                            int64\n",
       "BENE_HI_CVRAGE_TOT_MONS_max                   int64\n",
       "BENE_SMI_CVRAGE_TOT_MONS_max                  int64\n",
       "BENE_COUNT_OCCURENCE                          int64\n",
       "BENE_HOSPICE_CANDIDATE_sum                    int64\n",
       "car_CLM_ID_count                            float64\n",
       "NCH_PMT_AMT_sum                             float64\n",
       "inp_CLM_ID_count                            float64\n",
       "inp_CLM_PMT_AMT_sum                         float64\n",
       "inp_NCH_PRMRY_PYR_CLM_PD_AMT_sum            float64\n",
       "CLM_UTLZTN_DAY_CNT_sum                      float64\n",
       "outp_CLM_ID_count                           float64\n",
       "outp_CLM_PMT_AMT_sum                        float64\n",
       "outp_NCH_PRMRY_PYR_CLM_PD_AMT_sum           float64\n",
       "SP_State_iso2a                               object\n",
       "SP_State_full_name                           object\n",
       "HOSPICE_FLAG                                  int64\n",
       "dtype: object"
      ]
     },
     "execution_count": 28,
     "metadata": {},
     "output_type": "execute_result"
    }
   ],
   "source": [
    "bene_car_inp_outp_state_df.dtypes"
   ]
  },
  {
   "cell_type": "code",
   "execution_count": 29,
   "metadata": {},
   "outputs": [
    {
     "name": "stdout",
     "output_type": "stream",
     "text": [
      "BENE_HOSPICE_CANDIDATE_sum       1       2       3\n",
      "HOSPICE_FLAG                                      \n",
      "0                           176307  234577  369838\n",
      "1                             2545    8288   24447\n"
     ]
    }
   ],
   "source": [
    "print(pd.crosstab(bene_car_inp_outp_state_df.HOSPICE_FLAG, bene_car_inp_outp_state_df\n",
    "                  .BENE_HOSPICE_CANDIDATE_sum))"
   ]
  },
  {
   "cell_type": "code",
   "execution_count": 30,
   "metadata": {},
   "outputs": [
    {
     "data": {
      "text/plain": [
       "count    816002.000000\n",
       "mean          0.043235\n",
       "std           0.203386\n",
       "min           0.000000\n",
       "25%           0.000000\n",
       "50%           0.000000\n",
       "75%           0.000000\n",
       "max           1.000000\n",
       "Name: HOSPICE_FLAG, dtype: float64"
      ]
     },
     "execution_count": 30,
     "metadata": {},
     "output_type": "execute_result"
    }
   ],
   "source": [
    "bene_car_inp_outp_state_df.HOSPICE_FLAG.describe()"
   ]
  },
  {
   "cell_type": "code",
   "execution_count": 31,
   "metadata": {},
   "outputs": [
    {
     "data": {
      "text/plain": [
       "count    816002.000000\n",
       "mean          2.264010\n",
       "std           0.795406\n",
       "min           1.000000\n",
       "25%           2.000000\n",
       "50%           2.000000\n",
       "75%           3.000000\n",
       "max           3.000000\n",
       "Name: BENE_HOSPICE_CANDIDATE_sum, dtype: float64"
      ]
     },
     "execution_count": 31,
     "metadata": {},
     "output_type": "execute_result"
    }
   ],
   "source": [
    "bene_car_inp_outp_state_df.BENE_HOSPICE_CANDIDATE_sum.describe()"
   ]
  },
  {
   "cell_type": "code",
   "execution_count": 32,
   "metadata": {},
   "outputs": [
    {
     "data": {
      "text/plain": [
       "count    52.000000\n",
       "mean      0.041872\n",
       "std       0.003519\n",
       "min       0.033035\n",
       "25%       0.039820\n",
       "50%       0.042327\n",
       "75%       0.044692\n",
       "max       0.048046\n",
       "Name: percent_hospice, dtype: float64"
      ]
     },
     "execution_count": 32,
     "metadata": {},
     "output_type": "execute_result"
    }
   ],
   "source": [
    "bene_country_group_by.percent_hospice.describe()"
   ]
  },
  {
   "cell_type": "code",
   "execution_count": 33,
   "metadata": {},
   "outputs": [],
   "source": [
    "# Total beneficiary and hospice beneficiary numbers by gender\n",
    "bene_gender_group_by = (bene_car_inp_outp_state_df.groupby('BENE_SEX_IDENT_CD_max').agg(\n",
    "    {\n",
    "     'DESYNPUF_ID':'count',\n",
    "     'HOSPICE_FLAG':'sum'\n",
    "    }\n",
    "    )\n",
    "             .reset_index()\n",
    "             .rename(columns={'DESYNPUF_ID':'DESYNPUF_ID_count',\n",
    "                              'HOSPICE_FLAG':'HOSPICE_FLAG_sum'\n",
    "                             }))\n",
    "\n",
    "bene_gender_group_by['percent_hospice'] = bene_gender_group_by['HOSPICE_FLAG_sum']/bene_gender_group_by['DESYNPUF_ID_count']\n",
    "\n",
    "df_write_csv(bene_gender_group_by,\"../Working_Folder_VM/bene_hospice_cohort_gender_groupby.csv\")"
   ]
  },
  {
   "cell_type": "code",
   "execution_count": 34,
   "metadata": {},
   "outputs": [],
   "source": [
    "# Total beneficiary and hospice beneficiary numbers by race\n",
    "bene_race_group_by = (bene_car_inp_outp_state_df.groupby('BENE_RACE_CD_max').agg(\n",
    "    {\n",
    "     'DESYNPUF_ID':'count',\n",
    "     'HOSPICE_FLAG':'sum'\n",
    "    }\n",
    "    )\n",
    "             .reset_index()\n",
    "             .rename(columns={'DESYNPUF_ID':'DESYNPUF_ID_count',\n",
    "                              'HOSPICE_FLAG':'HOSPICE_FLAG_sum'\n",
    "                             }))\n",
    "\n",
    "bene_race_group_by['percent_hospice'] = bene_race_group_by['HOSPICE_FLAG_sum']/bene_race_group_by['DESYNPUF_ID_count']\n",
    "\n",
    "df_write_csv(bene_race_group_by,\"../Working_Folder_VM/bene_hospice_cohort_race_groupby.csv\")"
   ]
  },
  {
   "cell_type": "code",
   "execution_count": null,
   "metadata": {},
   "outputs": [],
   "source": []
  }
 ],
 "metadata": {
  "kernelspec": {
   "display_name": "Python 3",
   "language": "python",
   "name": "python3"
  },
  "language_info": {
   "codemirror_mode": {
    "name": "ipython",
    "version": 3
   },
   "file_extension": ".py",
   "mimetype": "text/x-python",
   "name": "python",
   "nbconvert_exporter": "python",
   "pygments_lexer": "ipython3",
   "version": "3.7.3"
  }
 },
 "nbformat": 4,
 "nbformat_minor": 2
}
