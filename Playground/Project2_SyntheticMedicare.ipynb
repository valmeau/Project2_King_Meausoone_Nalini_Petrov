{
 "cells": [
  {
   "cell_type": "markdown",
   "metadata": {},
   "source": [
    "# Loading synthetic Medicare data\n",
    "1. Beneficiary file\n",
    "2. Inpatient file\n",
    "3. Outpatient file"
   ]
  },
  {
   "cell_type": "markdown",
   "metadata": {},
   "source": [
    "### Importing packages"
   ]
  },
  {
   "cell_type": "code",
   "execution_count": 2,
   "metadata": {
    "scrolled": true
   },
   "outputs": [
    {
     "name": "stdout",
     "output_type": "stream",
     "text": [
      "3.7.3 (default, Mar 27 2019, 16:54:48) \n",
      "[Clang 4.0.1 (tags/RELEASE_401/final)]\n",
      "1.16.4\n",
      "0.24.2\n"
     ]
    }
   ],
   "source": [
    "%matplotlib inline\n",
    "import sys\n",
    "print(sys.version)\n",
    "import numpy as np\n",
    "print(np.__version__)\n",
    "import pandas as pd\n",
    "print(pd.__version__)\n",
    "import matplotlib.pyplot as plt"
   ]
  },
  {
   "cell_type": "markdown",
   "metadata": {},
   "source": [
    "### Beneficiary file\n",
    "\n",
    "#### Variables:\n",
    "- SP_* are chronic condition flags (see assumptions section)\n",
    "- Total costs (MEDREIMB + BENRES + PPPYMT):\n",
    "    - MEDREIMB_\\*: total annual costs for inpatient/outpatient/carrier\n",
    "    - BENRES_\\*: out of pocket costs for inpatient/outpatient/carrier\n",
    "    - PPPYMT_\\*: primary payer reimbursement amount inpatient/outpatient/carrier (in case other primary insurance)\n",
    "\n",
    "\n",
    "#### Assumptions:\n",
    "- We treat the chronic condition flags as accurate, despire there possibly being some discrepenacies due to order of processing claims versus when flag was calculated. \n",
    "- We decided not to look at carrier claims, but these contain some really good information. Perhas not required beyond calculating cost of care, but let's discuss. \n",
    "- We decide to include individuals with full coverage in a given year. "
   ]
  },
  {
   "cell_type": "markdown",
   "metadata": {},
   "source": [
    "#### Step 1: load data from csv and append all years of beneficiary file into one single data frame"
   ]
  },
  {
   "cell_type": "code",
   "execution_count": 3,
   "metadata": {},
   "outputs": [
    {
     "name": "stdout",
     "output_type": "stream",
     "text": [
      "(343644, 31)\n"
     ]
    },
    {
     "data": {
      "text/plain": [
       "DESYNPUF_ID                  object\n",
       "BENE_BIRTH_DT                 int64\n",
       "BENE_DEATH_DT               float64\n",
       "BENE_SEX_IDENT_CD             int64\n",
       "BENE_RACE_CD                  int64\n",
       "BENE_ESRD_IND                object\n",
       "SP_STATE_CODE                 int64\n",
       "BENE_COUNTY_CD                int64\n",
       "BENE_HI_CVRAGE_TOT_MONS       int64\n",
       "BENE_SMI_CVRAGE_TOT_MONS      int64\n",
       "SP_ALZHDMTA                   int64\n",
       "SP_CHF                        int64\n",
       "SP_CHRNKIDN                   int64\n",
       "SP_CNCR                       int64\n",
       "SP_COPD                       int64\n",
       "SP_DEPRESSN                   int64\n",
       "SP_DIABETES                   int64\n",
       "SP_ISCHMCHT                   int64\n",
       "SP_OSTEOPRS                   int64\n",
       "SP_RA_OA                      int64\n",
       "SP_STRKETIA                   int64\n",
       "MEDREIMB_IP                 float64\n",
       "BENRES_IP                   float64\n",
       "PPPYMT_IP                   float64\n",
       "MEDREIMB_OP                 float64\n",
       "BENRES_OP                   float64\n",
       "PPPYMT_OP                   float64\n",
       "MEDREIMB_CAR                float64\n",
       "BENRES_CAR                  float64\n",
       "PPPYMT_CAR                  float64\n",
       "YEAR                          int64\n",
       "dtype: object"
      ]
     },
     "execution_count": 3,
     "metadata": {},
     "output_type": "execute_result"
    }
   ],
   "source": [
    "#no need of following variables: \n",
    "#BENE_HMO_CVRAGE_TOT_MONS (HMO coverage)\n",
    "#PLAN_CVRG_MOS_NUM (Part D coverage)\n",
    "\n",
    "#I will optimize this later on. I know it's ugly!\n",
    "beneficiary_2008 = pd.read_csv(\"DE1_0_2008_Beneficiary_Summary_File_Sample_1.csv\")\n",
    "beneficiary_2008['YEAR'] = 2008\n",
    "del beneficiary_2008['BENE_HMO_CVRAGE_TOT_MONS']\n",
    "del beneficiary_2008['PLAN_CVRG_MOS_NUM']\n",
    "\n",
    "beneficiary_2009 = pd.read_csv(\"DE1_0_2009_Beneficiary_Summary_File_Sample_1.csv\")\n",
    "beneficiary_2009['YEAR'] = 2009\n",
    "del beneficiary_2009['BENE_HMO_CVRAGE_TOT_MONS']\n",
    "del beneficiary_2009['PLAN_CVRG_MOS_NUM']\n",
    "\n",
    "beneficiary_2010 = pd.read_csv(\"DE1_0_2010_Beneficiary_Summary_File_Sample_1.csv\")\n",
    "beneficiary_2010['YEAR'] = 2010\n",
    "del beneficiary_2010['BENE_HMO_CVRAGE_TOT_MONS']\n",
    "del beneficiary_2010['PLAN_CVRG_MOS_NUM']\n",
    "\n",
    "frames = [beneficiary_2008, beneficiary_2009, beneficiary_2010]\n",
    "beneficiary = pd.concat(frames, sort = False)\n",
    "\n",
    "print(beneficiary.shape)\n",
    "beneficiary.dtypes"
   ]
  },
  {
   "cell_type": "markdown",
   "metadata": {},
   "source": [
    "### Step 2: Selecting eligible individuals\n"
   ]
  },
  {
   "cell_type": "code",
   "execution_count": 4,
   "metadata": {},
   "outputs": [
    {
     "data": {
      "text/plain": [
       "Text(0.5, 0, 'Months')"
      ]
     },
     "execution_count": 4,
     "metadata": {},
     "output_type": "execute_result"
    },
    {
     "data": {
      "image/png": "[encoded data removed]",
      "text/plain": [
       "<Figure size 504x504 with 2 Axes>"
      ]
     },
     "metadata": {
      "needs_background": "light"
     },
     "output_type": "display_data"
    }
   ],
   "source": [
    "#Let us first look at coverage\n",
    "fig = plt.figure()\n",
    "fig.set_figheight(7)\n",
    "fig.set_figwidth(7)\n",
    "ax1 = fig.add_subplot(2,1,1)\n",
    "ax2 = fig.add_subplot(2,1,2)\n",
    "ax1.hist(beneficiary.BENE_HI_CVRAGE_TOT_MONS)\n",
    "ax1.set_title('Distribution of coverage for inpatient services')\n",
    "ax1.set_ylabel('Number of enrollees')\n",
    "ax2.hist(beneficiary.BENE_SMI_CVRAGE_TOT_MONS)\n",
    "ax2.set_title('Distribution of coverage for outpatient services')\n",
    "ax2.set_ylabel('Number of enrollees')\n",
    "ax2.set_xlabel('Months')"
   ]
  },
  {
   "cell_type": "code",
   "execution_count": 5,
   "metadata": {},
   "outputs": [
    {
     "data": {
      "text/plain": [
       "0    0.0\n",
       "1    0.0\n",
       "2    0.0\n",
       "3    0.0\n",
       "4    0.0\n",
       "Name: BENE_DEATH_DT, dtype: float64"
      ]
     },
     "execution_count": 5,
     "metadata": {},
     "output_type": "execute_result"
    }
   ],
   "source": [
    "beneficiary.BENE_DEATH_DT.isnull().values.any()\n",
    "beneficiary.BENE_DEATH_DT.fillna(0, inplace=True)\n",
    "beneficiary.BENE_DEATH_DT.head()"
   ]
  },
  {
   "cell_type": "code",
   "execution_count": 6,
   "metadata": {},
   "outputs": [
    {
     "name": "stdout",
     "output_type": "stream",
     "text": [
      "The total number of diseased is: 5461\n",
      "BENE_HI_CVRAGE_TOT_MONS     0    1    2    3    4    5    6    7    8     9   \\\n",
      "DEATH                                                                          \n",
      "0                        18547  689  590  653  717  825  876  931  991  1145   \n",
      "1                          307    7   10    7    8   11   19   16   19    21   \n",
      "\n",
      "BENE_HI_CVRAGE_TOT_MONS    10    11      12  \n",
      "DEATH                                        \n",
      "0                        1287  1508  309424  \n",
      "1                          15    19    5002  \n",
      "The correlation between being diseased and having some coverage is:  -0.00023801238867062475\n",
      "SP_ALL       1\n",
      "DEATH         \n",
      "0       338183\n",
      "1         5461\n"
     ]
    }
   ],
   "source": [
    "#Based on the plots above, we see that the distribution of months of enrollment is very skewed.\n",
    "#Most people are enrolled for more than 12 months. \n",
    "\n",
    "#Creating a death flag\n",
    "beneficiary['DEATH'] = np.where(beneficiary['BENE_DEATH_DT']>0,1,0)\n",
    "print('The total number of diseased is:', beneficiary.DEATH.sum())\n",
    "\n",
    "beneficiary['SP_ALL'] = np.where((beneficiary['SP_ALZHDMTA']>0)\n",
    "                                 |(beneficiary['SP_CHF']>0 )\n",
    "                                 |(beneficiary['SP_CHRNKIDN']>0)\n",
    "                                 |(beneficiary['SP_CNCR']>0)\n",
    "                                 |(beneficiary['SP_COPD']>0)\n",
    "                                 |(beneficiary['SP_DEPRESSN']>0)\n",
    "                                 |(beneficiary['SP_DIABETES']>0)\n",
    "                                 |(beneficiary['SP_ISCHMCHT']>0)\n",
    "                                 |(beneficiary['SP_OSTEOPRS']>0)\n",
    "                                 |(beneficiary['SP_RA_OA']>0)\n",
    "                                 |(beneficiary['SP_STRKETIA']>0)\n",
    "                                 ,1,0)\n",
    "\n",
    "#Creating a chronic dx flag:\n",
    "\n",
    "#Creating crosstabs to look at the relationship between being dead and having full eligibility.\n",
    "print(pd.crosstab(beneficiary.DEATH, beneficiary.BENE_HI_CVRAGE_TOT_MONS))\n",
    "print(\"The correlation between being diseased and having some coverage is: \", beneficiary.DEATH.corr(beneficiary.BENE_SMI_CVRAGE_TOT_MONS))\n",
    "print(pd.crosstab(beneficiary.DEATH, beneficiary.SP_ALL))\n",
    "# For this, we could clean these variables and look at correlations. "
   ]
  },
  {
   "cell_type": "code",
   "execution_count": 7,
   "metadata": {},
   "outputs": [
    {
     "name": "stdout",
     "output_type": "stream",
     "text": [
      "(4730, 33)\n"
     ]
    }
   ],
   "source": [
    "# Selected a cohort of diseased individuals, with full eligibility. \n",
    "beneficiary_full = pd.DataFrame(beneficiary[(beneficiary.BENE_HI_CVRAGE_TOT_MONS == 12) & (beneficiary.BENE_SMI_CVRAGE_TOT_MONS == 12) & (beneficiary.DEATH ==1)])\n",
    "print(beneficiary_full.shape)"
   ]
  },
  {
   "cell_type": "code",
   "execution_count": 8,
   "metadata": {},
   "outputs": [
    {
     "data": {
      "text/html": [
       "<div>\n",
       "<style scoped>\n",
       "    .dataframe tbody tr th:only-of-type {\n",
       "        vertical-align: middle;\n",
       "    }\n",
       "\n",
       "    .dataframe tbody tr th {\n",
       "        vertical-align: top;\n",
       "    }\n",
       "\n",
       "    .dataframe thead th {\n",
       "        text-align: right;\n",
       "    }\n",
       "</style>\n",
       "<table border=\"1\" class=\"dataframe\">\n",
       "  <thead>\n",
       "    <tr style=\"text-align: right;\">\n",
       "      <th></th>\n",
       "      <th>DESYNPUF_ID</th>\n",
       "      <th>BENE_BIRTH_DT</th>\n",
       "      <th>BENE_DEATH_DT</th>\n",
       "      <th>BENE_SEX_IDENT_CD</th>\n",
       "      <th>BENE_RACE_CD</th>\n",
       "      <th>BENE_ESRD_IND</th>\n",
       "      <th>SP_STATE_CODE</th>\n",
       "      <th>BENE_COUNTY_CD</th>\n",
       "      <th>BENE_HI_CVRAGE_TOT_MONS</th>\n",
       "      <th>BENE_SMI_CVRAGE_TOT_MONS</th>\n",
       "      <th>...</th>\n",
       "      <th>MEDREIMB_CAR</th>\n",
       "      <th>BENRES_CAR</th>\n",
       "      <th>PPPYMT_CAR</th>\n",
       "      <th>YEAR</th>\n",
       "      <th>DEATH</th>\n",
       "      <th>SP_ALL</th>\n",
       "      <th>TOTAL_COST_IP</th>\n",
       "      <th>TOTAL_COST_OP</th>\n",
       "      <th>TOTAL_COST_CAR</th>\n",
       "      <th>TOTAL_COST</th>\n",
       "    </tr>\n",
       "  </thead>\n",
       "  <tbody>\n",
       "    <tr>\n",
       "      <th>118</th>\n",
       "      <td>0033C90574583C0D</td>\n",
       "      <td>19360801</td>\n",
       "      <td>20080901.0</td>\n",
       "      <td>2</td>\n",
       "      <td>1</td>\n",
       "      <td>0</td>\n",
       "      <td>49</td>\n",
       "      <td>770</td>\n",
       "      <td>12</td>\n",
       "      <td>12</td>\n",
       "      <td>...</td>\n",
       "      <td>860.0</td>\n",
       "      <td>290.0</td>\n",
       "      <td>0.0</td>\n",
       "      <td>2008</td>\n",
       "      <td>1</td>\n",
       "      <td>1</td>\n",
       "      <td>0.0</td>\n",
       "      <td>0.0</td>\n",
       "      <td>1150.0</td>\n",
       "      <td>1150.0</td>\n",
       "    </tr>\n",
       "    <tr>\n",
       "      <th>165</th>\n",
       "      <td>00521D781532612C</td>\n",
       "      <td>19370801</td>\n",
       "      <td>20080701.0</td>\n",
       "      <td>2</td>\n",
       "      <td>1</td>\n",
       "      <td>0</td>\n",
       "      <td>51</td>\n",
       "      <td>160</td>\n",
       "      <td>12</td>\n",
       "      <td>12</td>\n",
       "      <td>...</td>\n",
       "      <td>470.0</td>\n",
       "      <td>60.0</td>\n",
       "      <td>0.0</td>\n",
       "      <td>2008</td>\n",
       "      <td>1</td>\n",
       "      <td>1</td>\n",
       "      <td>0.0</td>\n",
       "      <td>640.0</td>\n",
       "      <td>530.0</td>\n",
       "      <td>1170.0</td>\n",
       "    </tr>\n",
       "    <tr>\n",
       "      <th>200</th>\n",
       "      <td>00653DC86A0E30D8</td>\n",
       "      <td>19490601</td>\n",
       "      <td>20080501.0</td>\n",
       "      <td>1</td>\n",
       "      <td>3</td>\n",
       "      <td>0</td>\n",
       "      <td>33</td>\n",
       "      <td>610</td>\n",
       "      <td>12</td>\n",
       "      <td>12</td>\n",
       "      <td>...</td>\n",
       "      <td>0.0</td>\n",
       "      <td>0.0</td>\n",
       "      <td>0.0</td>\n",
       "      <td>2008</td>\n",
       "      <td>1</td>\n",
       "      <td>1</td>\n",
       "      <td>0.0</td>\n",
       "      <td>0.0</td>\n",
       "      <td>0.0</td>\n",
       "      <td>0.0</td>\n",
       "    </tr>\n",
       "    <tr>\n",
       "      <th>214</th>\n",
       "      <td>006D438FFACFB5FD</td>\n",
       "      <td>19200601</td>\n",
       "      <td>20080101.0</td>\n",
       "      <td>2</td>\n",
       "      <td>2</td>\n",
       "      <td>0</td>\n",
       "      <td>5</td>\n",
       "      <td>470</td>\n",
       "      <td>12</td>\n",
       "      <td>12</td>\n",
       "      <td>...</td>\n",
       "      <td>0.0</td>\n",
       "      <td>0.0</td>\n",
       "      <td>0.0</td>\n",
       "      <td>2008</td>\n",
       "      <td>1</td>\n",
       "      <td>1</td>\n",
       "      <td>0.0</td>\n",
       "      <td>0.0</td>\n",
       "      <td>0.0</td>\n",
       "      <td>0.0</td>\n",
       "    </tr>\n",
       "    <tr>\n",
       "      <th>253</th>\n",
       "      <td>0083EA0267C0F7CA</td>\n",
       "      <td>19351201</td>\n",
       "      <td>20080201.0</td>\n",
       "      <td>1</td>\n",
       "      <td>1</td>\n",
       "      <td>0</td>\n",
       "      <td>33</td>\n",
       "      <td>331</td>\n",
       "      <td>12</td>\n",
       "      <td>12</td>\n",
       "      <td>...</td>\n",
       "      <td>0.0</td>\n",
       "      <td>0.0</td>\n",
       "      <td>0.0</td>\n",
       "      <td>2008</td>\n",
       "      <td>1</td>\n",
       "      <td>1</td>\n",
       "      <td>0.0</td>\n",
       "      <td>0.0</td>\n",
       "      <td>0.0</td>\n",
       "      <td>0.0</td>\n",
       "    </tr>\n",
       "  </tbody>\n",
       "</table>\n",
       "<p>5 rows × 37 columns</p>\n",
       "</div>"
      ],
      "text/plain": [
       "          DESYNPUF_ID  BENE_BIRTH_DT  BENE_DEATH_DT  BENE_SEX_IDENT_CD  \\\n",
       "118  0033C90574583C0D       19360801     20080901.0                  2   \n",
       "165  00521D781532612C       19370801     20080701.0                  2   \n",
       "200  00653DC86A0E30D8       19490601     20080501.0                  1   \n",
       "214  006D438FFACFB5FD       19200601     20080101.0                  2   \n",
       "253  0083EA0267C0F7CA       19351201     20080201.0                  1   \n",
       "\n",
       "     BENE_RACE_CD BENE_ESRD_IND  SP_STATE_CODE  BENE_COUNTY_CD  \\\n",
       "118             1             0             49             770   \n",
       "165             1             0             51             160   \n",
       "200             3             0             33             610   \n",
       "214             2             0              5             470   \n",
       "253             1             0             33             331   \n",
       "\n",
       "     BENE_HI_CVRAGE_TOT_MONS  BENE_SMI_CVRAGE_TOT_MONS  ...  MEDREIMB_CAR  \\\n",
       "118                       12                        12  ...         860.0   \n",
       "165                       12                        12  ...         470.0   \n",
       "200                       12                        12  ...           0.0   \n",
       "214                       12                        12  ...           0.0   \n",
       "253                       12                        12  ...           0.0   \n",
       "\n",
       "     BENRES_CAR  PPPYMT_CAR  YEAR  DEATH  SP_ALL  TOTAL_COST_IP  \\\n",
       "118       290.0         0.0  2008      1       1            0.0   \n",
       "165        60.0         0.0  2008      1       1            0.0   \n",
       "200         0.0         0.0  2008      1       1            0.0   \n",
       "214         0.0         0.0  2008      1       1            0.0   \n",
       "253         0.0         0.0  2008      1       1            0.0   \n",
       "\n",
       "     TOTAL_COST_OP  TOTAL_COST_CAR  TOTAL_COST  \n",
       "118            0.0          1150.0      1150.0  \n",
       "165          640.0           530.0      1170.0  \n",
       "200            0.0             0.0         0.0  \n",
       "214            0.0             0.0         0.0  \n",
       "253            0.0             0.0         0.0  \n",
       "\n",
       "[5 rows x 37 columns]"
      ]
     },
     "execution_count": 8,
     "metadata": {},
     "output_type": "execute_result"
    }
   ],
   "source": [
    "#Creating cost variables\n",
    "beneficiary_full['TOTAL_COST_IP'] = beneficiary_full['MEDREIMB_IP'] + beneficiary_full['BENRES_IP'] + beneficiary_full['PPPYMT_IP']\n",
    "beneficiary_full['TOTAL_COST_OP'] = beneficiary_full['MEDREIMB_OP'] + beneficiary_full['BENRES_OP'] + beneficiary_full['PPPYMT_OP']\n",
    "beneficiary_full['TOTAL_COST_CAR'] = beneficiary_full['MEDREIMB_CAR'] + beneficiary_full['BENRES_CAR'] + beneficiary_full['PPPYMT_CAR']\n",
    "beneficiary_full['TOTAL_COST'] = beneficiary_full['TOTAL_COST_IP'] + beneficiary_full['TOTAL_COST_OP'] + beneficiary_full['TOTAL_COST_CAR']\n",
    "beneficiary_full.head()\n"
   ]
  },
  {
   "cell_type": "code",
   "execution_count": 9,
   "metadata": {},
   "outputs": [
    {
     "name": "stdout",
     "output_type": "stream",
     "text": [
      "count      4730.000000\n",
      "mean       1249.919239\n",
      "std        6174.237967\n",
      "min           0.000000\n",
      "25%           0.000000\n",
      "50%           0.000000\n",
      "75%           0.000000\n",
      "max      136296.000000\n",
      "Name: TOTAL_COST_IP, dtype: float64\n",
      "count     4730.000000\n",
      "mean       460.890063\n",
      "std       1759.175358\n",
      "min        -30.000000\n",
      "25%          0.000000\n",
      "50%          0.000000\n",
      "75%        260.000000\n",
      "max      61650.000000\n",
      "Name: TOTAL_COST_OP, dtype: float64\n",
      "count     4730.000000\n",
      "mean       774.794926\n",
      "std       1177.773278\n",
      "min          0.000000\n",
      "25%          0.000000\n",
      "50%        300.000000\n",
      "75%       1100.000000\n",
      "max      17070.000000\n",
      "Name: TOTAL_COST_CAR, dtype: float64\n"
     ]
    }
   ],
   "source": [
    "print(beneficiary_full['TOTAL_COST_IP'].describe())\n",
    "print(beneficiary_full['TOTAL_COST_OP'].describe())\n",
    "print(beneficiary_full['TOTAL_COST_CAR'].describe())"
   ]
  },
  {
   "cell_type": "code",
   "execution_count": 10,
   "metadata": {},
   "outputs": [
    {
     "data": {
      "text/plain": [
       "Text(0.5, 1.0, 'Other insurance inpatient costs')"
      ]
     },
     "execution_count": 10,
     "metadata": {},
     "output_type": "execute_result"
    },
    {
     "data": {
      "image/png": "[encoded data removed]",
      "text/plain": [
       "<Figure size 504x504 with 4 Axes>"
      ]
     },
     "metadata": {
      "needs_background": "light"
     },
     "output_type": "display_data"
    }
   ],
   "source": [
    "#calculate full costs\n",
    "#beneficiary_full['TOTAL_COST_IP'] = beneficiary_full['MEDREIMB_IP'] + beneficiary_full['BENRES_IP'] + beneficiary_full['PPPYMT_IP']\n",
    "\n",
    "fig = plt.figure()\n",
    "fig.set_figheight(7)\n",
    "fig.set_figwidth(7)\n",
    "ax1 = fig.add_subplot(2,2,1)\n",
    "ax2 = fig.add_subplot(2,2,2)\n",
    "ax3 = fig.add_subplot(2,2,3)\n",
    "ax4 = fig.add_subplot(2,2,4)\n",
    "ax1.hist(beneficiary_full.TOTAL_COST_IP)\n",
    "ax1.set_title('Total inpatient costs')\n",
    "ax2.hist(beneficiary_full.MEDREIMB_IP)\n",
    "ax2.set_title('Medicare inpatient costs')\n",
    "ax3.hist(beneficiary_full.BENRES_IP)\n",
    "ax3.set_title('OOP inpatient costs')\n",
    "ax4.hist(beneficiary_full.PPPYMT_IP)\n",
    "ax4.set_title('Other insurance inpatient costs')"
   ]
  },
  {
   "cell_type": "code",
   "execution_count": 11,
   "metadata": {},
   "outputs": [
    {
     "data": {
      "text/plain": [
       "<matplotlib.collections.PathCollection at 0x11f7ab9e8>"
      ]
     },
     "execution_count": 11,
     "metadata": {},
     "output_type": "execute_result"
    },
    {
     "data": {
      "image/png": "[encoded data removed]",
      "text/plain": [
       "<Figure size 432x288 with 1 Axes>"
      ]
     },
     "metadata": {
      "needs_background": "light"
     },
     "output_type": "display_data"
    }
   ],
   "source": [
    "plt.scatter(beneficiary_full.TOTAL_COST_IP,beneficiary_full.TOTAL_COST_OP)"
   ]
  },
  {
   "cell_type": "code",
   "execution_count": 12,
   "metadata": {},
   "outputs": [
    {
     "data": {
      "text/plain": [
       "<matplotlib.axes._subplots.AxesSubplot at 0x11f895da0>"
      ]
     },
     "execution_count": 12,
     "metadata": {},
     "output_type": "execute_result"
    },
    {
     "data": {
      "image/png": "[encoded data removed]",
      "text/plain": [
       "<Figure size 432x288 with 1 Axes>"
      ]
     },
     "metadata": {
      "needs_background": "light"
     },
     "output_type": "display_data"
    }
   ],
   "source": [
    "beneficiary_full.loc[(beneficiary_full.TOTAL_COST_IP > 0) & (beneficiary_full.TOTAL_COST_OP > 0), ['TOTAL_COST_IP','TOTAL_COST_OP']].plot(title='IP> $0, OP >$0')\n",
    "\n"
   ]
  },
  {
   "cell_type": "code",
   "execution_count": 14,
   "metadata": {},
   "outputs": [
    {
     "data": {
      "text/plain": [
       "array([[<matplotlib.axes._subplots.AxesSubplot object at 0x11ebc4630>,\n",
       "        <matplotlib.axes._subplots.AxesSubplot object at 0x11fd6e4a8>]],\n",
       "      dtype=object)"
      ]
     },
     "execution_count": 14,
     "metadata": {},
     "output_type": "execute_result"
    },
    {
     "data": {
      "image/png": "[encoded data removed]",
      "text/plain": [
       "<Figure size 432x288 with 2 Axes>"
      ]
     },
     "metadata": {
      "needs_background": "light"
     },
     "output_type": "display_data"
    }
   ],
   "source": [
    "beneficiary_full.loc[(beneficiary_full.TOTAL_COST_IP > 0) & (beneficiary_full.TOTAL_COST_OP > 0), ['TOTAL_COST_IP','TOTAL_COST_OP']].hist()\n"
   ]
  },
  {
   "cell_type": "code",
   "execution_count": null,
   "metadata": {},
   "outputs": [],
   "source": []
  }
 ],
 "metadata": {
  "kernelspec": {
   "display_name": "Python 3",
   "language": "python",
   "name": "python3"
  },
  "language_info": {
   "codemirror_mode": {
    "name": "ipython",
    "version": 3
   },
   "file_extension": ".py",
   "mimetype": "text/x-python",
   "name": "python",
   "nbconvert_exporter": "python",
   "pygments_lexer": "ipython3",
   "version": "3.7.3"
  }
 },
 "nbformat": 4,
 "nbformat_minor": 2
}
