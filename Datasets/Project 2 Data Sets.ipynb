{
 "cells": [
  {
   "cell_type": "markdown",
   "metadata": {},
   "source": [
    "*(1) Primary Data Set: Medicare synthetic files for Inpatient, Outpatient and Beneficiary Claims*\n",
    "\n",
    "File names: \n",
    "\n",
    "  DE1_0_2008_to_2010_Inpatient_Claims_Sample_1.csv\n",
    "  DE1_0_2008_to_2010_Outpatient_Claims_Sample_1.csv\n",
    "  DE1_0_2008_Beneficiary_Summary_File_Sample_1.csv\n",
    "\n",
    "Source: https://www.cms.gov/Research-Statistics-Data-and-Systems/Downloadable-Public-Use-Files/SynPUFs/DE_Syn_PUF.html\n",
    "\n",
    "\n",
    "*(2) Enrichment Data Set 1: Hospice compare data set*\n",
    "\n",
    "File names: \n",
    "\n",
    "Hospice_Compare_-_Provider_CAHPS_Hospice_Survey_Data.csv\n",
    "  [TBU]\n",
    "\n",
    "Source: https://data.medicare.gov/data/hospice-compare\n",
    "\n",
    "\n",
    "*(3) Enrichment Data Set 2: Zip Code Characteristics: Mean and Median Household Income*\n",
    "\n",
    "File name: MedianZIP-3.xlsx, \"nation\" worksheet\n",
    "\n",
    "Source: https://www.psc.isr.umich.edu/dis/census/Features/tract2zip/\n",
    "\n",
    "\n",
    "*(4) Enrichment Data Set 3: Mapping of FIPS state and county to ZIP code\n",
    "File name: ZIP-COUNTY-FIPS_2017-06.csv*\n",
    "\n",
    "Source: https://www.kaggle.com/danofer/zipcodes-county-fips-crosswalk\n",
    "\n",
    "Other reference on how to reconstruct income by zip code from census data:\n",
    "http://junjaytan.com/blog/income-by-zip-code-census-data/\n"
   ]
  },
  {
   "cell_type": "code",
   "execution_count": null,
   "metadata": {},
   "outputs": [],
   "source": []
  },
  {
   "cell_type": "code",
   "execution_count": null,
   "metadata": {},
   "outputs": [],
   "source": []
  },
  {
   "cell_type": "code",
   "execution_count": null,
   "metadata": {},
   "outputs": [],
   "source": []
  }
 ],
 "metadata": {
  "kernelspec": {
   "display_name": "Python 3",
   "language": "python",
   "name": "python3"
  },
  "language_info": {
   "codemirror_mode": {
    "name": "ipython",
    "version": 3
   },
   "file_extension": ".py",
   "mimetype": "text/x-python",
   "name": "python",
   "nbconvert_exporter": "python",
   "pygments_lexer": "ipython3",
   "version": "3.7.3"
  }
 },
 "nbformat": 4,
 "nbformat_minor": 2
}
